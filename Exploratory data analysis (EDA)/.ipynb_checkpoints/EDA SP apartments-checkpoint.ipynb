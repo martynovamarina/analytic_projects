{
 "cells": [
  {
   "cell_type": "markdown",
   "metadata": {},
   "source": [
    "# Исследование объявлений о продаже квартир в Санкт-Петербурге\n",
    "\n",
    "В нашем распоряжении данные сервиса Яндекс.Недвижимость — архив объявлений о продаже квартир в Санкт-Петербурге и соседних населённых пунктов за несколько лет. Необходимо определять рыночную стоимость объектов недвижимости. \n",
    "\n",
    "Задача — установить параметры. Это позволит построить автоматизированную систему: она отследит аномалии и мошенническую деятельность. \n",
    "\n",
    "По каждой квартире на продажу доступны два вида данных. Первые вписаны пользователем, вторые — получены автоматически на основе картографических данных. Например, расстояние до центра, аэропорта, ближайшего парка и водоёма. "
   ]
  },
  {
   "cell_type": "markdown",
   "metadata": {},
   "source": [
    "## Сценарий выполнения проекта\n",
    "\n",
    "### Шаг 1. Загрузка и изучение данных\n",
    "Путь к файлу:\n",
    "/datasets/real_estate_data.csv. Датасет содержит данные о клиентах сервиса Яндекс.Недвижимость.\n",
    "\n",
    "Описание данных\n",
    "\n",
    "- total_images — количество детей в семье\n",
    "- last_price — цена на момент снятия с публикации\n",
    "- total_area — площадь квартиры в квадратных метрах (м²)\n",
    "- first_day_exposition — дата публикации\n",
    "- rooms — число комнат\n",
    "- ceiling_height — высота потолков (м)\n",
    "- floors_total — всего этажей в доме\n",
    "- living_area — жилая площадь в квадратных метрах(м²)\n",
    "- floor — этаж\n",
    "- is_apartment — апартаменты (булев тип)\n",
    "- studio — квартира-студия (булев тип)\n",
    "- open_plan — свободная планировка (булев тип)\n",
    "- kitchen_area — площадь кухни в квадратных метрах (м²)\n",
    "- balcony — число балконов\n",
    "- locality_name — название населённого пункта\n",
    "- airports_nearest — расстояние до ближайшего аэропорта в метрах (м)\n",
    "- cityCenters_nearest — расстояние до центра города (м)\n",
    "- parks_around3000 — число парков в радиусе 3 км\n",
    "- parks_nearest — расстояние до ближайшего парка (м)\n",
    "- ponds_around3000 — число водоёмов в радиусе 3 км\n",
    "- ponds_nearest — расстояние до ближайшего водоёма (м)\n",
    "- days_exposition — сколько дней было размещено объявление (от публикации до снятия)\n",
    "Пояснение: апартаменты — это нежилые помещения, не относящиеся к жилому фонду, но имеющие необходимые условия для проживания.\n",
    "\n",
    "### Шаг 2. Предобработка данных\n",
    "- Обработка пропусков\n",
    "- Замена типа данных\n",
    "- Обработка дубликатов\n",
    "\n",
    "### Шаг 3. Расчёты и добавление результатов в таблицу\n",
    "3.1. Посчитать и добавить в таблицу цену квадратного метра\n",
    "3.2. Посчитать и добавить в таблицу день недели, месяц и год публикации объявления\n",
    "3.3. Посчитать и добавить в таблицу этаж квартиры (варианты — первый, последний, другой)\n",
    "\n",
    "### Шаг 4. Исследовательский анализ данных (EDA)\n",
    "4.1. Изучить следующие параметры: площадь, цена, число комнат, высота потолков\n",
    "Построить гистограммы для каждого параметра.\n",
    "4.2. Изучить время продажи квартиры\n",
    "Построить гистограмму. Посчитать среднее и медиану. Описать, сколько обычно занимает продажа. Когда можно считать, что продажи прошли очень быстро, а когда необычно долго?\n",
    "4.3. Убрать редкие и выбивающиеся значения\n",
    "Описать, какие особенности были обнаружены.\n",
    "4.4. Выяснить какие факторы больше всего влияют на стоимость квартиры\n",
    "Изучить, зависит ли цена от площади, числа комнат, удалённости от центра. Изучить зависимость цены от того, на каком этаже расположена квартира: первом, последнем или другом. Также изучить зависимость от даты размещения: дня недели, месяца и года.\n",
    "4.5. Выбрать 10 населённых пунктов с наибольшим числом объявлений\n",
    "Посчитать среднюю цену квадратного метра в этих населённых пунктах. Выделить населённые пункты с самой высокой и низкой стоимостью жилья. Эти данные можно найти по имени в столбце locality_name.\n",
    "4.6. Изучить предложения квартир: для каждой квартиры есть информация о расстоянии до центра\n",
    "Выделить квартиры в Санкт-Петербурге (locality_name). Наша задача — выяснить, какая область входит в центр. Создать столбец с расстоянием до центра в километрах: округлить до целых значений. После этого посчитать среднюю цену для каждого километра. Построить график: он должен показывать, как цена зависит от удалённости от центра. Определить границу, где график сильно меняется, — это и будет центральная зона.\n",
    "4.7. Выделить сегмент квартир в центре\n",
    "Необходимо проанализировать эту территорию и изучить следующие параметры: площадь, цена, число комнат, высота потолков. Также выделить факторы, которые влияют на стоимость квартиры (число комнат, этаж, удалённость от центра, дата размещения объявления). Сделать выводы. Отличаются ли они от общих выводов по всему городу?\n",
    "\n",
    "### Шаг 5. Общий вывод\n",
    "Изложить свои выводы и идеи по проекту"
   ]
  },
  {
   "cell_type": "markdown",
   "metadata": {},
   "source": [
    "## Шаг 1. Загрузка и изучение данных"
   ]
  },
  {
   "cell_type": "code",
   "execution_count": 2,
   "metadata": {},
   "outputs": [
    {
     "data": {
      "text/html": [
       "<div>\n",
       "<style scoped>\n",
       "    .dataframe tbody tr th:only-of-type {\n",
       "        vertical-align: middle;\n",
       "    }\n",
       "\n",
       "    .dataframe tbody tr th {\n",
       "        vertical-align: top;\n",
       "    }\n",
       "\n",
       "    .dataframe thead th {\n",
       "        text-align: right;\n",
       "    }\n",
       "</style>\n",
       "<table border=\"1\" class=\"dataframe\">\n",
       "  <thead>\n",
       "    <tr style=\"text-align: right;\">\n",
       "      <th></th>\n",
       "      <th>total_images</th>\n",
       "      <th>last_price</th>\n",
       "      <th>total_area</th>\n",
       "      <th>first_day_exposition</th>\n",
       "      <th>rooms</th>\n",
       "      <th>ceiling_height</th>\n",
       "      <th>floors_total</th>\n",
       "      <th>living_area</th>\n",
       "      <th>floor</th>\n",
       "      <th>is_apartment</th>\n",
       "      <th>...</th>\n",
       "      <th>kitchen_area</th>\n",
       "      <th>balcony</th>\n",
       "      <th>locality_name</th>\n",
       "      <th>airports_nearest</th>\n",
       "      <th>cityCenters_nearest</th>\n",
       "      <th>parks_around3000</th>\n",
       "      <th>parks_nearest</th>\n",
       "      <th>ponds_around3000</th>\n",
       "      <th>ponds_nearest</th>\n",
       "      <th>days_exposition</th>\n",
       "    </tr>\n",
       "  </thead>\n",
       "  <tbody>\n",
       "    <tr>\n",
       "      <th>0</th>\n",
       "      <td>20</td>\n",
       "      <td>13000000.0</td>\n",
       "      <td>108.0</td>\n",
       "      <td>2019-03-07T00:00:00</td>\n",
       "      <td>3</td>\n",
       "      <td>2.70</td>\n",
       "      <td>16.0</td>\n",
       "      <td>51.0</td>\n",
       "      <td>8</td>\n",
       "      <td>NaN</td>\n",
       "      <td>...</td>\n",
       "      <td>25.0</td>\n",
       "      <td>NaN</td>\n",
       "      <td>Санкт-Петербург</td>\n",
       "      <td>18863.0</td>\n",
       "      <td>16028.0</td>\n",
       "      <td>1.0</td>\n",
       "      <td>482.0</td>\n",
       "      <td>2.0</td>\n",
       "      <td>755.0</td>\n",
       "      <td>NaN</td>\n",
       "    </tr>\n",
       "    <tr>\n",
       "      <th>1</th>\n",
       "      <td>7</td>\n",
       "      <td>3350000.0</td>\n",
       "      <td>40.4</td>\n",
       "      <td>2018-12-04T00:00:00</td>\n",
       "      <td>1</td>\n",
       "      <td>NaN</td>\n",
       "      <td>11.0</td>\n",
       "      <td>18.6</td>\n",
       "      <td>1</td>\n",
       "      <td>NaN</td>\n",
       "      <td>...</td>\n",
       "      <td>11.0</td>\n",
       "      <td>2.0</td>\n",
       "      <td>посёлок Шушары</td>\n",
       "      <td>12817.0</td>\n",
       "      <td>18603.0</td>\n",
       "      <td>0.0</td>\n",
       "      <td>NaN</td>\n",
       "      <td>0.0</td>\n",
       "      <td>NaN</td>\n",
       "      <td>81.0</td>\n",
       "    </tr>\n",
       "    <tr>\n",
       "      <th>2</th>\n",
       "      <td>10</td>\n",
       "      <td>5196000.0</td>\n",
       "      <td>56.0</td>\n",
       "      <td>2015-08-20T00:00:00</td>\n",
       "      <td>2</td>\n",
       "      <td>NaN</td>\n",
       "      <td>5.0</td>\n",
       "      <td>34.3</td>\n",
       "      <td>4</td>\n",
       "      <td>NaN</td>\n",
       "      <td>...</td>\n",
       "      <td>8.3</td>\n",
       "      <td>0.0</td>\n",
       "      <td>Санкт-Петербург</td>\n",
       "      <td>21741.0</td>\n",
       "      <td>13933.0</td>\n",
       "      <td>1.0</td>\n",
       "      <td>90.0</td>\n",
       "      <td>2.0</td>\n",
       "      <td>574.0</td>\n",
       "      <td>558.0</td>\n",
       "    </tr>\n",
       "    <tr>\n",
       "      <th>3</th>\n",
       "      <td>0</td>\n",
       "      <td>64900000.0</td>\n",
       "      <td>159.0</td>\n",
       "      <td>2015-07-24T00:00:00</td>\n",
       "      <td>3</td>\n",
       "      <td>NaN</td>\n",
       "      <td>14.0</td>\n",
       "      <td>NaN</td>\n",
       "      <td>9</td>\n",
       "      <td>NaN</td>\n",
       "      <td>...</td>\n",
       "      <td>NaN</td>\n",
       "      <td>0.0</td>\n",
       "      <td>Санкт-Петербург</td>\n",
       "      <td>28098.0</td>\n",
       "      <td>6800.0</td>\n",
       "      <td>2.0</td>\n",
       "      <td>84.0</td>\n",
       "      <td>3.0</td>\n",
       "      <td>234.0</td>\n",
       "      <td>424.0</td>\n",
       "    </tr>\n",
       "    <tr>\n",
       "      <th>4</th>\n",
       "      <td>2</td>\n",
       "      <td>10000000.0</td>\n",
       "      <td>100.0</td>\n",
       "      <td>2018-06-19T00:00:00</td>\n",
       "      <td>2</td>\n",
       "      <td>3.03</td>\n",
       "      <td>14.0</td>\n",
       "      <td>32.0</td>\n",
       "      <td>13</td>\n",
       "      <td>NaN</td>\n",
       "      <td>...</td>\n",
       "      <td>41.0</td>\n",
       "      <td>NaN</td>\n",
       "      <td>Санкт-Петербург</td>\n",
       "      <td>31856.0</td>\n",
       "      <td>8098.0</td>\n",
       "      <td>2.0</td>\n",
       "      <td>112.0</td>\n",
       "      <td>1.0</td>\n",
       "      <td>48.0</td>\n",
       "      <td>121.0</td>\n",
       "    </tr>\n",
       "  </tbody>\n",
       "</table>\n",
       "<p>5 rows × 22 columns</p>\n",
       "</div>"
      ],
      "text/plain": [
       "   total_images  last_price  total_area first_day_exposition  rooms  \\\n",
       "0            20  13000000.0       108.0  2019-03-07T00:00:00      3   \n",
       "1             7   3350000.0        40.4  2018-12-04T00:00:00      1   \n",
       "2            10   5196000.0        56.0  2015-08-20T00:00:00      2   \n",
       "3             0  64900000.0       159.0  2015-07-24T00:00:00      3   \n",
       "4             2  10000000.0       100.0  2018-06-19T00:00:00      2   \n",
       "\n",
       "   ceiling_height  floors_total  living_area  floor is_apartment  ...  \\\n",
       "0            2.70          16.0         51.0      8          NaN  ...   \n",
       "1             NaN          11.0         18.6      1          NaN  ...   \n",
       "2             NaN           5.0         34.3      4          NaN  ...   \n",
       "3             NaN          14.0          NaN      9          NaN  ...   \n",
       "4            3.03          14.0         32.0     13          NaN  ...   \n",
       "\n",
       "   kitchen_area  balcony    locality_name  airports_nearest  \\\n",
       "0          25.0      NaN  Санкт-Петербург           18863.0   \n",
       "1          11.0      2.0   посёлок Шушары           12817.0   \n",
       "2           8.3      0.0  Санкт-Петербург           21741.0   \n",
       "3           NaN      0.0  Санкт-Петербург           28098.0   \n",
       "4          41.0      NaN  Санкт-Петербург           31856.0   \n",
       "\n",
       "  cityCenters_nearest  parks_around3000  parks_nearest  ponds_around3000  \\\n",
       "0             16028.0               1.0          482.0               2.0   \n",
       "1             18603.0               0.0            NaN               0.0   \n",
       "2             13933.0               1.0           90.0               2.0   \n",
       "3              6800.0               2.0           84.0               3.0   \n",
       "4              8098.0               2.0          112.0               1.0   \n",
       "\n",
       "   ponds_nearest  days_exposition  \n",
       "0          755.0              NaN  \n",
       "1            NaN             81.0  \n",
       "2          574.0            558.0  \n",
       "3          234.0            424.0  \n",
       "4           48.0            121.0  \n",
       "\n",
       "[5 rows x 22 columns]"
      ]
     },
     "execution_count": 2,
     "metadata": {},
     "output_type": "execute_result"
    }
   ],
   "source": [
    "import pandas as pd\n",
    "import numpy as np\n",
    "import matplotlib.pyplot as plt\n",
    "data = pd.read_csv('/datasets/real_estate_data.csv', sep='\\t')\n",
    "data.head()"
   ]
  },
  {
   "cell_type": "markdown",
   "metadata": {},
   "source": [
    "### Шаг 2. Предобработка данных"
   ]
  },
  {
   "cell_type": "code",
   "execution_count": 3,
   "metadata": {
    "scrolled": true
   },
   "outputs": [
    {
     "name": "stdout",
     "output_type": "stream",
     "text": [
      "<class 'pandas.core.frame.DataFrame'>\n",
      "RangeIndex: 23699 entries, 0 to 23698\n",
      "Data columns (total 22 columns):\n",
      " #   Column                Non-Null Count  Dtype  \n",
      "---  ------                --------------  -----  \n",
      " 0   total_images          23699 non-null  int64  \n",
      " 1   last_price            23699 non-null  float64\n",
      " 2   total_area            23699 non-null  float64\n",
      " 3   first_day_exposition  23699 non-null  object \n",
      " 4   rooms                 23699 non-null  int64  \n",
      " 5   ceiling_height        14504 non-null  float64\n",
      " 6   floors_total          23613 non-null  float64\n",
      " 7   living_area           21796 non-null  float64\n",
      " 8   floor                 23699 non-null  int64  \n",
      " 9   is_apartment          2775 non-null   object \n",
      " 10  studio                23699 non-null  bool   \n",
      " 11  open_plan             23699 non-null  bool   \n",
      " 12  kitchen_area          21421 non-null  float64\n",
      " 13  balcony               12180 non-null  float64\n",
      " 14  locality_name         23650 non-null  object \n",
      " 15  airports_nearest      18157 non-null  float64\n",
      " 16  cityCenters_nearest   18180 non-null  float64\n",
      " 17  parks_around3000      18181 non-null  float64\n",
      " 18  parks_nearest         8079 non-null   float64\n",
      " 19  ponds_around3000      18181 non-null  float64\n",
      " 20  ponds_nearest         9110 non-null   float64\n",
      " 21  days_exposition       20518 non-null  float64\n",
      "dtypes: bool(2), float64(14), int64(3), object(3)\n",
      "memory usage: 3.7+ MB\n"
     ]
    },
    {
     "data": {
      "image/png": "[encoded data removed]",
      "text/plain": [
       "<Figure size 1080x1440 with 20 Axes>"
      ]
     },
     "metadata": {
      "needs_background": "light"
     },
     "output_type": "display_data"
    }
   ],
   "source": [
    "data.info()\n",
    "data.hist(figsize=(15, 20));"
   ]
  },
  {
   "cell_type": "code",
   "execution_count": 4,
   "metadata": {},
   "outputs": [
    {
     "data": {
      "text/plain": [
       "total_images                0\n",
       "last_price                  0\n",
       "total_area                  0\n",
       "first_day_exposition        0\n",
       "rooms                       0\n",
       "ceiling_height           9195\n",
       "floors_total               86\n",
       "living_area              1903\n",
       "floor                       0\n",
       "is_apartment            20924\n",
       "studio                      0\n",
       "open_plan                   0\n",
       "kitchen_area             2278\n",
       "balcony                 11519\n",
       "locality_name              49\n",
       "airports_nearest         5542\n",
       "city_centers_nearest     5519\n",
       "parks_around3000         5518\n",
       "parks_nearest           15620\n",
       "ponds_around3000         5518\n",
       "ponds_nearest           14589\n",
       "days_exposition          3181\n",
       "dtype: int64"
      ]
     },
     "execution_count": 4,
     "metadata": {},
     "output_type": "execute_result"
    }
   ],
   "source": [
    "data.rename(columns={'cityCenters_nearest' : 'city_centers_nearest'}, inplace=True)\n",
    "data.isna().sum()\n"
   ]
  },
  {
   "cell_type": "code",
   "execution_count": 56,
   "metadata": {},
   "outputs": [
    {
     "name": "stdout",
     "output_type": "stream",
     "text": [
      "\n",
      "Число дубликатов: 0\n"
     ]
    }
   ],
   "source": [
    "print('\\nЧисло дубликатов:', data.duplicated().sum())"
   ]
  },
  {
   "cell_type": "markdown",
   "metadata": {},
   "source": [
    "Описание NULL значений\n",
    "Всего значений 23699\n",
    "9195 ceiling_height - пропущена высота потолков, оставляем Null, данных нет.\n",
    "86 floors_total - всего этажей, данные не заполнены из выборки, оставляем так как есть.\n",
    "1903 living_area - жилая площадь не заполнена, оставляем без изменений.\n",
    "2775 is_apartment - присвоим False, так как раз это не апартаменты ,значит что-то другое.\n",
    "2278 kitchen_area - площадь кухни не заполнена, возможно эта кухня-гостиная, проверить бы хорошо было бы. Если нет, то оставим Null.\n",
    "11519 balcony - нет балконов, скорей всего нет их просто, присвоим значение 0. \n",
    "49 locality_name - название местности, данных нет, не заполнено. Оставим Null\n",
    "5542 airports_nearest - ближлежащие аэропорты, видимо их нет рядом. Оставлю Null\n",
    "5519 city_centers_nearest - центр города не близко, без изменений- Null\n",
    "5518 parks_around3000 - наличия парка в ближайшие 3000 метров. Заменим на 0\n",
    "15620 parks_nearest - парков нет, Null без изменений\n",
    "5518 ponds_around3000 - прудов нет в радиусе 3000 метров, заменю на ноль\n",
    "14589 ponds_nearest - нет прудов рядом, оставим без изменений\n",
    "3181 days_exposition - объявлений не было опубликовано, данные без изменения- Null"
   ]
  },
  {
   "cell_type": "code",
   "execution_count": 5,
   "metadata": {},
   "outputs": [
    {
     "data": {
      "text/plain": [
       "total_images                0\n",
       "last_price                  0\n",
       "total_area                  0\n",
       "first_day_exposition        0\n",
       "rooms                       0\n",
       "ceiling_height           9195\n",
       "floors_total               86\n",
       "living_area                 0\n",
       "floor                       0\n",
       "is_apartment            20924\n",
       "studio                      0\n",
       "open_plan                   0\n",
       "kitchen_area                0\n",
       "balcony                 11519\n",
       "locality_name              49\n",
       "airports_nearest         5542\n",
       "city_centers_nearest     5519\n",
       "parks_around3000         5518\n",
       "parks_nearest           15620\n",
       "ponds_around3000         5518\n",
       "ponds_nearest           14589\n",
       "days_exposition          3181\n",
       "dtype: int64"
      ]
     },
     "execution_count": 5,
     "metadata": {},
     "output_type": "execute_result"
    }
   ],
   "source": [
    "# Заменяю пустые значения жилой площади и площади кухни\n",
    "living_new = data['living_area'].mean() / data['total_area'].mean()\n",
    "kitchen_new = data['kitchen_area'].mean() / data['total_area'].mean()\n",
    "data['living_area'].fillna(living_new* data['total_area'], inplace=True)\n",
    "data['kitchen_area'].fillna(kitchen_new* data['total_area'], inplace=True)\n",
    "\n",
    "# Проверяем количество пропущенных значений\n",
    "data.isnull().sum()"
   ]
  },
  {
   "cell_type": "code",
   "execution_count": 7,
   "metadata": {
    "scrolled": true
   },
   "outputs": [
    {
     "data": {
      "text/html": [
       "<div>\n",
       "<style scoped>\n",
       "    .dataframe tbody tr th:only-of-type {\n",
       "        vertical-align: middle;\n",
       "    }\n",
       "\n",
       "    .dataframe tbody tr th {\n",
       "        vertical-align: top;\n",
       "    }\n",
       "\n",
       "    .dataframe thead th {\n",
       "        text-align: right;\n",
       "    }\n",
       "</style>\n",
       "<table border=\"1\" class=\"dataframe\">\n",
       "  <thead>\n",
       "    <tr style=\"text-align: right;\">\n",
       "      <th></th>\n",
       "      <th>total_images</th>\n",
       "      <th>last_price</th>\n",
       "      <th>total_area</th>\n",
       "      <th>first_day_exposition</th>\n",
       "      <th>rooms</th>\n",
       "      <th>ceiling_height</th>\n",
       "      <th>floors_total</th>\n",
       "      <th>living_area</th>\n",
       "      <th>floor</th>\n",
       "      <th>is_apartment</th>\n",
       "      <th>...</th>\n",
       "      <th>kitchen_area</th>\n",
       "      <th>balcony</th>\n",
       "      <th>locality_name</th>\n",
       "      <th>airports_nearest</th>\n",
       "      <th>city_centers_nearest</th>\n",
       "      <th>parks_around3000</th>\n",
       "      <th>parks_nearest</th>\n",
       "      <th>ponds_around3000</th>\n",
       "      <th>ponds_nearest</th>\n",
       "      <th>days_exposition</th>\n",
       "    </tr>\n",
       "  </thead>\n",
       "  <tbody>\n",
       "    <tr>\n",
       "      <th>23689</th>\n",
       "      <td>13</td>\n",
       "      <td>3550000</td>\n",
       "      <td>35.30</td>\n",
       "      <td>2018-02-28</td>\n",
       "      <td>1</td>\n",
       "      <td>2.86</td>\n",
       "      <td>15.0</td>\n",
       "      <td>16.300000</td>\n",
       "      <td>4</td>\n",
       "      <td>False</td>\n",
       "      <td>...</td>\n",
       "      <td>9.100000</td>\n",
       "      <td>2</td>\n",
       "      <td>Санкт-Петербург</td>\n",
       "      <td>17284.0</td>\n",
       "      <td>16081.0</td>\n",
       "      <td>1</td>\n",
       "      <td>353.0</td>\n",
       "      <td>2</td>\n",
       "      <td>652.0</td>\n",
       "      <td>29.0</td>\n",
       "    </tr>\n",
       "    <tr>\n",
       "      <th>23690</th>\n",
       "      <td>3</td>\n",
       "      <td>5500000</td>\n",
       "      <td>52.00</td>\n",
       "      <td>2018-07-19</td>\n",
       "      <td>2</td>\n",
       "      <td>NaN</td>\n",
       "      <td>5.0</td>\n",
       "      <td>31.000000</td>\n",
       "      <td>2</td>\n",
       "      <td>False</td>\n",
       "      <td>...</td>\n",
       "      <td>6.000000</td>\n",
       "      <td>0</td>\n",
       "      <td>Санкт-Петербург</td>\n",
       "      <td>20151.0</td>\n",
       "      <td>6263.0</td>\n",
       "      <td>1</td>\n",
       "      <td>300.0</td>\n",
       "      <td>0</td>\n",
       "      <td>NaN</td>\n",
       "      <td>15.0</td>\n",
       "    </tr>\n",
       "    <tr>\n",
       "      <th>23691</th>\n",
       "      <td>11</td>\n",
       "      <td>9470000</td>\n",
       "      <td>72.90</td>\n",
       "      <td>2016-10-13</td>\n",
       "      <td>2</td>\n",
       "      <td>2.75</td>\n",
       "      <td>25.0</td>\n",
       "      <td>40.300000</td>\n",
       "      <td>7</td>\n",
       "      <td>False</td>\n",
       "      <td>...</td>\n",
       "      <td>10.600000</td>\n",
       "      <td>1</td>\n",
       "      <td>Санкт-Петербург</td>\n",
       "      <td>19424.0</td>\n",
       "      <td>4489.0</td>\n",
       "      <td>0</td>\n",
       "      <td>NaN</td>\n",
       "      <td>1</td>\n",
       "      <td>806.0</td>\n",
       "      <td>519.0</td>\n",
       "    </tr>\n",
       "    <tr>\n",
       "      <th>23692</th>\n",
       "      <td>2</td>\n",
       "      <td>1350000</td>\n",
       "      <td>30.00</td>\n",
       "      <td>2017-07-07</td>\n",
       "      <td>1</td>\n",
       "      <td>NaN</td>\n",
       "      <td>5.0</td>\n",
       "      <td>17.500000</td>\n",
       "      <td>4</td>\n",
       "      <td>False</td>\n",
       "      <td>...</td>\n",
       "      <td>6.000000</td>\n",
       "      <td>0</td>\n",
       "      <td>Тихвин</td>\n",
       "      <td>NaN</td>\n",
       "      <td>NaN</td>\n",
       "      <td>0</td>\n",
       "      <td>NaN</td>\n",
       "      <td>0</td>\n",
       "      <td>NaN</td>\n",
       "      <td>413.0</td>\n",
       "    </tr>\n",
       "    <tr>\n",
       "      <th>23693</th>\n",
       "      <td>9</td>\n",
       "      <td>4600000</td>\n",
       "      <td>62.40</td>\n",
       "      <td>2016-08-05</td>\n",
       "      <td>3</td>\n",
       "      <td>2.60</td>\n",
       "      <td>9.0</td>\n",
       "      <td>40.000000</td>\n",
       "      <td>8</td>\n",
       "      <td>False</td>\n",
       "      <td>...</td>\n",
       "      <td>8.000000</td>\n",
       "      <td>0</td>\n",
       "      <td>Петергоф</td>\n",
       "      <td>45602.0</td>\n",
       "      <td>34104.0</td>\n",
       "      <td>1</td>\n",
       "      <td>352.0</td>\n",
       "      <td>1</td>\n",
       "      <td>675.0</td>\n",
       "      <td>239.0</td>\n",
       "    </tr>\n",
       "    <tr>\n",
       "      <th>23694</th>\n",
       "      <td>9</td>\n",
       "      <td>9700000</td>\n",
       "      <td>133.81</td>\n",
       "      <td>2017-03-21</td>\n",
       "      <td>3</td>\n",
       "      <td>3.70</td>\n",
       "      <td>5.0</td>\n",
       "      <td>73.300000</td>\n",
       "      <td>3</td>\n",
       "      <td>False</td>\n",
       "      <td>...</td>\n",
       "      <td>13.830000</td>\n",
       "      <td>0</td>\n",
       "      <td>Санкт-Петербург</td>\n",
       "      <td>24665.0</td>\n",
       "      <td>4232.0</td>\n",
       "      <td>1</td>\n",
       "      <td>796.0</td>\n",
       "      <td>3</td>\n",
       "      <td>381.0</td>\n",
       "      <td>NaN</td>\n",
       "    </tr>\n",
       "    <tr>\n",
       "      <th>23695</th>\n",
       "      <td>14</td>\n",
       "      <td>3100000</td>\n",
       "      <td>59.00</td>\n",
       "      <td>2018-01-15</td>\n",
       "      <td>3</td>\n",
       "      <td>NaN</td>\n",
       "      <td>5.0</td>\n",
       "      <td>38.000000</td>\n",
       "      <td>4</td>\n",
       "      <td>False</td>\n",
       "      <td>...</td>\n",
       "      <td>8.500000</td>\n",
       "      <td>0</td>\n",
       "      <td>Тосно</td>\n",
       "      <td>NaN</td>\n",
       "      <td>NaN</td>\n",
       "      <td>0</td>\n",
       "      <td>NaN</td>\n",
       "      <td>0</td>\n",
       "      <td>NaN</td>\n",
       "      <td>45.0</td>\n",
       "    </tr>\n",
       "    <tr>\n",
       "      <th>23696</th>\n",
       "      <td>18</td>\n",
       "      <td>2500000</td>\n",
       "      <td>56.70</td>\n",
       "      <td>2018-02-11</td>\n",
       "      <td>2</td>\n",
       "      <td>NaN</td>\n",
       "      <td>3.0</td>\n",
       "      <td>29.700000</td>\n",
       "      <td>1</td>\n",
       "      <td>False</td>\n",
       "      <td>...</td>\n",
       "      <td>9.930762</td>\n",
       "      <td>0</td>\n",
       "      <td>село Рождествено</td>\n",
       "      <td>NaN</td>\n",
       "      <td>NaN</td>\n",
       "      <td>0</td>\n",
       "      <td>NaN</td>\n",
       "      <td>0</td>\n",
       "      <td>NaN</td>\n",
       "      <td>NaN</td>\n",
       "    </tr>\n",
       "    <tr>\n",
       "      <th>23697</th>\n",
       "      <td>13</td>\n",
       "      <td>11475000</td>\n",
       "      <td>76.75</td>\n",
       "      <td>2017-03-28</td>\n",
       "      <td>2</td>\n",
       "      <td>3.00</td>\n",
       "      <td>17.0</td>\n",
       "      <td>43.822689</td>\n",
       "      <td>12</td>\n",
       "      <td>False</td>\n",
       "      <td>...</td>\n",
       "      <td>23.300000</td>\n",
       "      <td>2</td>\n",
       "      <td>Санкт-Петербург</td>\n",
       "      <td>39140.0</td>\n",
       "      <td>10364.0</td>\n",
       "      <td>2</td>\n",
       "      <td>173.0</td>\n",
       "      <td>3</td>\n",
       "      <td>196.0</td>\n",
       "      <td>602.0</td>\n",
       "    </tr>\n",
       "    <tr>\n",
       "      <th>23698</th>\n",
       "      <td>4</td>\n",
       "      <td>1350000</td>\n",
       "      <td>32.30</td>\n",
       "      <td>2017-07-21</td>\n",
       "      <td>1</td>\n",
       "      <td>2.50</td>\n",
       "      <td>5.0</td>\n",
       "      <td>12.300000</td>\n",
       "      <td>1</td>\n",
       "      <td>False</td>\n",
       "      <td>...</td>\n",
       "      <td>9.000000</td>\n",
       "      <td>0</td>\n",
       "      <td>поселок Новый Учхоз</td>\n",
       "      <td>NaN</td>\n",
       "      <td>NaN</td>\n",
       "      <td>0</td>\n",
       "      <td>NaN</td>\n",
       "      <td>0</td>\n",
       "      <td>NaN</td>\n",
       "      <td>NaN</td>\n",
       "    </tr>\n",
       "  </tbody>\n",
       "</table>\n",
       "<p>10 rows × 22 columns</p>\n",
       "</div>"
      ],
      "text/plain": [
       "       total_images  last_price  total_area first_day_exposition  rooms  \\\n",
       "23689            13     3550000       35.30           2018-02-28      1   \n",
       "23690             3     5500000       52.00           2018-07-19      2   \n",
       "23691            11     9470000       72.90           2016-10-13      2   \n",
       "23692             2     1350000       30.00           2017-07-07      1   \n",
       "23693             9     4600000       62.40           2016-08-05      3   \n",
       "23694             9     9700000      133.81           2017-03-21      3   \n",
       "23695            14     3100000       59.00           2018-01-15      3   \n",
       "23696            18     2500000       56.70           2018-02-11      2   \n",
       "23697            13    11475000       76.75           2017-03-28      2   \n",
       "23698             4     1350000       32.30           2017-07-21      1   \n",
       "\n",
       "       ceiling_height  floors_total  living_area  floor  is_apartment  ...  \\\n",
       "23689            2.86          15.0    16.300000      4         False  ...   \n",
       "23690             NaN           5.0    31.000000      2         False  ...   \n",
       "23691            2.75          25.0    40.300000      7         False  ...   \n",
       "23692             NaN           5.0    17.500000      4         False  ...   \n",
       "23693            2.60           9.0    40.000000      8         False  ...   \n",
       "23694            3.70           5.0    73.300000      3         False  ...   \n",
       "23695             NaN           5.0    38.000000      4         False  ...   \n",
       "23696             NaN           3.0    29.700000      1         False  ...   \n",
       "23697            3.00          17.0    43.822689     12         False  ...   \n",
       "23698            2.50           5.0    12.300000      1         False  ...   \n",
       "\n",
       "       kitchen_area  balcony        locality_name  airports_nearest  \\\n",
       "23689      9.100000        2      Санкт-Петербург           17284.0   \n",
       "23690      6.000000        0      Санкт-Петербург           20151.0   \n",
       "23691     10.600000        1      Санкт-Петербург           19424.0   \n",
       "23692      6.000000        0               Тихвин               NaN   \n",
       "23693      8.000000        0             Петергоф           45602.0   \n",
       "23694     13.830000        0      Санкт-Петербург           24665.0   \n",
       "23695      8.500000        0                Тосно               NaN   \n",
       "23696      9.930762        0     село Рождествено               NaN   \n",
       "23697     23.300000        2      Санкт-Петербург           39140.0   \n",
       "23698      9.000000        0  поселок Новый Учхоз               NaN   \n",
       "\n",
       "      city_centers_nearest  parks_around3000  parks_nearest  ponds_around3000  \\\n",
       "23689              16081.0                 1          353.0                 2   \n",
       "23690               6263.0                 1          300.0                 0   \n",
       "23691               4489.0                 0            NaN                 1   \n",
       "23692                  NaN                 0            NaN                 0   \n",
       "23693              34104.0                 1          352.0                 1   \n",
       "23694               4232.0                 1          796.0                 3   \n",
       "23695                  NaN                 0            NaN                 0   \n",
       "23696                  NaN                 0            NaN                 0   \n",
       "23697              10364.0                 2          173.0                 3   \n",
       "23698                  NaN                 0            NaN                 0   \n",
       "\n",
       "       ponds_nearest  days_exposition  \n",
       "23689          652.0             29.0  \n",
       "23690            NaN             15.0  \n",
       "23691          806.0            519.0  \n",
       "23692            NaN            413.0  \n",
       "23693          675.0            239.0  \n",
       "23694          381.0              NaN  \n",
       "23695            NaN             45.0  \n",
       "23696            NaN              NaN  \n",
       "23697          196.0            602.0  \n",
       "23698            NaN              NaN  \n",
       "\n",
       "[10 rows x 22 columns]"
      ]
     },
     "execution_count": 7,
     "metadata": {},
     "output_type": "execute_result"
    }
   ],
   "source": [
    "# Приводим в целочисленный тип данных\n",
    "data['last_price'] = data['last_price'].astype(int)\n",
    "# Приводим к типу даты дату публикации\n",
    "data['first_day_exposition'] = pd.to_datetime(data['first_day_exposition'], format='%Y-%m-%dT%H:%M:%S')\n",
    "# Заменяем пропущенные значения на False в is_apartment\n",
    "data['is_apartment'] = data['is_apartment'].fillna(value=False)\n",
    "# Приводим в целочисленный тип данных. Заменяем пропущенные данные на 0\n",
    "data['balcony'] = data['balcony'].fillna(value=0).astype(int)\n",
    "# Приводим в целочисленный тип данных. Заменяем пропущенные значения на 0\n",
    "data['parks_around3000'] = data['parks_around3000'].fillna(value=0).astype(int)\n",
    "# Приводим в целочисленный тип данных. Заменяем пропущенные значения на 0\n",
    "data['ponds_around3000'] = data['ponds_around3000'].fillna(value=0).astype(int)\n",
    "# удалю строки с Null locality_name и floors_total - выборка маленькая, на данные не повляет\n",
    "data.dropna(subset=['locality_name'], inplace=True)\n",
    "data.dropna(subset=['floors_total'], inplace=True)\n",
    "\n",
    "data.tail(10)"
   ]
  },
  {
   "cell_type": "code",
   "execution_count": 8,
   "metadata": {},
   "outputs": [
    {
     "data": {
      "text/plain": [
       "194"
      ]
     },
     "execution_count": 8,
     "metadata": {},
     "output_type": "execute_result"
    }
   ],
   "source": [
    "#Проверим квартиры-апартаменты - данные, где нет комнат вообще\n",
    "data.query('rooms == 0')['rooms'].count()"
   ]
  },
  {
   "cell_type": "code",
   "execution_count": 9,
   "metadata": {},
   "outputs": [
    {
     "data": {
      "text/html": [
       "<div>\n",
       "<style scoped>\n",
       "    .dataframe tbody tr th:only-of-type {\n",
       "        vertical-align: middle;\n",
       "    }\n",
       "\n",
       "    .dataframe tbody tr th {\n",
       "        vertical-align: top;\n",
       "    }\n",
       "\n",
       "    .dataframe thead th {\n",
       "        text-align: right;\n",
       "    }\n",
       "</style>\n",
       "<table border=\"1\" class=\"dataframe\">\n",
       "  <thead>\n",
       "    <tr style=\"text-align: right;\">\n",
       "      <th></th>\n",
       "      <th>total_images</th>\n",
       "      <th>last_price</th>\n",
       "      <th>total_area</th>\n",
       "      <th>first_day_exposition</th>\n",
       "      <th>rooms</th>\n",
       "      <th>ceiling_height</th>\n",
       "      <th>floors_total</th>\n",
       "      <th>living_area</th>\n",
       "      <th>floor</th>\n",
       "      <th>is_apartment</th>\n",
       "      <th>...</th>\n",
       "      <th>kitchen_area</th>\n",
       "      <th>balcony</th>\n",
       "      <th>locality_name</th>\n",
       "      <th>airports_nearest</th>\n",
       "      <th>city_centers_nearest</th>\n",
       "      <th>parks_around3000</th>\n",
       "      <th>parks_nearest</th>\n",
       "      <th>ponds_around3000</th>\n",
       "      <th>ponds_nearest</th>\n",
       "      <th>days_exposition</th>\n",
       "    </tr>\n",
       "  </thead>\n",
       "  <tbody>\n",
       "    <tr>\n",
       "      <th>144</th>\n",
       "      <td>1</td>\n",
       "      <td>2450000</td>\n",
       "      <td>27.00</td>\n",
       "      <td>2017-03-30</td>\n",
       "      <td>0</td>\n",
       "      <td>NaN</td>\n",
       "      <td>24.0</td>\n",
       "      <td>15.500000</td>\n",
       "      <td>2</td>\n",
       "      <td>False</td>\n",
       "      <td>...</td>\n",
       "      <td>4.728934</td>\n",
       "      <td>2</td>\n",
       "      <td>посёлок Мурино</td>\n",
       "      <td>NaN</td>\n",
       "      <td>NaN</td>\n",
       "      <td>0</td>\n",
       "      <td>NaN</td>\n",
       "      <td>0</td>\n",
       "      <td>NaN</td>\n",
       "      <td>181.0</td>\n",
       "    </tr>\n",
       "    <tr>\n",
       "      <th>349</th>\n",
       "      <td>4</td>\n",
       "      <td>2320000</td>\n",
       "      <td>25.00</td>\n",
       "      <td>2017-09-27</td>\n",
       "      <td>0</td>\n",
       "      <td>NaN</td>\n",
       "      <td>14.0</td>\n",
       "      <td>17.000000</td>\n",
       "      <td>1</td>\n",
       "      <td>False</td>\n",
       "      <td>...</td>\n",
       "      <td>4.378643</td>\n",
       "      <td>0</td>\n",
       "      <td>деревня Кудрово</td>\n",
       "      <td>NaN</td>\n",
       "      <td>NaN</td>\n",
       "      <td>0</td>\n",
       "      <td>NaN</td>\n",
       "      <td>0</td>\n",
       "      <td>NaN</td>\n",
       "      <td>45.0</td>\n",
       "    </tr>\n",
       "    <tr>\n",
       "      <th>440</th>\n",
       "      <td>8</td>\n",
       "      <td>2480000</td>\n",
       "      <td>27.11</td>\n",
       "      <td>2018-03-12</td>\n",
       "      <td>0</td>\n",
       "      <td>NaN</td>\n",
       "      <td>17.0</td>\n",
       "      <td>24.750000</td>\n",
       "      <td>4</td>\n",
       "      <td>False</td>\n",
       "      <td>...</td>\n",
       "      <td>4.748200</td>\n",
       "      <td>2</td>\n",
       "      <td>Санкт-Петербург</td>\n",
       "      <td>38171.0</td>\n",
       "      <td>15015.0</td>\n",
       "      <td>0</td>\n",
       "      <td>NaN</td>\n",
       "      <td>2</td>\n",
       "      <td>982.0</td>\n",
       "      <td>64.0</td>\n",
       "    </tr>\n",
       "    <tr>\n",
       "      <th>508</th>\n",
       "      <td>0</td>\n",
       "      <td>3375000</td>\n",
       "      <td>34.40</td>\n",
       "      <td>2017-03-28</td>\n",
       "      <td>0</td>\n",
       "      <td>NaN</td>\n",
       "      <td>26.0</td>\n",
       "      <td>24.300000</td>\n",
       "      <td>19</td>\n",
       "      <td>False</td>\n",
       "      <td>...</td>\n",
       "      <td>6.025012</td>\n",
       "      <td>1</td>\n",
       "      <td>посёлок Парголово</td>\n",
       "      <td>53115.0</td>\n",
       "      <td>19292.0</td>\n",
       "      <td>0</td>\n",
       "      <td>NaN</td>\n",
       "      <td>1</td>\n",
       "      <td>593.0</td>\n",
       "      <td>430.0</td>\n",
       "    </tr>\n",
       "    <tr>\n",
       "      <th>608</th>\n",
       "      <td>2</td>\n",
       "      <td>1850000</td>\n",
       "      <td>25.00</td>\n",
       "      <td>2019-02-20</td>\n",
       "      <td>0</td>\n",
       "      <td>NaN</td>\n",
       "      <td>10.0</td>\n",
       "      <td>14.274492</td>\n",
       "      <td>7</td>\n",
       "      <td>False</td>\n",
       "      <td>...</td>\n",
       "      <td>4.378643</td>\n",
       "      <td>0</td>\n",
       "      <td>посёлок Шушары</td>\n",
       "      <td>NaN</td>\n",
       "      <td>NaN</td>\n",
       "      <td>0</td>\n",
       "      <td>NaN</td>\n",
       "      <td>0</td>\n",
       "      <td>NaN</td>\n",
       "      <td>29.0</td>\n",
       "    </tr>\n",
       "    <tr>\n",
       "      <th>697</th>\n",
       "      <td>12</td>\n",
       "      <td>2500000</td>\n",
       "      <td>24.10</td>\n",
       "      <td>2017-12-01</td>\n",
       "      <td>0</td>\n",
       "      <td>2.75</td>\n",
       "      <td>25.0</td>\n",
       "      <td>17.500000</td>\n",
       "      <td>21</td>\n",
       "      <td>False</td>\n",
       "      <td>...</td>\n",
       "      <td>4.221012</td>\n",
       "      <td>0</td>\n",
       "      <td>деревня Кудрово</td>\n",
       "      <td>NaN</td>\n",
       "      <td>NaN</td>\n",
       "      <td>0</td>\n",
       "      <td>NaN</td>\n",
       "      <td>0</td>\n",
       "      <td>NaN</td>\n",
       "      <td>201.0</td>\n",
       "    </tr>\n",
       "    <tr>\n",
       "      <th>716</th>\n",
       "      <td>5</td>\n",
       "      <td>1500000</td>\n",
       "      <td>17.00</td>\n",
       "      <td>2017-06-07</td>\n",
       "      <td>0</td>\n",
       "      <td>2.70</td>\n",
       "      <td>9.0</td>\n",
       "      <td>12.000000</td>\n",
       "      <td>1</td>\n",
       "      <td>False</td>\n",
       "      <td>...</td>\n",
       "      <td>2.977477</td>\n",
       "      <td>0</td>\n",
       "      <td>посёлок Шушары</td>\n",
       "      <td>18654.0</td>\n",
       "      <td>29846.0</td>\n",
       "      <td>0</td>\n",
       "      <td>NaN</td>\n",
       "      <td>0</td>\n",
       "      <td>NaN</td>\n",
       "      <td>40.0</td>\n",
       "    </tr>\n",
       "    <tr>\n",
       "      <th>780</th>\n",
       "      <td>9</td>\n",
       "      <td>2600000</td>\n",
       "      <td>26.10</td>\n",
       "      <td>2018-02-20</td>\n",
       "      <td>0</td>\n",
       "      <td>NaN</td>\n",
       "      <td>18.0</td>\n",
       "      <td>14.902569</td>\n",
       "      <td>8</td>\n",
       "      <td>False</td>\n",
       "      <td>...</td>\n",
       "      <td>4.571303</td>\n",
       "      <td>1</td>\n",
       "      <td>посёлок Мурино</td>\n",
       "      <td>NaN</td>\n",
       "      <td>NaN</td>\n",
       "      <td>0</td>\n",
       "      <td>NaN</td>\n",
       "      <td>0</td>\n",
       "      <td>NaN</td>\n",
       "      <td>45.0</td>\n",
       "    </tr>\n",
       "    <tr>\n",
       "      <th>839</th>\n",
       "      <td>14</td>\n",
       "      <td>1900000</td>\n",
       "      <td>35.00</td>\n",
       "      <td>2017-04-14</td>\n",
       "      <td>0</td>\n",
       "      <td>2.70</td>\n",
       "      <td>5.0</td>\n",
       "      <td>15.000000</td>\n",
       "      <td>3</td>\n",
       "      <td>False</td>\n",
       "      <td>...</td>\n",
       "      <td>6.130100</td>\n",
       "      <td>1</td>\n",
       "      <td>поселок Новый Свет</td>\n",
       "      <td>NaN</td>\n",
       "      <td>NaN</td>\n",
       "      <td>0</td>\n",
       "      <td>NaN</td>\n",
       "      <td>0</td>\n",
       "      <td>NaN</td>\n",
       "      <td>7.0</td>\n",
       "    </tr>\n",
       "    <tr>\n",
       "      <th>946</th>\n",
       "      <td>5</td>\n",
       "      <td>2200000</td>\n",
       "      <td>23.00</td>\n",
       "      <td>2016-09-27</td>\n",
       "      <td>0</td>\n",
       "      <td>NaN</td>\n",
       "      <td>27.0</td>\n",
       "      <td>18.000000</td>\n",
       "      <td>7</td>\n",
       "      <td>False</td>\n",
       "      <td>...</td>\n",
       "      <td>4.028351</td>\n",
       "      <td>2</td>\n",
       "      <td>посёлок Мурино</td>\n",
       "      <td>NaN</td>\n",
       "      <td>NaN</td>\n",
       "      <td>0</td>\n",
       "      <td>NaN</td>\n",
       "      <td>0</td>\n",
       "      <td>NaN</td>\n",
       "      <td>483.0</td>\n",
       "    </tr>\n",
       "  </tbody>\n",
       "</table>\n",
       "<p>10 rows × 22 columns</p>\n",
       "</div>"
      ],
      "text/plain": [
       "     total_images  last_price  total_area first_day_exposition  rooms  \\\n",
       "144             1     2450000       27.00           2017-03-30      0   \n",
       "349             4     2320000       25.00           2017-09-27      0   \n",
       "440             8     2480000       27.11           2018-03-12      0   \n",
       "508             0     3375000       34.40           2017-03-28      0   \n",
       "608             2     1850000       25.00           2019-02-20      0   \n",
       "697            12     2500000       24.10           2017-12-01      0   \n",
       "716             5     1500000       17.00           2017-06-07      0   \n",
       "780             9     2600000       26.10           2018-02-20      0   \n",
       "839            14     1900000       35.00           2017-04-14      0   \n",
       "946             5     2200000       23.00           2016-09-27      0   \n",
       "\n",
       "     ceiling_height  floors_total  living_area  floor  is_apartment  ...  \\\n",
       "144             NaN          24.0    15.500000      2         False  ...   \n",
       "349             NaN          14.0    17.000000      1         False  ...   \n",
       "440             NaN          17.0    24.750000      4         False  ...   \n",
       "508             NaN          26.0    24.300000     19         False  ...   \n",
       "608             NaN          10.0    14.274492      7         False  ...   \n",
       "697            2.75          25.0    17.500000     21         False  ...   \n",
       "716            2.70           9.0    12.000000      1         False  ...   \n",
       "780             NaN          18.0    14.902569      8         False  ...   \n",
       "839            2.70           5.0    15.000000      3         False  ...   \n",
       "946             NaN          27.0    18.000000      7         False  ...   \n",
       "\n",
       "     kitchen_area  balcony       locality_name  airports_nearest  \\\n",
       "144      4.728934        2      посёлок Мурино               NaN   \n",
       "349      4.378643        0     деревня Кудрово               NaN   \n",
       "440      4.748200        2     Санкт-Петербург           38171.0   \n",
       "508      6.025012        1   посёлок Парголово           53115.0   \n",
       "608      4.378643        0      посёлок Шушары               NaN   \n",
       "697      4.221012        0     деревня Кудрово               NaN   \n",
       "716      2.977477        0      посёлок Шушары           18654.0   \n",
       "780      4.571303        1      посёлок Мурино               NaN   \n",
       "839      6.130100        1  поселок Новый Свет               NaN   \n",
       "946      4.028351        2      посёлок Мурино               NaN   \n",
       "\n",
       "    city_centers_nearest  parks_around3000  parks_nearest  ponds_around3000  \\\n",
       "144                  NaN                 0            NaN                 0   \n",
       "349                  NaN                 0            NaN                 0   \n",
       "440              15015.0                 0            NaN                 2   \n",
       "508              19292.0                 0            NaN                 1   \n",
       "608                  NaN                 0            NaN                 0   \n",
       "697                  NaN                 0            NaN                 0   \n",
       "716              29846.0                 0            NaN                 0   \n",
       "780                  NaN                 0            NaN                 0   \n",
       "839                  NaN                 0            NaN                 0   \n",
       "946                  NaN                 0            NaN                 0   \n",
       "\n",
       "     ponds_nearest  days_exposition  \n",
       "144            NaN            181.0  \n",
       "349            NaN             45.0  \n",
       "440          982.0             64.0  \n",
       "508          593.0            430.0  \n",
       "608            NaN             29.0  \n",
       "697            NaN            201.0  \n",
       "716            NaN             40.0  \n",
       "780            NaN             45.0  \n",
       "839            NaN              7.0  \n",
       "946            NaN            483.0  \n",
       "\n",
       "[10 rows x 22 columns]"
      ]
     },
     "execution_count": 9,
     "metadata": {},
     "output_type": "execute_result"
    }
   ],
   "source": [
    "data.query('rooms == 0').head(10)\n",
    "# Исходя из общей площади помещения, и не наличия комнат и нет данных по площади кухни, можно сделать вывод что это все же студии. Поэтому данные оставим без изменений."
   ]
  },
  {
   "cell_type": "code",
   "execution_count": 10,
   "metadata": {},
   "outputs": [
    {
     "name": "stdout",
     "output_type": "stream",
     "text": [
      "<class 'pandas.core.frame.DataFrame'>\n",
      "Int64Index: 23565 entries, 0 to 23698\n",
      "Data columns (total 22 columns):\n",
      " #   Column                Non-Null Count  Dtype         \n",
      "---  ------                --------------  -----         \n",
      " 0   total_images          23565 non-null  int64         \n",
      " 1   last_price            23565 non-null  int64         \n",
      " 2   total_area            23565 non-null  float64       \n",
      " 3   first_day_exposition  23565 non-null  datetime64[ns]\n",
      " 4   rooms                 23565 non-null  int64         \n",
      " 5   ceiling_height        14481 non-null  float64       \n",
      " 6   floors_total          23565 non-null  float64       \n",
      " 7   living_area           23565 non-null  float64       \n",
      " 8   floor                 23565 non-null  int64         \n",
      " 9   is_apartment          23565 non-null  bool          \n",
      " 10  studio                23565 non-null  bool          \n",
      " 11  open_plan             23565 non-null  bool          \n",
      " 12  kitchen_area          23565 non-null  float64       \n",
      " 13  balcony               23565 non-null  int64         \n",
      " 14  locality_name         23565 non-null  object        \n",
      " 15  airports_nearest      18041 non-null  float64       \n",
      " 16  city_centers_nearest  18064 non-null  float64       \n",
      " 17  parks_around3000      23565 non-null  int64         \n",
      " 18  parks_nearest         8030 non-null   float64       \n",
      " 19  ponds_around3000      23565 non-null  int64         \n",
      " 20  ponds_nearest         9036 non-null   float64       \n",
      " 21  days_exposition       20394 non-null  float64       \n",
      "dtypes: bool(3), datetime64[ns](1), float64(10), int64(7), object(1)\n",
      "memory usage: 3.7+ MB\n"
     ]
    }
   ],
   "source": [
    "data.info()"
   ]
  },
  {
   "cell_type": "code",
   "execution_count": 11,
   "metadata": {},
   "outputs": [
    {
     "data": {
      "text/plain": [
       "array(['Санкт-Петербург', 'посёлок Шушары', 'городской посёлок Янино-1',\n",
       "       'посёлок Парголово', 'посёлок Мурино', 'Ломоносов', 'Сертолово',\n",
       "       'Петергоф', 'Пушкин', 'деревня Кудрово', 'Коммунар', 'Колпино',\n",
       "       'поселок городского типа Красный Бор', 'Гатчина', 'поселок Мурино',\n",
       "       'деревня Фёдоровское', 'Выборг', 'Кронштадт', 'Кировск',\n",
       "       'деревня Новое Девяткино', 'посёлок Металлострой',\n",
       "       'посёлок городского типа Лебяжье',\n",
       "       'посёлок городского типа Сиверский', 'поселок Молодцово',\n",
       "       'поселок городского типа Кузьмоловский',\n",
       "       'садовое товарищество Новая Ропша', 'Павловск',\n",
       "       'деревня Пикколово', 'Всеволожск', 'Волхов', 'Кингисепп',\n",
       "       'Приозерск', 'Сестрорецк', 'деревня Куттузи', 'посёлок Аннино',\n",
       "       'поселок городского типа Ефимовский', 'посёлок Плодовое',\n",
       "       'деревня Заклинье', 'поселок Торковичи', 'поселок Первомайское',\n",
       "       'Красное Село', 'посёлок Понтонный', 'Сясьстрой', 'деревня Старая',\n",
       "       'деревня Лесколово', 'посёлок Новый Свет', 'Сланцы',\n",
       "       'село Путилово', 'Ивангород', 'Мурино', 'Шлиссельбург',\n",
       "       'Никольское', 'Зеленогорск', 'Сосновый Бор', 'поселок Новый Свет',\n",
       "       'деревня Оржицы', 'деревня Кальтино', 'Кудрово',\n",
       "       'поселок Романовка', 'посёлок Бугры', 'поселок Бугры',\n",
       "       'поселок городского типа Рощино', 'Кириши', 'Луга', 'Волосово',\n",
       "       'Отрадное', 'село Павлово', 'поселок Оредеж', 'село Копорье',\n",
       "       'посёлок городского типа Красный Бор', 'посёлок Молодёжное',\n",
       "       'Тихвин', 'посёлок Победа', 'деревня Нурма',\n",
       "       'поселок городского типа Синявино', 'Тосно',\n",
       "       'посёлок городского типа Кузьмоловский', 'посёлок Стрельна',\n",
       "       'Бокситогорск', 'посёлок Александровская', 'деревня Лопухинка',\n",
       "       'Пикалёво', 'поселок Терволово',\n",
       "       'поселок городского типа Советский', 'Подпорожье',\n",
       "       'посёлок Петровское', 'посёлок городского типа Токсово',\n",
       "       'поселок Сельцо', 'посёлок городского типа Вырица',\n",
       "       'деревня Кипень', 'деревня Келози', 'деревня Вартемяги',\n",
       "       'посёлок Тельмана', 'поселок Севастьяново',\n",
       "       'городской поселок Большая Ижора', 'городской посёлок Павлово',\n",
       "       'деревня Агалатово', 'посёлок Новогорелово',\n",
       "       'городской посёлок Лесогорский', 'деревня Лаголово',\n",
       "       'поселок Цвелодубово', 'поселок городского типа Рахья',\n",
       "       'поселок городского типа Вырица', 'деревня Белогорка',\n",
       "       'поселок Заводской', 'городской посёлок Новоселье',\n",
       "       'деревня Большие Колпаны', 'деревня Горбунки', 'деревня Батово',\n",
       "       'деревня Заневка', 'деревня Иссад', 'Приморск',\n",
       "       'городской посёлок Фёдоровское', 'деревня Мистолово',\n",
       "       'Новая Ладога', 'поселок Зимитицы', 'поселок Барышево',\n",
       "       'деревня Разметелево', 'поселок городского типа имени Свердлова',\n",
       "       'деревня Пеники', 'поселок Рябово', 'деревня Пудомяги',\n",
       "       'поселок станции Корнево', 'деревня Низино', 'деревня Бегуницы',\n",
       "       'посёлок Поляны', 'городской посёлок Мга', 'поселок Елизаветино',\n",
       "       'посёлок городского типа Кузнечное', 'деревня Колтуши',\n",
       "       'поселок Запорожское', 'посёлок городского типа Рощино',\n",
       "       'деревня Гостилицы', 'деревня Малое Карлино',\n",
       "       'посёлок Мичуринское', 'посёлок городского типа имени Морозова',\n",
       "       'посёлок Песочный', 'посёлок Сосново', 'деревня Аро',\n",
       "       'поселок Ильичёво', 'посёлок городского типа Тайцы',\n",
       "       'деревня Малое Верево', 'деревня Извара', 'поселок станции Вещево',\n",
       "       'село Паша', 'деревня Калитино',\n",
       "       'посёлок городского типа Ульяновка', 'деревня Чудской Бор',\n",
       "       'поселок городского типа Дубровка', 'деревня Мины',\n",
       "       'поселок Войсковицы', 'посёлок городского типа имени Свердлова',\n",
       "       'деревня Коркино', 'посёлок Ропша',\n",
       "       'поселок городского типа Приладожский', 'посёлок Щеглово',\n",
       "       'посёлок Гаврилово', 'Лодейное Поле', 'деревня Рабитицы',\n",
       "       'поселок городского типа Никольский', 'деревня Кузьмолово',\n",
       "       'деревня Малые Колпаны', 'поселок Тельмана',\n",
       "       'посёлок Петро-Славянка', 'городской посёлок Назия',\n",
       "       'посёлок Репино', 'посёлок Ильичёво', 'поселок Углово',\n",
       "       'поселок Старая Малукса', 'садовое товарищество Рахья',\n",
       "       'поселок Аннино', 'поселок Победа', 'деревня Меньково',\n",
       "       'деревня Старые Бегуницы', 'посёлок Сапёрный', 'поселок Семрино',\n",
       "       'поселок Гаврилово', 'поселок Глажево', 'поселок Кобринское',\n",
       "       'деревня Гарболово', 'деревня Юкки',\n",
       "       'поселок станции Приветнинское', 'деревня Мануйлово',\n",
       "       'деревня Пчева', 'поселок Поляны', 'поселок Цвылёво',\n",
       "       'поселок Мельниково', 'посёлок Пудость', 'посёлок Усть-Луга',\n",
       "       'Светогорск', 'Любань', 'поселок Селезнёво',\n",
       "       'поселок городского типа Рябово', 'Каменногорск', 'деревня Кривко',\n",
       "       'поселок Глебычево', 'деревня Парицы', 'поселок Жилпосёлок',\n",
       "       'посёлок городского типа Мга', 'городской поселок Янино-1',\n",
       "       'посёлок Войскорово', 'село Никольское', 'посёлок Терволово',\n",
       "       'поселок Стеклянный', 'посёлок городского типа Важины',\n",
       "       'посёлок Мыза-Ивановка', 'село Русско-Высоцкое',\n",
       "       'поселок городского типа Лебяжье',\n",
       "       'поселок городского типа Форносово', 'село Старая Ладога',\n",
       "       'поселок Житково', 'городской посёлок Виллози', 'деревня Лампово',\n",
       "       'деревня Шпаньково', 'деревня Лаврики', 'посёлок Сумино',\n",
       "       'посёлок Возрождение', 'деревня Старосиверская',\n",
       "       'посёлок Кикерино', 'поселок Возрождение',\n",
       "       'деревня Старое Хинколово', 'посёлок Пригородный',\n",
       "       'посёлок Торфяное', 'городской посёлок Будогощь',\n",
       "       'поселок Суходолье', 'поселок Красная Долина', 'деревня Хапо-Ое',\n",
       "       'поселок городского типа Дружная Горка', 'поселок Лисий Нос',\n",
       "       'деревня Яльгелево', 'посёлок Стеклянный', 'село Рождествено',\n",
       "       'деревня Старополье', 'посёлок Левашово', 'деревня Сяськелево',\n",
       "       'деревня Камышовка',\n",
       "       'садоводческое некоммерческое товарищество Лесная Поляна',\n",
       "       'деревня Хязельки', 'поселок Жилгородок',\n",
       "       'посёлок городского типа Павлово', 'деревня Ялгино',\n",
       "       'поселок Новый Учхоз', 'городской посёлок Рощино',\n",
       "       'поселок Гончарово', 'поселок Почап', 'посёлок Сапёрное',\n",
       "       'посёлок Платформа 69-й километр', 'поселок Каложицы',\n",
       "       'деревня Фалилеево', 'деревня Пельгора',\n",
       "       'поселок городского типа Лесогорский', 'деревня Торошковичи',\n",
       "       'посёлок Белоостров', 'посёлок Алексеевка', 'поселок Серебрянский',\n",
       "       'поселок Лукаши', 'поселок Петровское', 'деревня Щеглово',\n",
       "       'поселок Мичуринское', 'деревня Тарасово', 'поселок Кингисеппский',\n",
       "       'посёлок при железнодорожной станции Вещево', 'поселок Ушаки',\n",
       "       'деревня Котлы', 'деревня Сижно', 'деревня Торосово',\n",
       "       'посёлок Форт Красная Горка', 'деревня Новолисино',\n",
       "       'посёлок станции Громово', 'деревня Глинка', 'посёлок Мельниково',\n",
       "       'поселок городского типа Назия', 'деревня Старая Пустошь',\n",
       "       'поселок Коммунары', 'поселок Починок',\n",
       "       'посёлок городского типа Вознесенье', 'деревня Разбегаево',\n",
       "       'посёлок городского типа Рябово', 'поселок Гладкое',\n",
       "       'посёлок при железнодорожной станции Приветнинское',\n",
       "       'поселок Тёсово-4', 'посёлок Жилгородок', 'деревня Бор',\n",
       "       'посёлок Коробицыно', 'деревня Большая Вруда', 'деревня Курковицы',\n",
       "       'посёлок Лисий Нос', 'городской посёлок Советский',\n",
       "       'посёлок Кобралово', 'деревня Суоранда', 'поселок Кобралово',\n",
       "       'поселок городского типа Кондратьево',\n",
       "       'коттеджный поселок Счастье', 'поселок Любань', 'деревня Реброво',\n",
       "       'деревня Зимитицы', 'деревня Тойворово', 'поселок Семиозерье',\n",
       "       'поселок Лесное', 'поселок Совхозный', 'поселок Усть-Луга',\n",
       "       'посёлок Ленинское', 'посёлок Суйда',\n",
       "       'посёлок городского типа Форносово', 'деревня Нижние Осельки',\n",
       "       'посёлок станции Свирь', 'поселок Перово', 'Высоцк',\n",
       "       'поселок Гарболово', 'село Шум', 'поселок Котельский',\n",
       "       'поселок станции Лужайка', 'деревня Большая Пустомержа',\n",
       "       'поселок Красносельское', 'деревня Вахнова Кара', 'деревня Пижма',\n",
       "       'коттеджный поселок Кивеннапа Север', 'поселок Коробицыно',\n",
       "       'поселок Ромашки', 'посёлок Перово', 'деревня Каськово',\n",
       "       'деревня Куровицы', 'посёлок Плоское', 'поселок Сумино',\n",
       "       'поселок городского типа Большая Ижора', 'поселок Кирпичное',\n",
       "       'деревня Ям-Тесово', 'деревня Раздолье', 'деревня Терпилицы',\n",
       "       'поселок городского типа Токсово', 'посёлок Шугозеро',\n",
       "       'деревня Ваганово', 'поселок Пушное', 'садовое товарищество Садко',\n",
       "       'посёлок Усть-Ижора', 'деревня Выскатка',\n",
       "       'городской посёлок Свирьстрой', 'поселок Громово',\n",
       "       'деревня Кисельня', 'посёлок Старая Малукса',\n",
       "       'деревня Трубников Бор', 'поселок Калитино',\n",
       "       'посёлок Высокоключевой', 'садовое товарищество Приладожский',\n",
       "       'посёлок Пансионат Зелёный Бор', 'деревня Ненимяки',\n",
       "       'поселок Пансионат Зелёный Бор', 'деревня Снегирёвка',\n",
       "       'деревня Рапполово', 'деревня Пустынка', 'поселок Рабитицы',\n",
       "       'деревня Большой Сабск', 'деревня Русско', 'деревня Лупполово',\n",
       "       'деревня Большое Рейзино', 'деревня Малая Романовка',\n",
       "       'поселок Дружноселье', 'поселок Пчевжа', 'поселок Володарское',\n",
       "       'деревня Нижняя', 'коттеджный посёлок Лесное', 'деревня Тихковицы',\n",
       "       'деревня Борисова Грива', 'посёлок Дзержинского'], dtype=object)"
      ]
     },
     "execution_count": 11,
     "metadata": {},
     "output_type": "execute_result"
    }
   ],
   "source": [
    "# проверяем названия местостей и работаем с ними\n",
    "data['locality_name'].unique()"
   ]
  },
  {
   "cell_type": "code",
   "execution_count": 12,
   "metadata": {},
   "outputs": [
    {
     "data": {
      "text/plain": [
       "деревня Пчева                       1\n",
       "деревня Большой Сабск               1\n",
       "посёлок Шугозеро                    1\n",
       "деревня Чудской Бор                 1\n",
       "поселок Жилгородок                  1\n",
       "деревня Лаврики                     1\n",
       "посёлок Белоостров                  1\n",
       "посёлок Коробицыно                  1\n",
       "садовое товарищество Садко          1\n",
       "село Никольское                     1\n",
       "городской посёлок Свирьстрой        1\n",
       "деревня Большая Пустомержа          1\n",
       "деревня Хапо-Ое                     1\n",
       "деревня Кривко                      1\n",
       "деревня Мануйлово                   1\n",
       "садовое товарищество Новая Ропша    1\n",
       "поселок Дружноселье                 1\n",
       "поселок Гончарово                   1\n",
       "посёлок Плоское                     1\n",
       "поселок Калитино                    1\n",
       "Name: locality_name, dtype: int64"
      ]
     },
     "execution_count": 12,
     "metadata": {},
     "output_type": "execute_result"
    }
   ],
   "source": [
    "data['locality_name'].value_counts().tail(20)"
   ]
  },
  {
   "cell_type": "code",
   "execution_count": 13,
   "metadata": {},
   "outputs": [],
   "source": [
    "data['locality_name'] = data['locality_name'].str.lower()"
   ]
  },
  {
   "cell_type": "code",
   "execution_count": 15,
   "metadata": {},
   "outputs": [
    {
     "data": {
      "text/plain": [
       "23235"
      ]
     },
     "execution_count": 15,
     "metadata": {},
     "output_type": "execute_result"
    }
   ],
   "source": [
    "data['locality_name'].duplicated().sum()"
   ]
  },
  {
   "cell_type": "code",
   "execution_count": 14,
   "metadata": {},
   "outputs": [],
   "source": [
    "data['locality_name'] = data['locality_name'].str.replace('поселок','посёлок')"
   ]
  },
  {
   "cell_type": "code",
   "execution_count": 16,
   "metadata": {},
   "outputs": [],
   "source": [
    "#заменяем \"городской поселок\" на \"поселок городского типа\"\n",
    "data['locality_name'] = data['locality_name'].str.replace('городской поселок','поселок городского типа')\n"
   ]
  },
  {
   "cell_type": "code",
   "execution_count": 17,
   "metadata": {},
   "outputs": [
    {
     "data": {
      "text/plain": [
       "array(['санкт-петербург', 'посёлок шушары', 'городской посёлок янино-1',\n",
       "       'посёлок парголово', 'посёлок мурино', 'ломоносов', 'сертолово',\n",
       "       'петергоф', 'пушкин', 'деревня кудрово', 'коммунар', 'колпино',\n",
       "       'посёлок городского типа красный бор', 'гатчина',\n",
       "       'деревня фёдоровское', 'выборг', 'кронштадт', 'кировск',\n",
       "       'деревня новое девяткино', 'посёлок металлострой',\n",
       "       'посёлок городского типа лебяжье',\n",
       "       'посёлок городского типа сиверский', 'посёлок молодцово',\n",
       "       'посёлок городского типа кузьмоловский',\n",
       "       'садовое товарищество новая ропша', 'павловск',\n",
       "       'деревня пикколово', 'всеволожск', 'волхов', 'кингисепп',\n",
       "       'приозерск', 'сестрорецк', 'деревня куттузи', 'посёлок аннино',\n",
       "       'посёлок городского типа ефимовский', 'посёлок плодовое',\n",
       "       'деревня заклинье', 'посёлок торковичи', 'посёлок первомайское',\n",
       "       'красное село', 'посёлок понтонный', 'сясьстрой', 'деревня старая',\n",
       "       'деревня лесколово', 'посёлок новый свет', 'сланцы',\n",
       "       'село путилово', 'ивангород', 'мурино', 'шлиссельбург',\n",
       "       'никольское', 'зеленогорск', 'сосновый бор', 'деревня оржицы',\n",
       "       'деревня кальтино', 'кудрово', 'посёлок романовка',\n",
       "       'посёлок бугры', 'посёлок городского типа рощино', 'кириши',\n",
       "       'луга', 'волосово', 'отрадное', 'село павлово', 'посёлок оредеж',\n",
       "       'село копорье', 'посёлок молодёжное', 'тихвин', 'посёлок победа',\n",
       "       'деревня нурма', 'посёлок городского типа синявино', 'тосно',\n",
       "       'посёлок стрельна', 'бокситогорск', 'посёлок александровская',\n",
       "       'деревня лопухинка', 'пикалёво', 'посёлок терволово',\n",
       "       'посёлок городского типа советский', 'подпорожье',\n",
       "       'посёлок петровское', 'посёлок городского типа токсово',\n",
       "       'посёлок сельцо', 'посёлок городского типа вырица',\n",
       "       'деревня кипень', 'деревня келози', 'деревня вартемяги',\n",
       "       'посёлок тельмана', 'посёлок севастьяново',\n",
       "       'городской посёлок большая ижора', 'городской посёлок павлово',\n",
       "       'деревня агалатово', 'посёлок новогорелово',\n",
       "       'городской посёлок лесогорский', 'деревня лаголово',\n",
       "       'посёлок цвелодубово', 'посёлок городского типа рахья',\n",
       "       'деревня белогорка', 'посёлок заводской',\n",
       "       'городской посёлок новоселье', 'деревня большие колпаны',\n",
       "       'деревня горбунки', 'деревня батово', 'деревня заневка',\n",
       "       'деревня иссад', 'приморск', 'городской посёлок фёдоровское',\n",
       "       'деревня мистолово', 'новая ладога', 'посёлок зимитицы',\n",
       "       'посёлок барышево', 'деревня разметелево',\n",
       "       'посёлок городского типа имени свердлова', 'деревня пеники',\n",
       "       'посёлок рябово', 'деревня пудомяги', 'посёлок станции корнево',\n",
       "       'деревня низино', 'деревня бегуницы', 'посёлок поляны',\n",
       "       'городской посёлок мга', 'посёлок елизаветино',\n",
       "       'посёлок городского типа кузнечное', 'деревня колтуши',\n",
       "       'посёлок запорожское', 'деревня гостилицы',\n",
       "       'деревня малое карлино', 'посёлок мичуринское',\n",
       "       'посёлок городского типа имени морозова', 'посёлок песочный',\n",
       "       'посёлок сосново', 'деревня аро', 'посёлок ильичёво',\n",
       "       'посёлок городского типа тайцы', 'деревня малое верево',\n",
       "       'деревня извара', 'посёлок станции вещево', 'село паша',\n",
       "       'деревня калитино', 'посёлок городского типа ульяновка',\n",
       "       'деревня чудской бор', 'посёлок городского типа дубровка',\n",
       "       'деревня мины', 'посёлок войсковицы', 'деревня коркино',\n",
       "       'посёлок ропша', 'посёлок городского типа приладожский',\n",
       "       'посёлок щеглово', 'посёлок гаврилово', 'лодейное поле',\n",
       "       'деревня рабитицы', 'посёлок городского типа никольский',\n",
       "       'деревня кузьмолово', 'деревня малые колпаны',\n",
       "       'посёлок петро-славянка', 'городской посёлок назия',\n",
       "       'посёлок репино', 'посёлок углово', 'посёлок старая малукса',\n",
       "       'садовое товарищество рахья', 'деревня меньково',\n",
       "       'деревня старые бегуницы', 'посёлок сапёрный', 'посёлок семрино',\n",
       "       'посёлок глажево', 'посёлок кобринское', 'деревня гарболово',\n",
       "       'деревня юкки', 'посёлок станции приветнинское',\n",
       "       'деревня мануйлово', 'деревня пчева', 'посёлок цвылёво',\n",
       "       'посёлок мельниково', 'посёлок пудость', 'посёлок усть-луга',\n",
       "       'светогорск', 'любань', 'посёлок селезнёво',\n",
       "       'посёлок городского типа рябово', 'каменногорск', 'деревня кривко',\n",
       "       'посёлок глебычево', 'деревня парицы', 'посёлок жилпосёлок',\n",
       "       'посёлок городского типа мга', 'посёлок войскорово',\n",
       "       'село никольское', 'посёлок стеклянный',\n",
       "       'посёлок городского типа важины', 'посёлок мыза-ивановка',\n",
       "       'село русско-высоцкое', 'посёлок городского типа форносово',\n",
       "       'село старая ладога', 'посёлок житково',\n",
       "       'городской посёлок виллози', 'деревня лампово',\n",
       "       'деревня шпаньково', 'деревня лаврики', 'посёлок сумино',\n",
       "       'посёлок возрождение', 'деревня старосиверская',\n",
       "       'посёлок кикерино', 'деревня старое хинколово',\n",
       "       'посёлок пригородный', 'посёлок торфяное',\n",
       "       'городской посёлок будогощь', 'посёлок суходолье',\n",
       "       'посёлок красная долина', 'деревня хапо-ое',\n",
       "       'посёлок городского типа дружная горка', 'посёлок лисий нос',\n",
       "       'деревня яльгелево', 'село рождествено', 'деревня старополье',\n",
       "       'посёлок левашово', 'деревня сяськелево', 'деревня камышовка',\n",
       "       'садоводческое некоммерческое товарищество лесная поляна',\n",
       "       'деревня хязельки', 'посёлок жилгородок',\n",
       "       'посёлок городского типа павлово', 'деревня ялгино',\n",
       "       'посёлок новый учхоз', 'городской посёлок рощино',\n",
       "       'посёлок гончарово', 'посёлок почап', 'посёлок сапёрное',\n",
       "       'посёлок платформа 69-й километр', 'посёлок каложицы',\n",
       "       'деревня фалилеево', 'деревня пельгора',\n",
       "       'посёлок городского типа лесогорский', 'деревня торошковичи',\n",
       "       'посёлок белоостров', 'посёлок алексеевка', 'посёлок серебрянский',\n",
       "       'посёлок лукаши', 'деревня щеглово', 'деревня тарасово',\n",
       "       'посёлок кингисеппский',\n",
       "       'посёлок при железнодорожной станции вещево', 'посёлок ушаки',\n",
       "       'деревня котлы', 'деревня сижно', 'деревня торосово',\n",
       "       'посёлок форт красная горка', 'деревня новолисино',\n",
       "       'посёлок станции громово', 'деревня глинка',\n",
       "       'посёлок городского типа назия', 'деревня старая пустошь',\n",
       "       'посёлок коммунары', 'посёлок починок',\n",
       "       'посёлок городского типа вознесенье', 'деревня разбегаево',\n",
       "       'посёлок гладкое',\n",
       "       'посёлок при железнодорожной станции приветнинское',\n",
       "       'посёлок тёсово-4', 'деревня бор', 'посёлок коробицыно',\n",
       "       'деревня большая вруда', 'деревня курковицы',\n",
       "       'городской посёлок советский', 'посёлок кобралово',\n",
       "       'деревня суоранда', 'посёлок городского типа кондратьево',\n",
       "       'коттеджный посёлок счастье', 'посёлок любань', 'деревня реброво',\n",
       "       'деревня зимитицы', 'деревня тойворово', 'посёлок семиозерье',\n",
       "       'посёлок лесное', 'посёлок совхозный', 'посёлок ленинское',\n",
       "       'посёлок суйда', 'деревня нижние осельки', 'посёлок станции свирь',\n",
       "       'посёлок перово', 'высоцк', 'посёлок гарболово', 'село шум',\n",
       "       'посёлок котельский', 'посёлок станции лужайка',\n",
       "       'деревня большая пустомержа', 'посёлок красносельское',\n",
       "       'деревня вахнова кара', 'деревня пижма',\n",
       "       'коттеджный посёлок кивеннапа север', 'посёлок ромашки',\n",
       "       'деревня каськово', 'деревня куровицы', 'посёлок плоское',\n",
       "       'посёлок городского типа большая ижора', 'посёлок кирпичное',\n",
       "       'деревня ям-тесово', 'деревня раздолье', 'деревня терпилицы',\n",
       "       'посёлок шугозеро', 'деревня ваганово', 'посёлок пушное',\n",
       "       'садовое товарищество садко', 'посёлок усть-ижора',\n",
       "       'деревня выскатка', 'городской посёлок свирьстрой',\n",
       "       'посёлок громово', 'деревня кисельня', 'деревня трубников бор',\n",
       "       'посёлок калитино', 'посёлок высокоключевой',\n",
       "       'садовое товарищество приладожский',\n",
       "       'посёлок пансионат зелёный бор', 'деревня ненимяки',\n",
       "       'деревня снегирёвка', 'деревня рапполово', 'деревня пустынка',\n",
       "       'посёлок рабитицы', 'деревня большой сабск', 'деревня русско',\n",
       "       'деревня лупполово', 'деревня большое рейзино',\n",
       "       'деревня малая романовка', 'посёлок дружноселье', 'посёлок пчевжа',\n",
       "       'посёлок володарское', 'деревня нижняя',\n",
       "       'коттеджный посёлок лесное', 'деревня тихковицы',\n",
       "       'деревня борисова грива', 'посёлок дзержинского'], dtype=object)"
      ]
     },
     "execution_count": 17,
     "metadata": {},
     "output_type": "execute_result"
    }
   ],
   "source": [
    "data['locality_name'].unique()"
   ]
  },
  {
   "cell_type": "code",
   "execution_count": 18,
   "metadata": {},
   "outputs": [
    {
     "data": {
      "text/plain": [
       "23235"
      ]
     },
     "execution_count": 18,
     "metadata": {},
     "output_type": "execute_result"
    }
   ],
   "source": [
    "data['locality_name'].duplicated().sum()\n",
    "# дубликатов стало больше, получилось заменить"
   ]
  },
  {
   "cell_type": "markdown",
   "metadata": {},
   "source": [
    "Работа по устранению редких и аномальных данных в столбцах"
   ]
  },
  {
   "cell_type": "code",
   "execution_count": 19,
   "metadata": {},
   "outputs": [
    {
     "data": {
      "text/plain": [
       "total_images                0\n",
       "last_price                  0\n",
       "total_area                  0\n",
       "first_day_exposition        0\n",
       "rooms                       0\n",
       "ceiling_height           9084\n",
       "floors_total                0\n",
       "living_area                 0\n",
       "floor                       0\n",
       "is_apartment                0\n",
       "studio                      0\n",
       "open_plan                   0\n",
       "kitchen_area                0\n",
       "balcony                     0\n",
       "locality_name               0\n",
       "airports_nearest         5524\n",
       "city_centers_nearest     5501\n",
       "parks_around3000            0\n",
       "parks_nearest           15535\n",
       "ponds_around3000            0\n",
       "ponds_nearest           14529\n",
       "days_exposition          3171\n",
       "dtype: int64"
      ]
     },
     "execution_count": 19,
     "metadata": {},
     "output_type": "execute_result"
    }
   ],
   "source": [
    "data.isnull().sum()"
   ]
  },
  {
   "cell_type": "code",
   "execution_count": 20,
   "metadata": {},
   "outputs": [
    {
     "data": {
      "text/html": [
       "<div>\n",
       "<style scoped>\n",
       "    .dataframe tbody tr th:only-of-type {\n",
       "        vertical-align: middle;\n",
       "    }\n",
       "\n",
       "    .dataframe tbody tr th {\n",
       "        vertical-align: top;\n",
       "    }\n",
       "\n",
       "    .dataframe thead th {\n",
       "        text-align: right;\n",
       "    }\n",
       "</style>\n",
       "<table border=\"1\" class=\"dataframe\">\n",
       "  <thead>\n",
       "    <tr style=\"text-align: right;\">\n",
       "      <th></th>\n",
       "      <th>total_images</th>\n",
       "      <th>last_price</th>\n",
       "      <th>total_area</th>\n",
       "      <th>rooms</th>\n",
       "      <th>ceiling_height</th>\n",
       "      <th>floors_total</th>\n",
       "      <th>living_area</th>\n",
       "      <th>floor</th>\n",
       "      <th>kitchen_area</th>\n",
       "      <th>balcony</th>\n",
       "      <th>airports_nearest</th>\n",
       "      <th>city_centers_nearest</th>\n",
       "      <th>parks_around3000</th>\n",
       "      <th>parks_nearest</th>\n",
       "      <th>ponds_around3000</th>\n",
       "      <th>ponds_nearest</th>\n",
       "      <th>days_exposition</th>\n",
       "    </tr>\n",
       "  </thead>\n",
       "  <tbody>\n",
       "    <tr>\n",
       "      <th>count</th>\n",
       "      <td>23565.000000</td>\n",
       "      <td>2.356500e+04</td>\n",
       "      <td>23565.000000</td>\n",
       "      <td>23565.000000</td>\n",
       "      <td>14481.000000</td>\n",
       "      <td>23565.000000</td>\n",
       "      <td>23565.000000</td>\n",
       "      <td>23565.000000</td>\n",
       "      <td>23565.000000</td>\n",
       "      <td>23565.000000</td>\n",
       "      <td>18041.000000</td>\n",
       "      <td>18064.000000</td>\n",
       "      <td>23565.000000</td>\n",
       "      <td>8030.000000</td>\n",
       "      <td>23565.000000</td>\n",
       "      <td>9036.000000</td>\n",
       "      <td>20394.000000</td>\n",
       "    </tr>\n",
       "    <tr>\n",
       "      <th>mean</th>\n",
       "      <td>9.878421</td>\n",
       "      <td>6.540058e+06</td>\n",
       "      <td>60.322824</td>\n",
       "      <td>2.070656</td>\n",
       "      <td>2.771283</td>\n",
       "      <td>10.675875</td>\n",
       "      <td>34.591303</td>\n",
       "      <td>5.878124</td>\n",
       "      <td>10.500277</td>\n",
       "      <td>0.593677</td>\n",
       "      <td>28797.082701</td>\n",
       "      <td>14192.656056</td>\n",
       "      <td>0.468831</td>\n",
       "      <td>490.580448</td>\n",
       "      <td>0.589900</td>\n",
       "      <td>518.289509</td>\n",
       "      <td>180.741395</td>\n",
       "    </tr>\n",
       "    <tr>\n",
       "      <th>std</th>\n",
       "      <td>5.681156</td>\n",
       "      <td>1.091093e+07</td>\n",
       "      <td>35.657060</td>\n",
       "      <td>1.078591</td>\n",
       "      <td>1.261983</td>\n",
       "      <td>6.594823</td>\n",
       "      <td>22.372806</td>\n",
       "      <td>4.871485</td>\n",
       "      <td>6.038042</td>\n",
       "      <td>0.960660</td>\n",
       "      <td>12632.499735</td>\n",
       "      <td>8613.348153</td>\n",
       "      <td>0.748403</td>\n",
       "      <td>341.572956</td>\n",
       "      <td>0.883966</td>\n",
       "      <td>278.009558</td>\n",
       "      <td>219.732782</td>\n",
       "    </tr>\n",
       "    <tr>\n",
       "      <th>min</th>\n",
       "      <td>0.000000</td>\n",
       "      <td>1.219000e+04</td>\n",
       "      <td>12.000000</td>\n",
       "      <td>0.000000</td>\n",
       "      <td>1.000000</td>\n",
       "      <td>1.000000</td>\n",
       "      <td>2.000000</td>\n",
       "      <td>1.000000</td>\n",
       "      <td>1.300000</td>\n",
       "      <td>0.000000</td>\n",
       "      <td>0.000000</td>\n",
       "      <td>181.000000</td>\n",
       "      <td>0.000000</td>\n",
       "      <td>1.000000</td>\n",
       "      <td>0.000000</td>\n",
       "      <td>13.000000</td>\n",
       "      <td>1.000000</td>\n",
       "    </tr>\n",
       "    <tr>\n",
       "      <th>25%</th>\n",
       "      <td>6.000000</td>\n",
       "      <td>3.400000e+06</td>\n",
       "      <td>40.000000</td>\n",
       "      <td>1.000000</td>\n",
       "      <td>2.510000</td>\n",
       "      <td>5.000000</td>\n",
       "      <td>19.000000</td>\n",
       "      <td>2.000000</td>\n",
       "      <td>7.000000</td>\n",
       "      <td>0.000000</td>\n",
       "      <td>18565.000000</td>\n",
       "      <td>9238.000000</td>\n",
       "      <td>0.000000</td>\n",
       "      <td>288.000000</td>\n",
       "      <td>0.000000</td>\n",
       "      <td>293.000000</td>\n",
       "      <td>45.000000</td>\n",
       "    </tr>\n",
       "    <tr>\n",
       "      <th>50%</th>\n",
       "      <td>9.000000</td>\n",
       "      <td>4.646000e+06</td>\n",
       "      <td>52.000000</td>\n",
       "      <td>2.000000</td>\n",
       "      <td>2.650000</td>\n",
       "      <td>9.000000</td>\n",
       "      <td>30.000000</td>\n",
       "      <td>4.000000</td>\n",
       "      <td>9.000000</td>\n",
       "      <td>0.000000</td>\n",
       "      <td>26757.000000</td>\n",
       "      <td>13096.500000</td>\n",
       "      <td>0.000000</td>\n",
       "      <td>455.000000</td>\n",
       "      <td>0.000000</td>\n",
       "      <td>503.000000</td>\n",
       "      <td>95.000000</td>\n",
       "    </tr>\n",
       "    <tr>\n",
       "      <th>75%</th>\n",
       "      <td>14.000000</td>\n",
       "      <td>6.790000e+06</td>\n",
       "      <td>69.700000</td>\n",
       "      <td>3.000000</td>\n",
       "      <td>2.800000</td>\n",
       "      <td>16.000000</td>\n",
       "      <td>42.100000</td>\n",
       "      <td>8.000000</td>\n",
       "      <td>12.000000</td>\n",
       "      <td>1.000000</td>\n",
       "      <td>37273.000000</td>\n",
       "      <td>16285.000000</td>\n",
       "      <td>1.000000</td>\n",
       "      <td>612.000000</td>\n",
       "      <td>1.000000</td>\n",
       "      <td>730.000000</td>\n",
       "      <td>231.000000</td>\n",
       "    </tr>\n",
       "    <tr>\n",
       "      <th>max</th>\n",
       "      <td>50.000000</td>\n",
       "      <td>7.630000e+08</td>\n",
       "      <td>900.000000</td>\n",
       "      <td>19.000000</td>\n",
       "      <td>100.000000</td>\n",
       "      <td>60.000000</td>\n",
       "      <td>409.700000</td>\n",
       "      <td>33.000000</td>\n",
       "      <td>112.000000</td>\n",
       "      <td>5.000000</td>\n",
       "      <td>84869.000000</td>\n",
       "      <td>65968.000000</td>\n",
       "      <td>3.000000</td>\n",
       "      <td>3190.000000</td>\n",
       "      <td>3.000000</td>\n",
       "      <td>1344.000000</td>\n",
       "      <td>1580.000000</td>\n",
       "    </tr>\n",
       "  </tbody>\n",
       "</table>\n",
       "</div>"
      ],
      "text/plain": [
       "       total_images    last_price    total_area         rooms  ceiling_height  \\\n",
       "count  23565.000000  2.356500e+04  23565.000000  23565.000000    14481.000000   \n",
       "mean       9.878421  6.540058e+06     60.322824      2.070656        2.771283   \n",
       "std        5.681156  1.091093e+07     35.657060      1.078591        1.261983   \n",
       "min        0.000000  1.219000e+04     12.000000      0.000000        1.000000   \n",
       "25%        6.000000  3.400000e+06     40.000000      1.000000        2.510000   \n",
       "50%        9.000000  4.646000e+06     52.000000      2.000000        2.650000   \n",
       "75%       14.000000  6.790000e+06     69.700000      3.000000        2.800000   \n",
       "max       50.000000  7.630000e+08    900.000000     19.000000      100.000000   \n",
       "\n",
       "       floors_total   living_area         floor  kitchen_area       balcony  \\\n",
       "count  23565.000000  23565.000000  23565.000000  23565.000000  23565.000000   \n",
       "mean      10.675875     34.591303      5.878124     10.500277      0.593677   \n",
       "std        6.594823     22.372806      4.871485      6.038042      0.960660   \n",
       "min        1.000000      2.000000      1.000000      1.300000      0.000000   \n",
       "25%        5.000000     19.000000      2.000000      7.000000      0.000000   \n",
       "50%        9.000000     30.000000      4.000000      9.000000      0.000000   \n",
       "75%       16.000000     42.100000      8.000000     12.000000      1.000000   \n",
       "max       60.000000    409.700000     33.000000    112.000000      5.000000   \n",
       "\n",
       "       airports_nearest  city_centers_nearest  parks_around3000  \\\n",
       "count      18041.000000          18064.000000      23565.000000   \n",
       "mean       28797.082701          14192.656056          0.468831   \n",
       "std        12632.499735           8613.348153          0.748403   \n",
       "min            0.000000            181.000000          0.000000   \n",
       "25%        18565.000000           9238.000000          0.000000   \n",
       "50%        26757.000000          13096.500000          0.000000   \n",
       "75%        37273.000000          16285.000000          1.000000   \n",
       "max        84869.000000          65968.000000          3.000000   \n",
       "\n",
       "       parks_nearest  ponds_around3000  ponds_nearest  days_exposition  \n",
       "count    8030.000000      23565.000000    9036.000000     20394.000000  \n",
       "mean      490.580448          0.589900     518.289509       180.741395  \n",
       "std       341.572956          0.883966     278.009558       219.732782  \n",
       "min         1.000000          0.000000      13.000000         1.000000  \n",
       "25%       288.000000          0.000000     293.000000        45.000000  \n",
       "50%       455.000000          0.000000     503.000000        95.000000  \n",
       "75%       612.000000          1.000000     730.000000       231.000000  \n",
       "max      3190.000000          3.000000    1344.000000      1580.000000  "
      ]
     },
     "execution_count": 20,
     "metadata": {},
     "output_type": "execute_result"
    }
   ],
   "source": [
    "# посмотрим на данные в таблице, для выявления выбрасов и сомнительных данных\n",
    "data.describe()"
   ]
  },
  {
   "cell_type": "code",
   "execution_count": 21,
   "metadata": {},
   "outputs": [
    {
     "name": "stdout",
     "output_type": "stream",
     "text": [
      "Квартир стоимостью 0: 0\n",
      "Квартир стоимостью меньше 100.000: 1\n",
      "Квартир стоимостью больше 10.000.000: 2698\n",
      "Квартир стоимостью больше 100.000.000: 37\n"
     ]
    },
    {
     "data": {
      "image/png": "[encoded data removed]",
      "text/plain": [
       "<Figure size 432x288 with 1 Axes>"
      ]
     },
     "metadata": {
      "needs_background": "light"
     },
     "output_type": "display_data"
    },
    {
     "data": {
      "image/png": "[encoded data removed]",
      "text/plain": [
       "<Figure size 432x288 with 1 Axes>"
      ]
     },
     "metadata": {
      "needs_background": "light"
     },
     "output_type": "display_data"
    }
   ],
   "source": [
    "#last_price\n",
    "print('Квартир стоимостью 0:', data.query('last_price == 0')['last_price'].count())\n",
    "print('Квартир стоимостью меньше 100.000:', data.query('last_price < 1e+05')['last_price'].count())\n",
    "print('Квартир стоимостью больше 10.000.000:', data.query('last_price > 1e+07')['last_price'].count())\n",
    "print('Квартир стоимостью больше 100.000.000:', data.query('last_price > 1e+08')['last_price'].count())\n",
    "data.hist('last_price', bins=50, range=(0,2e+07));\n",
    "data.hist('last_price', bins=50, range=(0,4e+06));\n",
    "\n",
    "data.drop(index=data.query('last_price > 1e+08').index,inplace=True)\n",
    "data.drop(index=data.query('last_price < 1e+05').index,inplace=True)\n",
    "\n",
    "#не будем рассматривать квартиры меньше 100 тыс и больше 100 миллионов - выборка маленькая\n"
   ]
  },
  {
   "cell_type": "code",
   "execution_count": 22,
   "metadata": {},
   "outputs": [
    {
     "name": "stdout",
     "output_type": "stream",
     "text": [
      "Квартир площадью менее 10 кв.м.: 0\n",
      "Квартир площадью более 500 кв.м.: 3\n"
     ]
    },
    {
     "data": {
      "image/png": "[encoded data removed]",
      "text/plain": [
       "<Figure size 432x288 with 1 Axes>"
      ]
     },
     "metadata": {
      "needs_background": "light"
     },
     "output_type": "display_data"
    },
    {
     "data": {
      "image/png": "[encoded data removed]",
      "text/plain": [
       "<Figure size 432x288 with 1 Axes>"
      ]
     },
     "metadata": {
      "needs_background": "light"
     },
     "output_type": "display_data"
    }
   ],
   "source": [
    "#total_area - всего 3 квартиры с большой площадью более 500, убрала их из расчетов.\n",
    "print('Квартир площадью менее 10 кв.м.:',data.query('total_area < 10')['total_area'].count()) \n",
    "print('Квартир площадью более 500 кв.м.:',data.query('total_area > 500')['total_area'].count())\n",
    "\n",
    "data.drop(index=data.query('total_area > 500').index,inplace=True)\n",
    "\n",
    "data.hist('total_area', bins=50, range=(0,900));\n",
    "data.hist('total_area', bins=50, range=(0,100));"
   ]
  },
  {
   "cell_type": "code",
   "execution_count": 23,
   "metadata": {},
   "outputs": [
    {
     "name": "stdout",
     "output_type": "stream",
     "text": [
      "Квартиры без комнат: 194\n",
      "Квартиры без комнат и студии: 135\n",
      "Квартиры без комнат и апартаменты: 0\n",
      "Квартиры без комнат и свободная планировка: 59\n",
      "Квартиры без комнат не апартаменты и не свободная планировка: 0\n",
      "Квартиры с более чем 9 комнатами: 17\n"
     ]
    }
   ],
   "source": [
    "#rooms\n",
    "print('Квартиры без комнат:',data.query('rooms == 0')['rooms'].count())\n",
    "print('Квартиры без комнат и студии:',data.query('rooms == 0 and studio')['rooms'].count()) \n",
    "print('Квартиры без комнат и апартаменты:',data.query('rooms == 0 and is_apartment')['rooms'].count()) \n",
    "print('Квартиры без комнат и свободная планировка:',data.query('rooms == 0 and open_plan')['rooms'].count())\n",
    "print('Квартиры без комнат не апартаменты и не свободная планировка:',data.query('rooms == 0 and ~open_plan and ~studio')['rooms'].count())\n",
    "print('Квартиры с более чем 9 комнатами:',data.query('rooms >= 9')['rooms'].count())\n",
    "data.drop(index=data.query('rooms > 9').index,inplace=True)"
   ]
  },
  {
   "cell_type": "markdown",
   "metadata": {},
   "source": [
    "Скорей всего квартиры без комнат это апартаменты, судя по данным выше. Можно удалить квартиры, где много комнат - более 9"
   ]
  },
  {
   "cell_type": "code",
   "execution_count": 24,
   "metadata": {},
   "outputs": [
    {
     "name": "stdout",
     "output_type": "stream",
     "text": [
      "Квартир с потолками менее 2.5м: 73 шт.\n",
      "Квартир с потолками от 2.5м до 3.6м: 14159 шт.\n",
      "Квартир с потолками от 4 до 5м: 36 шт.\n",
      "Квартир с потолками от 5 до 25м: 14 шт.\n",
      "Квартир с потолками от 25м до 36м: 19 шт.\n",
      "Квартир с потолками от 36м до 50м: 0 шт.\n",
      "Квартир с потолками от 50м: 1 шт.\n"
     ]
    }
   ],
   "source": [
    "#ceiling_height\t\n",
    "print('Квартир с потолками менее 2.5м: ' + str(data.query('ceiling_height < 2.5')['ceiling_height'].count()) + ' шт.')\n",
    "print('Квартир с потолками от 2.5м до 3.6м: ' + str(data.query('ceiling_height >= 2.5 and ceiling_height <= 3.6')['ceiling_height'].count()) + ' шт.')\n",
    "print('Квартир с потолками от 4 до 5м: ' + str(data.query('ceiling_height > 4 and ceiling_height <= 5')['ceiling_height'].count()) + ' шт.')\n",
    "print('Квартир с потолками от 5 до 25м: ' + str(data.query('ceiling_height > 5 and ceiling_height < 25')['ceiling_height'].count()) + ' шт.')\n",
    "print('Квартир с потолками от 25м до 36м: ' + str(data.query('ceiling_height >= 25 and ceiling_height <= 36')['ceiling_height'].count()) + ' шт.')\n",
    "print('Квартир с потолками от 36м до 50м: ' + str(data.query('ceiling_height > 36 and ceiling_height < 50')['ceiling_height'].count()) + ' шт.')\n",
    "print('Квартир с потолками от 50м: ' + str(data.query('ceiling_height >= 50')['ceiling_height'].count()) + ' шт.')"
   ]
  },
  {
   "cell_type": "markdown",
   "metadata": {},
   "source": [
    "Можем удалить квартиру с высотой потолка более 50 м - скорей всего это ошибочные данные, и она всего одна.\n",
    "Тажке есть ошибка в данныз от 25м до 36 метров - это скоей всего 2,5 и 3,6 метра.\n",
    "Удалим квартиры где потолок меньше 2,5 метров - это не по стандартам строительства и выборка маленькая всего 73 квартиры\n",
    "Исправляем ниже"
   ]
  },
  {
   "cell_type": "code",
   "execution_count": 25,
   "metadata": {},
   "outputs": [
    {
     "name": "stdout",
     "output_type": "stream",
     "text": [
      "Квартир с потолками от 2.5м до 3.6м: 14178 шт.\n",
      "Квартир с потолками от 25м до 36м: 0 шт.\n"
     ]
    }
   ],
   "source": [
    "data.update(data[(data['ceiling_height'] >= 25) & (data['ceiling_height'] <= 36)]['ceiling_height']/10)\n",
    "print('Квартир с потолками от 2.5м до 3.6м: ' + str(data.query('ceiling_height >= 2.5 and ceiling_height <= 3.6')['ceiling_height'].count()) + ' шт.')\n",
    "print('Квартир с потолками от 25м до 36м: ' + str(data.query('ceiling_height >= 25 and ceiling_height <= 36')['ceiling_height'].count()) + ' шт.')\n"
   ]
  },
  {
   "cell_type": "code",
   "execution_count": 26,
   "metadata": {},
   "outputs": [
    {
     "name": "stdout",
     "output_type": "stream",
     "text": [
      "Квартир в одноэтажных домах :  25\n",
      "Квартир в 35+ этажных домах :  6\n"
     ]
    }
   ],
   "source": [
    "#floors_total\n",
    "print('Квартир в одноэтажных домах : ',data.query('floors_total == 1')['floors_total'].count())\n",
    "print('Квартир в 35+ этажных домах : ',data.query('floors_total > 35')['floors_total'].count())"
   ]
  },
  {
   "cell_type": "code",
   "execution_count": 27,
   "metadata": {},
   "outputs": [
    {
     "data": {
      "image/png": "[encoded data removed]",
      "text/plain": [
       "<Figure size 432x288 with 1 Axes>"
      ]
     },
     "metadata": {
      "needs_background": "light"
     },
     "output_type": "display_data"
    }
   ],
   "source": [
    "# удалю квартиры где больше 35 этажей, всего 6 штук. Больше всего квартир с этадностью в 5, 8, 17 этажей\n",
    "data.drop(index=data.query('floors_total > 30').index,inplace=True)\n",
    "\n",
    "data.hist('floors_total', bins=30);"
   ]
  },
  {
   "cell_type": "code",
   "execution_count": 28,
   "metadata": {},
   "outputs": [
    {
     "name": "stdout",
     "output_type": "stream",
     "text": [
      "Жилая площадь меньше 5 кв.м.:  4\n",
      "Жилая площадь меньше 10 кв.м.:  31\n",
      "Жилая площадь больше общей:  0\n",
      "Жилая площадь больше 200:  25\n"
     ]
    }
   ],
   "source": [
    "#living_area\n",
    "print('Жилая площадь меньше 5 кв.м.: ',data.query('living_area < 5')['living_area'].count())\n",
    "print('Жилая площадь меньше 10 кв.м.: ',data.query('living_area < 10')['living_area'].count())\n",
    "print('Жилая площадь больше общей: ',data.query('living_area > total_area')['living_area'].count())\n",
    "print('Жилая площадь больше 200: ',data.query('living_area > 200')['living_area'].count())\n"
   ]
  },
  {
   "cell_type": "markdown",
   "metadata": {},
   "source": [
    "Отбросим квартиры с площадью меньше 10 квадратов и более 200 - это скорее исключение или ошибка в случае в минимальную площадь в 2 квадрата)"
   ]
  },
  {
   "cell_type": "code",
   "execution_count": 29,
   "metadata": {},
   "outputs": [],
   "source": [
    "data.drop(index=data.query('living_area < 10').index,inplace=True)\n",
    "data.drop(index=data.query('living_area > 200').index,inplace=True)"
   ]
  },
  {
   "cell_type": "code",
   "execution_count": 30,
   "metadata": {},
   "outputs": [
    {
     "name": "stdout",
     "output_type": "stream",
     "text": [
      "Этаж 0 0\n",
      "Этаж 0 0\n",
      "Этаж больше количества этажей:  0\n"
     ]
    },
    {
     "data": {
      "image/png": "[encoded data removed]",
      "text/plain": [
       "<Figure size 432x288 with 1 Axes>"
      ]
     },
     "metadata": {
      "needs_background": "light"
     },
     "output_type": "display_data"
    }
   ],
   "source": [
    "#floor - проверим квартриры на нулевом этаже и выше 30, а также ошибку - если квартира находится на этаже которого нет в здании.\n",
    "print('Этаж 0',data.query('floor == 0')['floor'].count())\n",
    "\n",
    "print('Этаж 0',data.query('floor > 30')['floor'].count())\n",
    "\n",
    "print('Этаж больше количества этажей: ',data.query('floor > floors_total')['floor'].count())\n",
    "\n",
    "data.hist('floor',bins=50);"
   ]
  },
  {
   "cell_type": "markdown",
   "metadata": {},
   "source": [
    "По этажам все корректно."
   ]
  },
  {
   "cell_type": "code",
   "execution_count": 31,
   "metadata": {},
   "outputs": [
    {
     "name": "stdout",
     "output_type": "stream",
     "text": [
      "Площадь кухни меньше 2 кв.м.:  1\n",
      "Площадь кухни 5 кв.м.:  357\n",
      "Площадь кухни больше 50 кв.м.:  37\n",
      "Площадь кухни больше общей:  0\n"
     ]
    }
   ],
   "source": [
    "#kitchen_area\n",
    "print('Площадь кухни меньше 2 кв.м.: ',data.query('kitchen_area < 2')['living_area'].count())\n",
    "print('Площадь кухни 5 кв.м.: ',data.query('kitchen_area == 5')['living_area'].count())\n",
    "print('Площадь кухни больше 50 кв.м.: ',data.query('kitchen_area > 50')['living_area'].count())\n",
    "print('Площадь кухни больше общей: ',data.query('kitchen_area > total_area')['living_area'].count())\n"
   ]
  },
  {
   "cell_type": "code",
   "execution_count": 32,
   "metadata": {},
   "outputs": [],
   "source": [
    "#удалим кухни где площадь меньше 2 квадратов и более 50\n",
    "data.drop(index=data.query('kitchen_area < 2').index,inplace=True)\n",
    "data.drop(index=data.query('kitchen_area > 50').index,inplace=True)"
   ]
  },
  {
   "cell_type": "code",
   "execution_count": 33,
   "metadata": {},
   "outputs": [
    {
     "name": "stdout",
     "output_type": "stream",
     "text": [
      "Балкон один:  4164\n",
      "Балкона нет:  15032\n",
      "Балконов более 5:  0\n"
     ]
    },
    {
     "data": {
      "image/png": "[encoded data removed]",
      "text/plain": [
       "<Figure size 432x288 with 1 Axes>"
      ]
     },
     "metadata": {
      "needs_background": "light"
     },
     "output_type": "display_data"
    }
   ],
   "source": [
    "#balcony-он либо есть либо его нет - проверим\n",
    "print('Балкон один: ',data.query('balcony == 1')['balcony'].count())\n",
    "print('Балкона нет: ',data.query('balcony == 0')['balcony'].count())\n",
    "print('Балконов более 5: ',data.query('balcony > 5')['balcony'].count())\n",
    "\n",
    "\n",
    "data.hist('balcony',bins=10);\n",
    "# с балконами все хорошо"
   ]
  },
  {
   "cell_type": "code",
   "execution_count": 34,
   "metadata": {},
   "outputs": [
    {
     "name": "stdout",
     "output_type": "stream",
     "text": [
      "Объявление не было оопубликовано:  0\n",
      "Объявлению больше года :  3007\n",
      "Объявлению больше 2-х лет :  738\n",
      "Объявлению больше 3-х лет :  163\n",
      "Объявлению больше 4-х лет :  11\n"
     ]
    },
    {
     "data": {
      "image/png": "[encoded data removed]",
      "text/plain": [
       "<Figure size 432x288 with 1 Axes>"
      ]
     },
     "metadata": {
      "needs_background": "light"
     },
     "output_type": "display_data"
    }
   ],
   "source": [
    "#days_exposition\n",
    "print('Объявление не было оопубликовано: ',data.query('days_exposition == 0')['days_exposition'].count())\n",
    "print('Объявлению больше года : ',data.query('days_exposition > 365')['days_exposition'].count())\n",
    "print('Объявлению больше 2-х лет : ',data.query('days_exposition > 365*2')['days_exposition'].count())\n",
    "print('Объявлению больше 3-х лет : ',data.query('days_exposition > 365*3')['days_exposition'].count())\n",
    "print('Объявлению больше 4-х лет : ',data.query('days_exposition > 365*4')['days_exposition'].count())\n",
    "\n",
    "data.drop(index=data.query('days_exposition > 365*4').index,inplace=True)\n",
    "\n",
    "data.hist('days_exposition', bins=100);"
   ]
  },
  {
   "cell_type": "code",
   "execution_count": 35,
   "metadata": {},
   "outputs": [
    {
     "name": "stdout",
     "output_type": "stream",
     "text": [
      "Растояние менее 5000 метров:  1\n",
      "Растояние более 70000 метров:  29\n"
     ]
    }
   ],
   "source": [
    "# airports_nearest\n",
    "print('Растояние менее 5000 метров: ',data.query('airports_nearest < 5000')['airports_nearest'].count())\n",
    "print('Растояние более 70000 метров: ',data.query('airports_nearest > 70000')['airports_nearest'].count())\n",
    "\n",
    "data.drop(index=data.query('airports_nearest < 5000').index,inplace=True)"
   ]
  },
  {
   "cell_type": "markdown",
   "metadata": {},
   "source": [
    "### Шаг 3. Расчёты и добавление результатов в таблицу"
   ]
  },
  {
   "cell_type": "markdown",
   "metadata": {},
   "source": [
    "Цена одного квадратного метра"
   ]
  },
  {
   "cell_type": "code",
   "execution_count": 36,
   "metadata": {},
   "outputs": [
    {
     "name": "stdout",
     "output_type": "stream",
     "text": [
      "       total_images  last_price  total_area first_day_exposition  rooms  \\\n",
      "0                20    13000000      108.00           2019-03-07      3   \n",
      "1                 7     3350000       40.40           2018-12-04      1   \n",
      "2                10     5196000       56.00           2015-08-20      2   \n",
      "3                 0    64900000      159.00           2015-07-24      3   \n",
      "4                 2    10000000      100.00           2018-06-19      2   \n",
      "...             ...         ...         ...                  ...    ...   \n",
      "23694             9     9700000      133.81           2017-03-21      3   \n",
      "23695            14     3100000       59.00           2018-01-15      3   \n",
      "23696            18     2500000       56.70           2018-02-11      2   \n",
      "23697            13    11475000       76.75           2017-03-28      2   \n",
      "23698             4     1350000       32.30           2017-07-21      1   \n",
      "\n",
      "       ceiling_height  floors_total  living_area  floor  is_apartment  ...  \\\n",
      "0                2.70          16.0    51.000000      8         False  ...   \n",
      "1                 NaN          11.0    18.600000      1         False  ...   \n",
      "2                 NaN           5.0    34.300000      4         False  ...   \n",
      "3                 NaN          14.0    90.785766      9         False  ...   \n",
      "4                3.03          14.0    32.000000     13         False  ...   \n",
      "...               ...           ...          ...    ...           ...  ...   \n",
      "23694            3.70           5.0    73.300000      3         False  ...   \n",
      "23695             NaN           5.0    38.000000      4         False  ...   \n",
      "23696             NaN           3.0    29.700000      1         False  ...   \n",
      "23697            3.00          17.0    43.822689     12         False  ...   \n",
      "23698            2.50           5.0    12.300000      1         False  ...   \n",
      "\n",
      "       balcony        locality_name  airports_nearest  city_centers_nearest  \\\n",
      "0            0      санкт-петербург           18863.0               16028.0   \n",
      "1            2       посёлок шушары           12817.0               18603.0   \n",
      "2            0      санкт-петербург           21741.0               13933.0   \n",
      "3            0      санкт-петербург           28098.0                6800.0   \n",
      "4            0      санкт-петербург           31856.0                8098.0   \n",
      "...        ...                  ...               ...                   ...   \n",
      "23694        0      санкт-петербург           24665.0                4232.0   \n",
      "23695        0                тосно               NaN                   NaN   \n",
      "23696        0     село рождествено               NaN                   NaN   \n",
      "23697        2      санкт-петербург           39140.0               10364.0   \n",
      "23698        0  посёлок новый учхоз               NaN                   NaN   \n",
      "\n",
      "      parks_around3000  parks_nearest  ponds_around3000  ponds_nearest  \\\n",
      "0                    1          482.0                 2          755.0   \n",
      "1                    0            NaN                 0            NaN   \n",
      "2                    1           90.0                 2          574.0   \n",
      "3                    2           84.0                 3          234.0   \n",
      "4                    2          112.0                 1           48.0   \n",
      "...                ...            ...               ...            ...   \n",
      "23694                1          796.0                 3          381.0   \n",
      "23695                0            NaN                 0            NaN   \n",
      "23696                0            NaN                 0            NaN   \n",
      "23697                2          173.0                 3          196.0   \n",
      "23698                0            NaN                 0            NaN   \n",
      "\n",
      "       days_exposition   cost_per_sqm  \n",
      "0                  NaN  120370.370370  \n",
      "1                 81.0   82920.792079  \n",
      "2                558.0   92785.714286  \n",
      "3                424.0  408176.100629  \n",
      "4                121.0  100000.000000  \n",
      "...                ...            ...  \n",
      "23694              NaN   72490.845228  \n",
      "23695             45.0   52542.372881  \n",
      "23696              NaN   44091.710758  \n",
      "23697            602.0  149511.400651  \n",
      "23698              NaN   41795.665635  \n",
      "\n",
      "[23377 rows x 23 columns]\n"
     ]
    }
   ],
   "source": [
    "data['cost_per_sqm'] = data['last_price'] / data['total_area']\n",
    "print(data)"
   ]
  },
  {
   "cell_type": "markdown",
   "metadata": {},
   "source": [
    "день публикации объявления (0 - понедельник, 1 - вторник и т.д.)/месяц/год"
   ]
  },
  {
   "cell_type": "code",
   "execution_count": 37,
   "metadata": {},
   "outputs": [
    {
     "name": "stdout",
     "output_type": "stream",
     "text": [
      "       total_images  last_price  total_area first_day_exposition  rooms  \\\n",
      "0                20    13000000      108.00           2019-03-07      3   \n",
      "1                 7     3350000       40.40           2018-12-04      1   \n",
      "2                10     5196000       56.00           2015-08-20      2   \n",
      "3                 0    64900000      159.00           2015-07-24      3   \n",
      "4                 2    10000000      100.00           2018-06-19      2   \n",
      "...             ...         ...         ...                  ...    ...   \n",
      "23694             9     9700000      133.81           2017-03-21      3   \n",
      "23695            14     3100000       59.00           2018-01-15      3   \n",
      "23696            18     2500000       56.70           2018-02-11      2   \n",
      "23697            13    11475000       76.75           2017-03-28      2   \n",
      "23698             4     1350000       32.30           2017-07-21      1   \n",
      "\n",
      "       ceiling_height  floors_total  living_area  floor  is_apartment  ...  \\\n",
      "0                2.70          16.0    51.000000      8         False  ...   \n",
      "1                 NaN          11.0    18.600000      1         False  ...   \n",
      "2                 NaN           5.0    34.300000      4         False  ...   \n",
      "3                 NaN          14.0    90.785766      9         False  ...   \n",
      "4                3.03          14.0    32.000000     13         False  ...   \n",
      "...               ...           ...          ...    ...           ...  ...   \n",
      "23694            3.70           5.0    73.300000      3         False  ...   \n",
      "23695             NaN           5.0    38.000000      4         False  ...   \n",
      "23696             NaN           3.0    29.700000      1         False  ...   \n",
      "23697            3.00          17.0    43.822689     12         False  ...   \n",
      "23698            2.50           5.0    12.300000      1         False  ...   \n",
      "\n",
      "       city_centers_nearest  parks_around3000  parks_nearest  \\\n",
      "0                   16028.0                 1          482.0   \n",
      "1                   18603.0                 0            NaN   \n",
      "2                   13933.0                 1           90.0   \n",
      "3                    6800.0                 2           84.0   \n",
      "4                    8098.0                 2          112.0   \n",
      "...                     ...               ...            ...   \n",
      "23694                4232.0                 1          796.0   \n",
      "23695                   NaN                 0            NaN   \n",
      "23696                   NaN                 0            NaN   \n",
      "23697               10364.0                 2          173.0   \n",
      "23698                   NaN                 0            NaN   \n",
      "\n",
      "       ponds_around3000 ponds_nearest  days_exposition   cost_per_sqm  \\\n",
      "0                     2         755.0              NaN  120370.370370   \n",
      "1                     0           NaN             81.0   82920.792079   \n",
      "2                     2         574.0            558.0   92785.714286   \n",
      "3                     3         234.0            424.0  408176.100629   \n",
      "4                     1          48.0            121.0  100000.000000   \n",
      "...                 ...           ...              ...            ...   \n",
      "23694                 3         381.0              NaN   72490.845228   \n",
      "23695                 0           NaN             45.0   52542.372881   \n",
      "23696                 0           NaN              NaN   44091.710758   \n",
      "23697                 3         196.0            602.0  149511.400651   \n",
      "23698                 0           NaN              NaN   41795.665635   \n",
      "\n",
      "       weekday  month  year  \n",
      "0            3      3  2019  \n",
      "1            1     12  2018  \n",
      "2            3      8  2015  \n",
      "3            4      7  2015  \n",
      "4            1      6  2018  \n",
      "...        ...    ...   ...  \n",
      "23694        1      3  2017  \n",
      "23695        0      1  2018  \n",
      "23696        6      2  2018  \n",
      "23697        1      3  2017  \n",
      "23698        4      7  2017  \n",
      "\n",
      "[23377 rows x 26 columns]\n"
     ]
    }
   ],
   "source": [
    "data['first_day_exposition'] = pd.to_datetime(data['first_day_exposition'], format='%Y-%m-%dT%H:%M:%S')\n",
    "\n",
    "data['weekday'] = data['first_day_exposition'].dt.weekday\n",
    "data['month'] = data['first_day_exposition'].dt.month\n",
    "data['year'] = data['first_day_exposition'].dt.year\n",
    "print(data)"
   ]
  },
  {
   "cell_type": "code",
   "execution_count": 38,
   "metadata": {},
   "outputs": [
    {
     "data": {
      "text/plain": [
       "3    4238\n",
       "1    4128\n",
       "4    3956\n",
       "2    3919\n",
       "0    3568\n",
       "5    1903\n",
       "6    1665\n",
       "Name: weekday, dtype: int64"
      ]
     },
     "execution_count": 38,
     "metadata": {},
     "output_type": "execute_result"
    }
   ],
   "source": [
    "data['weekday'].value_counts()"
   ]
  },
  {
   "cell_type": "code",
   "execution_count": 39,
   "metadata": {},
   "outputs": [
    {
     "data": {
      "text/plain": [
       "2     2611\n",
       "3     2555\n",
       "11    2348\n",
       "4     2337\n",
       "10    2087\n",
       "9     1964\n",
       "6     1736\n",
       "8     1726\n",
       "7     1674\n",
       "12    1619\n",
       "1     1467\n",
       "5     1253\n",
       "Name: month, dtype: int64"
      ]
     },
     "execution_count": 39,
     "metadata": {},
     "output_type": "execute_result"
    }
   ],
   "source": [
    "data['month'].value_counts()"
   ]
  },
  {
   "cell_type": "code",
   "execution_count": 40,
   "metadata": {},
   "outputs": [
    {
     "data": {
      "text/plain": [
       "2018    8437\n",
       "2017    8091\n",
       "2019    2846\n",
       "2016    2731\n",
       "2015    1144\n",
       "2014     128\n",
       "Name: year, dtype: int64"
      ]
     },
     "execution_count": 40,
     "metadata": {},
     "output_type": "execute_result"
    }
   ],
   "source": [
    "data['year'].value_counts()"
   ]
  },
  {
   "cell_type": "markdown",
   "metadata": {},
   "source": [
    " тип этажа квартиры (значения — «первый», «последний», «другой»)"
   ]
  },
  {
   "cell_type": "code",
   "execution_count": 41,
   "metadata": {},
   "outputs": [
    {
     "name": "stdout",
     "output_type": "stream",
     "text": [
      "       total_images  last_price  total_area first_day_exposition  rooms  \\\n",
      "0                20    13000000      108.00           2019-03-07      3   \n",
      "1                 7     3350000       40.40           2018-12-04      1   \n",
      "2                10     5196000       56.00           2015-08-20      2   \n",
      "3                 0    64900000      159.00           2015-07-24      3   \n",
      "4                 2    10000000      100.00           2018-06-19      2   \n",
      "...             ...         ...         ...                  ...    ...   \n",
      "23694             9     9700000      133.81           2017-03-21      3   \n",
      "23695            14     3100000       59.00           2018-01-15      3   \n",
      "23696            18     2500000       56.70           2018-02-11      2   \n",
      "23697            13    11475000       76.75           2017-03-28      2   \n",
      "23698             4     1350000       32.30           2017-07-21      1   \n",
      "\n",
      "       ceiling_height  floors_total  living_area  floor  is_apartment  ...  \\\n",
      "0                2.70          16.0    51.000000      8         False  ...   \n",
      "1                 NaN          11.0    18.600000      1         False  ...   \n",
      "2                 NaN           5.0    34.300000      4         False  ...   \n",
      "3                 NaN          14.0    90.785766      9         False  ...   \n",
      "4                3.03          14.0    32.000000     13         False  ...   \n",
      "...               ...           ...          ...    ...           ...  ...   \n",
      "23694            3.70           5.0    73.300000      3         False  ...   \n",
      "23695             NaN           5.0    38.000000      4         False  ...   \n",
      "23696             NaN           3.0    29.700000      1         False  ...   \n",
      "23697            3.00          17.0    43.822689     12         False  ...   \n",
      "23698            2.50           5.0    12.300000      1         False  ...   \n",
      "\n",
      "       parks_around3000  parks_nearest  ponds_around3000  ponds_nearest  \\\n",
      "0                     1          482.0                 2          755.0   \n",
      "1                     0            NaN                 0            NaN   \n",
      "2                     1           90.0                 2          574.0   \n",
      "3                     2           84.0                 3          234.0   \n",
      "4                     2          112.0                 1           48.0   \n",
      "...                 ...            ...               ...            ...   \n",
      "23694                 1          796.0                 3          381.0   \n",
      "23695                 0            NaN                 0            NaN   \n",
      "23696                 0            NaN                 0            NaN   \n",
      "23697                 2          173.0                 3          196.0   \n",
      "23698                 0            NaN                 0            NaN   \n",
      "\n",
      "      days_exposition   cost_per_sqm  weekday  month  year  floor_type  \n",
      "0                 NaN  120370.370370        3      3  2019      другой  \n",
      "1                81.0   82920.792079        1     12  2018      первый  \n",
      "2               558.0   92785.714286        3      8  2015      другой  \n",
      "3               424.0  408176.100629        4      7  2015      другой  \n",
      "4               121.0  100000.000000        1      6  2018      другой  \n",
      "...               ...            ...      ...    ...   ...         ...  \n",
      "23694             NaN   72490.845228        1      3  2017      другой  \n",
      "23695            45.0   52542.372881        0      1  2018      другой  \n",
      "23696             NaN   44091.710758        6      2  2018      первый  \n",
      "23697           602.0  149511.400651        1      3  2017      другой  \n",
      "23698             NaN   41795.665635        4      7  2017      первый  \n",
      "\n",
      "[23377 rows x 27 columns]\n"
     ]
    }
   ],
   "source": [
    "def floor_group(row):\n",
    "    if row['floor'] == 1:\n",
    "        return 'первый'\n",
    "    elif row['floor'] == row['floors_total']:\n",
    "        return 'последний'\n",
    "    else:\n",
    "        return 'другой'\n",
    "data['floor_type'] = data.apply(floor_group, axis=1)\n",
    "print(data)"
   ]
  },
  {
   "cell_type": "code",
   "execution_count": 42,
   "metadata": {},
   "outputs": [
    {
     "data": {
      "text/plain": [
       "другой       17191\n",
       "последний     3291\n",
       "первый        2895\n",
       "Name: floor_type, dtype: int64"
      ]
     },
     "execution_count": 42,
     "metadata": {},
     "output_type": "execute_result"
    }
   ],
   "source": [
    "data['floor_type'].value_counts()"
   ]
  },
  {
   "cell_type": "markdown",
   "metadata": {},
   "source": [
    "### Шаг 4. Исследовательский анализ данных (EDA)"
   ]
  },
  {
   "cell_type": "code",
   "execution_count": 43,
   "metadata": {},
   "outputs": [
    {
     "data": {
      "text/html": [
       "<div>\n",
       "<style scoped>\n",
       "    .dataframe tbody tr th:only-of-type {\n",
       "        vertical-align: middle;\n",
       "    }\n",
       "\n",
       "    .dataframe tbody tr th {\n",
       "        vertical-align: top;\n",
       "    }\n",
       "\n",
       "    .dataframe thead th {\n",
       "        text-align: right;\n",
       "    }\n",
       "</style>\n",
       "<table border=\"1\" class=\"dataframe\">\n",
       "  <thead>\n",
       "    <tr style=\"text-align: right;\">\n",
       "      <th></th>\n",
       "      <th>total_images</th>\n",
       "      <th>last_price</th>\n",
       "      <th>total_area</th>\n",
       "      <th>rooms</th>\n",
       "      <th>ceiling_height</th>\n",
       "      <th>floors_total</th>\n",
       "      <th>living_area</th>\n",
       "      <th>floor</th>\n",
       "      <th>kitchen_area</th>\n",
       "      <th>balcony</th>\n",
       "      <th>...</th>\n",
       "      <th>city_centers_nearest</th>\n",
       "      <th>parks_around3000</th>\n",
       "      <th>parks_nearest</th>\n",
       "      <th>ponds_around3000</th>\n",
       "      <th>ponds_nearest</th>\n",
       "      <th>days_exposition</th>\n",
       "      <th>cost_per_sqm</th>\n",
       "      <th>weekday</th>\n",
       "      <th>month</th>\n",
       "      <th>year</th>\n",
       "    </tr>\n",
       "  </thead>\n",
       "  <tbody>\n",
       "    <tr>\n",
       "      <th>count</th>\n",
       "      <td>23377.000000</td>\n",
       "      <td>2.337700e+04</td>\n",
       "      <td>23377.000000</td>\n",
       "      <td>23377.000000</td>\n",
       "      <td>14355.000000</td>\n",
       "      <td>23377.000000</td>\n",
       "      <td>23377.000000</td>\n",
       "      <td>23377.000000</td>\n",
       "      <td>23377.000000</td>\n",
       "      <td>23377.000000</td>\n",
       "      <td>...</td>\n",
       "      <td>17882.000000</td>\n",
       "      <td>23377.000000</td>\n",
       "      <td>7926.000000</td>\n",
       "      <td>23377.000000</td>\n",
       "      <td>8910.000000</td>\n",
       "      <td>20238.000000</td>\n",
       "      <td>23377.000000</td>\n",
       "      <td>23377.000000</td>\n",
       "      <td>23377.000000</td>\n",
       "      <td>23377.000000</td>\n",
       "    </tr>\n",
       "    <tr>\n",
       "      <th>mean</th>\n",
       "      <td>9.862514</td>\n",
       "      <td>6.127634e+06</td>\n",
       "      <td>59.224718</td>\n",
       "      <td>2.055696</td>\n",
       "      <td>2.735566</td>\n",
       "      <td>10.657099</td>\n",
       "      <td>33.994665</td>\n",
       "      <td>5.864611</td>\n",
       "      <td>10.302646</td>\n",
       "      <td>0.593960</td>\n",
       "      <td>...</td>\n",
       "      <td>14230.585337</td>\n",
       "      <td>0.464987</td>\n",
       "      <td>491.087434</td>\n",
       "      <td>0.582496</td>\n",
       "      <td>520.743098</td>\n",
       "      <td>179.554748</td>\n",
       "      <td>98229.105637</td>\n",
       "      <td>2.567010</td>\n",
       "      <td>6.404201</td>\n",
       "      <td>2017.373273</td>\n",
       "    </tr>\n",
       "    <tr>\n",
       "      <th>std</th>\n",
       "      <td>5.675239</td>\n",
       "      <td>5.916358e+06</td>\n",
       "      <td>30.336309</td>\n",
       "      <td>1.033108</td>\n",
       "      <td>0.912564</td>\n",
       "      <td>6.531453</td>\n",
       "      <td>19.460777</td>\n",
       "      <td>4.845431</td>\n",
       "      <td>5.176584</td>\n",
       "      <td>0.960012</td>\n",
       "      <td>...</td>\n",
       "      <td>8605.360711</td>\n",
       "      <td>0.744579</td>\n",
       "      <td>341.806432</td>\n",
       "      <td>0.876170</td>\n",
       "      <td>277.203879</td>\n",
       "      <td>217.153181</td>\n",
       "      <td>42523.183576</td>\n",
       "      <td>1.787779</td>\n",
       "      <td>3.490832</td>\n",
       "      <td>1.034625</td>\n",
       "    </tr>\n",
       "    <tr>\n",
       "      <th>min</th>\n",
       "      <td>0.000000</td>\n",
       "      <td>4.300000e+05</td>\n",
       "      <td>12.000000</td>\n",
       "      <td>0.000000</td>\n",
       "      <td>1.000000</td>\n",
       "      <td>1.000000</td>\n",
       "      <td>10.000000</td>\n",
       "      <td>1.000000</td>\n",
       "      <td>2.000000</td>\n",
       "      <td>0.000000</td>\n",
       "      <td>...</td>\n",
       "      <td>181.000000</td>\n",
       "      <td>0.000000</td>\n",
       "      <td>1.000000</td>\n",
       "      <td>0.000000</td>\n",
       "      <td>13.000000</td>\n",
       "      <td>1.000000</td>\n",
       "      <td>7962.962963</td>\n",
       "      <td>0.000000</td>\n",
       "      <td>1.000000</td>\n",
       "      <td>2014.000000</td>\n",
       "    </tr>\n",
       "    <tr>\n",
       "      <th>25%</th>\n",
       "      <td>6.000000</td>\n",
       "      <td>3.400000e+06</td>\n",
       "      <td>40.000000</td>\n",
       "      <td>1.000000</td>\n",
       "      <td>2.510000</td>\n",
       "      <td>5.000000</td>\n",
       "      <td>19.000000</td>\n",
       "      <td>2.000000</td>\n",
       "      <td>7.000000</td>\n",
       "      <td>0.000000</td>\n",
       "      <td>...</td>\n",
       "      <td>9328.000000</td>\n",
       "      <td>0.000000</td>\n",
       "      <td>288.000000</td>\n",
       "      <td>0.000000</td>\n",
       "      <td>298.000000</td>\n",
       "      <td>45.000000</td>\n",
       "      <td>76450.276243</td>\n",
       "      <td>1.000000</td>\n",
       "      <td>3.000000</td>\n",
       "      <td>2017.000000</td>\n",
       "    </tr>\n",
       "    <tr>\n",
       "      <th>50%</th>\n",
       "      <td>9.000000</td>\n",
       "      <td>4.600000e+06</td>\n",
       "      <td>52.000000</td>\n",
       "      <td>2.000000</td>\n",
       "      <td>2.650000</td>\n",
       "      <td>9.000000</td>\n",
       "      <td>30.000000</td>\n",
       "      <td>4.000000</td>\n",
       "      <td>9.000000</td>\n",
       "      <td>0.000000</td>\n",
       "      <td>...</td>\n",
       "      <td>13117.000000</td>\n",
       "      <td>0.000000</td>\n",
       "      <td>455.000000</td>\n",
       "      <td>0.000000</td>\n",
       "      <td>505.000000</td>\n",
       "      <td>95.000000</td>\n",
       "      <td>94801.223242</td>\n",
       "      <td>3.000000</td>\n",
       "      <td>6.000000</td>\n",
       "      <td>2017.000000</td>\n",
       "    </tr>\n",
       "    <tr>\n",
       "      <th>75%</th>\n",
       "      <td>14.000000</td>\n",
       "      <td>6.700000e+06</td>\n",
       "      <td>69.000000</td>\n",
       "      <td>3.000000</td>\n",
       "      <td>2.800000</td>\n",
       "      <td>16.000000</td>\n",
       "      <td>42.000000</td>\n",
       "      <td>8.000000</td>\n",
       "      <td>11.900000</td>\n",
       "      <td>1.000000</td>\n",
       "      <td>...</td>\n",
       "      <td>16285.000000</td>\n",
       "      <td>1.000000</td>\n",
       "      <td>612.000000</td>\n",
       "      <td>1.000000</td>\n",
       "      <td>733.000000</td>\n",
       "      <td>230.000000</td>\n",
       "      <td>113861.386139</td>\n",
       "      <td>4.000000</td>\n",
       "      <td>10.000000</td>\n",
       "      <td>2018.000000</td>\n",
       "    </tr>\n",
       "    <tr>\n",
       "      <th>max</th>\n",
       "      <td>50.000000</td>\n",
       "      <td>9.900000e+07</td>\n",
       "      <td>413.500000</td>\n",
       "      <td>9.000000</td>\n",
       "      <td>100.000000</td>\n",
       "      <td>29.000000</td>\n",
       "      <td>200.000000</td>\n",
       "      <td>27.000000</td>\n",
       "      <td>50.000000</td>\n",
       "      <td>5.000000</td>\n",
       "      <td>...</td>\n",
       "      <td>65968.000000</td>\n",
       "      <td>3.000000</td>\n",
       "      <td>3190.000000</td>\n",
       "      <td>3.000000</td>\n",
       "      <td>1344.000000</td>\n",
       "      <td>1458.000000</td>\n",
       "      <td>848484.848485</td>\n",
       "      <td>6.000000</td>\n",
       "      <td>12.000000</td>\n",
       "      <td>2019.000000</td>\n",
       "    </tr>\n",
       "  </tbody>\n",
       "</table>\n",
       "<p>8 rows × 21 columns</p>\n",
       "</div>"
      ],
      "text/plain": [
       "       total_images    last_price    total_area         rooms  ceiling_height  \\\n",
       "count  23377.000000  2.337700e+04  23377.000000  23377.000000    14355.000000   \n",
       "mean       9.862514  6.127634e+06     59.224718      2.055696        2.735566   \n",
       "std        5.675239  5.916358e+06     30.336309      1.033108        0.912564   \n",
       "min        0.000000  4.300000e+05     12.000000      0.000000        1.000000   \n",
       "25%        6.000000  3.400000e+06     40.000000      1.000000        2.510000   \n",
       "50%        9.000000  4.600000e+06     52.000000      2.000000        2.650000   \n",
       "75%       14.000000  6.700000e+06     69.000000      3.000000        2.800000   \n",
       "max       50.000000  9.900000e+07    413.500000      9.000000      100.000000   \n",
       "\n",
       "       floors_total   living_area         floor  kitchen_area       balcony  \\\n",
       "count  23377.000000  23377.000000  23377.000000  23377.000000  23377.000000   \n",
       "mean      10.657099     33.994665      5.864611     10.302646      0.593960   \n",
       "std        6.531453     19.460777      4.845431      5.176584      0.960012   \n",
       "min        1.000000     10.000000      1.000000      2.000000      0.000000   \n",
       "25%        5.000000     19.000000      2.000000      7.000000      0.000000   \n",
       "50%        9.000000     30.000000      4.000000      9.000000      0.000000   \n",
       "75%       16.000000     42.000000      8.000000     11.900000      1.000000   \n",
       "max       29.000000    200.000000     27.000000     50.000000      5.000000   \n",
       "\n",
       "       ...  city_centers_nearest  parks_around3000  parks_nearest  \\\n",
       "count  ...          17882.000000      23377.000000    7926.000000   \n",
       "mean   ...          14230.585337          0.464987     491.087434   \n",
       "std    ...           8605.360711          0.744579     341.806432   \n",
       "min    ...            181.000000          0.000000       1.000000   \n",
       "25%    ...           9328.000000          0.000000     288.000000   \n",
       "50%    ...          13117.000000          0.000000     455.000000   \n",
       "75%    ...          16285.000000          1.000000     612.000000   \n",
       "max    ...          65968.000000          3.000000    3190.000000   \n",
       "\n",
       "       ponds_around3000  ponds_nearest  days_exposition   cost_per_sqm  \\\n",
       "count      23377.000000    8910.000000     20238.000000   23377.000000   \n",
       "mean           0.582496     520.743098       179.554748   98229.105637   \n",
       "std            0.876170     277.203879       217.153181   42523.183576   \n",
       "min            0.000000      13.000000         1.000000    7962.962963   \n",
       "25%            0.000000     298.000000        45.000000   76450.276243   \n",
       "50%            0.000000     505.000000        95.000000   94801.223242   \n",
       "75%            1.000000     733.000000       230.000000  113861.386139   \n",
       "max            3.000000    1344.000000      1458.000000  848484.848485   \n",
       "\n",
       "            weekday         month          year  \n",
       "count  23377.000000  23377.000000  23377.000000  \n",
       "mean       2.567010      6.404201   2017.373273  \n",
       "std        1.787779      3.490832      1.034625  \n",
       "min        0.000000      1.000000   2014.000000  \n",
       "25%        1.000000      3.000000   2017.000000  \n",
       "50%        3.000000      6.000000   2017.000000  \n",
       "75%        4.000000     10.000000   2018.000000  \n",
       "max        6.000000     12.000000   2019.000000  \n",
       "\n",
       "[8 rows x 21 columns]"
      ]
     },
     "execution_count": 43,
     "metadata": {},
     "output_type": "execute_result"
    }
   ],
   "source": [
    "data.describe()"
   ]
  },
  {
   "cell_type": "markdown",
   "metadata": {},
   "source": [
    "общая площадь"
   ]
  },
  {
   "cell_type": "code",
   "execution_count": 44,
   "metadata": {},
   "outputs": [
    {
     "data": {
      "text/plain": [
       "count    23377.000000\n",
       "mean        59.224718\n",
       "std         30.336309\n",
       "min         12.000000\n",
       "25%         40.000000\n",
       "50%         52.000000\n",
       "75%         69.000000\n",
       "max        413.500000\n",
       "Name: total_area, dtype: float64"
      ]
     },
     "execution_count": 44,
     "metadata": {},
     "output_type": "execute_result"
    },
    {
     "data": {
      "image/png": "[encoded data removed]",
      "text/plain": [
       "<Figure size 432x288 with 1 Axes>"
      ]
     },
     "metadata": {
      "needs_background": "light"
     },
     "output_type": "display_data"
    }
   ],
   "source": [
    "data.hist('total_area', bins=100);\n",
    "data['total_area'].describe()"
   ]
  },
  {
   "cell_type": "markdown",
   "metadata": {},
   "source": [
    "площадь свыше 100 кв.метров мало данных, можно убрать"
   ]
  },
  {
   "cell_type": "code",
   "execution_count": 45,
   "metadata": {},
   "outputs": [
    {
     "data": {
      "image/png": "[encoded data removed]",
      "text/plain": [
       "<Figure size 432x288 with 1 Axes>"
      ]
     },
     "metadata": {
      "needs_background": "light"
     },
     "output_type": "display_data"
    },
    {
     "name": "stdout",
     "output_type": "stream",
     "text": [
      "Наибольшие по площади варианты:\n",
      "14991    413.5\n",
      "8822     398.0\n",
      "5042     380.0\n",
      "21990    373.1\n",
      "19961    365.0\n",
      "10569    347.5\n",
      "20820    342.0\n",
      "16179    336.0\n",
      "14591    327.2\n",
      "11087    320.0\n",
      "Name: total_area, dtype: float64\n"
     ]
    }
   ],
   "source": [
    "good_data = data.query('total_area < 100')\n",
    "good_data.hist('total_area', bins=30, range=(10,200));\n",
    "plt.title('Площадь квартир')\n",
    "plt.xlabel('Кв метры')\n",
    "plt.ylabel('Кол-во квартир')\n",
    "plt.show()\n",
    "print('Наибольшие по площади варианты:')\n",
    "print(data['total_area'].sort_values(ascending=False).head(10))"
   ]
  },
  {
   "cell_type": "markdown",
   "metadata": {},
   "source": [
    "жилая площадь"
   ]
  },
  {
   "cell_type": "code",
   "execution_count": 46,
   "metadata": {},
   "outputs": [
    {
     "data": {
      "image/png": "[encoded data removed]",
      "text/plain": [
       "<Figure size 432x288 with 1 Axes>"
      ]
     },
     "metadata": {
      "needs_background": "light"
     },
     "output_type": "display_data"
    },
    {
     "data": {
      "image/png": "[encoded data removed]",
      "text/plain": [
       "<Figure size 432x288 with 1 Axes>"
      ]
     },
     "metadata": {
      "needs_background": "light"
     },
     "output_type": "display_data"
    }
   ],
   "source": [
    "data.hist('living_area', bins=100);\n",
    "data.hist('living_area', bins=50, range=(0,50));"
   ]
  },
  {
   "cell_type": "markdown",
   "metadata": {},
   "source": [
    "площадь кухни"
   ]
  },
  {
   "cell_type": "code",
   "execution_count": 47,
   "metadata": {},
   "outputs": [
    {
     "data": {
      "image/png": "[encoded data removed]",
      "text/plain": [
       "<Figure size 432x288 with 1 Axes>"
      ]
     },
     "metadata": {
      "needs_background": "light"
     },
     "output_type": "display_data"
    },
    {
     "data": {
      "image/png": "[encoded data removed]",
      "text/plain": [
       "<Figure size 432x288 with 1 Axes>"
      ]
     },
     "metadata": {
      "needs_background": "light"
     },
     "output_type": "display_data"
    }
   ],
   "source": [
    "data.hist('kitchen_area', bins=100);\n",
    "data.hist('kitchen_area', bins=20, range=(0,20));"
   ]
  },
  {
   "cell_type": "markdown",
   "metadata": {},
   "source": [
    "цена объекта"
   ]
  },
  {
   "cell_type": "code",
   "execution_count": 48,
   "metadata": {},
   "outputs": [
    {
     "data": {
      "image/png": "[encoded data removed]",
      "text/plain": [
       "<Figure size 432x288 with 1 Axes>"
      ]
     },
     "metadata": {
      "needs_background": "light"
     },
     "output_type": "display_data"
    },
    {
     "data": {
      "image/png": "[encoded data removed]",
      "text/plain": [
       "<Figure size 432x288 with 1 Axes>"
      ]
     },
     "metadata": {
      "needs_background": "light"
     },
     "output_type": "display_data"
    }
   ],
   "source": [
    "data.hist('last_price', bins=100);\n",
    "data.hist('last_price', bins=100, range=(0,2e+07));"
   ]
  },
  {
   "cell_type": "markdown",
   "metadata": {},
   "source": [
    "количество комнат"
   ]
  },
  {
   "cell_type": "code",
   "execution_count": 49,
   "metadata": {},
   "outputs": [
    {
     "data": {
      "image/png": "[encoded data removed]",
      "text/plain": [
       "<Figure size 432x288 with 1 Axes>"
      ]
     },
     "metadata": {
      "needs_background": "light"
     },
     "output_type": "display_data"
    }
   ],
   "source": [
    "data.hist('rooms', bins=data['rooms'].max());"
   ]
  },
  {
   "cell_type": "markdown",
   "metadata": {},
   "source": [
    "высота потолков"
   ]
  },
  {
   "cell_type": "code",
   "execution_count": 50,
   "metadata": {},
   "outputs": [
    {
     "data": {
      "image/png": "[encoded data removed]",
      "text/plain": [
       "<Figure size 432x288 with 1 Axes>"
      ]
     },
     "metadata": {
      "needs_background": "light"
     },
     "output_type": "display_data"
    }
   ],
   "source": [
    "data.hist('ceiling_height', bins=30, range=(0,20));"
   ]
  },
  {
   "cell_type": "code",
   "execution_count": 51,
   "metadata": {},
   "outputs": [
    {
     "name": "stdout",
     "output_type": "stream",
     "text": [
      "3ok\n",
      "city_centers_nearestt ok\n"
     ]
    }
   ],
   "source": [
    "try:\n",
    "    data['floors_total'] =  data['floors_total'].astype('Int8')\n",
    "    print('3ok')\n",
    "except:\n",
    "    print('floors_total int8 type conversion fail')\n",
    "    \n",
    "try:\n",
    "    data['city_centers_nearest'] =  data['city_centers_nearest'].astype('Int32')\n",
    "    print('city_centers_nearestt ok')\n",
    "except:\n",
    "    print('city_centers_nearest Int32 type conversion fail')    "
   ]
  },
  {
   "cell_type": "code",
   "execution_count": 52,
   "metadata": {},
   "outputs": [
    {
     "data": {
      "image/png": "[encoded data removed]",
      "text/plain": [
       "<Figure size 432x288 with 1 Axes>"
      ]
     },
     "metadata": {
      "needs_background": "light"
     },
     "output_type": "display_data"
    },
    {
     "data": {
      "image/png": "[encoded data removed]",
      "text/plain": [
       "<Figure size 432x288 with 1 Axes>"
      ]
     },
     "metadata": {
      "needs_background": "light"
     },
     "output_type": "display_data"
    },
    {
     "data": {
      "image/png": "[encoded data removed]",
      "text/plain": [
       "<Figure size 432x288 with 1 Axes>"
      ]
     },
     "metadata": {
      "needs_background": "light"
     },
     "output_type": "display_data"
    },
    {
     "data": {
      "image/png": "[encoded data removed]",
      "text/plain": [
       "<Figure size 432x288 with 1 Axes>"
      ]
     },
     "metadata": {
      "needs_background": "light"
     },
     "output_type": "display_data"
    },
    {
     "data": {
      "image/png": "[encoded data removed]",
      "text/plain": [
       "<Figure size 432x288 with 1 Axes>"
      ]
     },
     "metadata": {
      "needs_background": "light"
     },
     "output_type": "display_data"
    },
    {
     "data": {
      "image/png": "[encoded data removed]",
      "text/plain": [
       "<Figure size 432x288 with 1 Axes>"
      ]
     },
     "metadata": {
      "needs_background": "light"
     },
     "output_type": "display_data"
    },
    {
     "data": {
      "image/png": "[encoded data removed]",
      "text/plain": [
       "<Figure size 432x288 with 1 Axes>"
      ]
     },
     "metadata": {
      "needs_background": "light"
     },
     "output_type": "display_data"
    },
    {
     "data": {
      "image/png": "[encoded data removed]",
      "text/plain": [
       "<Figure size 432x288 with 1 Axes>"
      ]
     },
     "metadata": {
      "needs_background": "light"
     },
     "output_type": "display_data"
    }
   ],
   "source": [
    "# тип этажа квартиры («первый», «последний», «другой»)\n",
    "data.hist('floor', bins=data['floor'].max());\n",
    "\n",
    "# общее количество этажей в доме\n",
    "data.hist('floors_total', bins=data['floors_total'].max());\n",
    "\n",
    "# расстояние до центра города в метрах\n",
    "data.hist('city_centers_nearest', bins=100);\n",
    "\n",
    "# расстояние до ближайшего аэропорта\n",
    "data.hist('airports_nearest', bins=100);\n",
    "\n",
    "# расстояние до ближайшего парка\n",
    "data.hist('parks_nearest', bins=100);\n",
    "\n",
    "# день и месяц публикации объявления\n",
    "data.hist('weekday', bins=7);\n",
    "\n",
    "data.hist('month', bins=12);\n",
    "\n",
    "data.hist('year', bins=12);"
   ]
  },
  {
   "cell_type": "markdown",
   "metadata": {},
   "source": [
    "Выводы:\n",
    "Больше всего квартир - 40-45 кв. м.\n",
    "Площадь кухни - больше всего квартир со значением 8 кв.м.\n",
    "Цена объекта - больше всего квартир в диапазоне от 5 млн.\n",
    "Количество комнат в среднем - 2-3\n",
    "высота потолка - 2,5 и 3 м.\n",
    "Этажность: больше всего с  1 по 5 этаж,  а также 9 этажей.\n",
    "Большинство квартир находится на расстоянии от10000 до 20000 метрах от центра города. Есть всплекс квартир около города -5000 метров.\n",
    "Расстояние до ближайшего аэропорта - -достатояно \"шумный\" график. разные квартиры по растоянию\n",
    "расстояние до ближайшего парка- средне квартиры на растоянии 500 метров от парков. \n",
    "День и месяц публикации объявления - меньше всего публикаций в субботу и воскресенье. С февраля по апрель активны публикации. Рост публикаций также с июля по ноябрь. Провалы в декабре, январе и мае - праздники."
   ]
  },
  {
   "cell_type": "markdown",
   "metadata": {},
   "source": [
    "days_exposition - как быстро продавались квартиры"
   ]
  },
  {
   "cell_type": "code",
   "execution_count": 59,
   "metadata": {},
   "outputs": [
    {
     "name": "stdout",
     "output_type": "stream",
     "text": [
      "Среднее время продажи квартиры в днях: 179\n",
      "Медианное время продажи квартиры в днях: 95\n",
      "\n",
      "[Выбросы] Количество объявлений, которые сняты через:\n",
      "45 дней: 0\n",
      "60 дней: 536\n",
      "90 дней: 0\n"
     ]
    },
    {
     "data": {
      "image/png": "[encoded data removed]",
      "text/plain": [
       "<Figure size 432x288 with 1 Axes>"
      ]
     },
     "metadata": {
      "needs_background": "light"
     },
     "output_type": "display_data"
    },
    {
     "data": {
      "image/png": "[encoded data removed]",
      "text/plain": [
       "<Figure size 432x288 with 1 Axes>"
      ]
     },
     "metadata": {
      "needs_background": "light"
     },
     "output_type": "display_data"
    }
   ],
   "source": [
    "data.hist('days_exposition', bins=100);\n",
    "data.hist('days_exposition', bins=100, range = (0,100));\n",
    "print(f'Среднее время продажи квартиры в днях:',int(data['days_exposition'].mean()))\n",
    "print('Медианное время продажи квартиры в днях:',int(data['days_exposition'].median()))\n",
    "\n",
    "print('\\n[Выбросы] Количество объявлений, которые сняты через:')\n",
    "print('45 дней:',data[data['days_exposition']==45]['days_exposition'].count())\n",
    "print('60 дней:',data[data['days_exposition']==60]['days_exposition'].count())\n",
    "print('90 дней:',data[data['days_exposition']==90]['days_exposition'].count())"
   ]
  },
  {
   "cell_type": "markdown",
   "metadata": {},
   "source": [
    "Вывод:\n",
    "    Среднее время продажи квартиры 180 день. По медиане - 95 дней. \n",
    "    Среднее знаечение учитывает квартиры которые продавались ну уж очень долго. Поэтому считаю корректным учитывать медианное значение.\n",
    "По поводу выбросов:\n",
    "может забывали удалять объявления с истекшим сроком публикации. Не знаю"
   ]
  },
  {
   "cell_type": "markdown",
   "metadata": {},
   "source": [
    "Вывод: быстрая продажа - срок в 45 дней и меньше. Долгой продажей - более 88 месяцев = примерно 240-250 дней по графику."
   ]
  },
  {
   "cell_type": "markdown",
   "metadata": {},
   "source": [
    "Какие факторы больше всего влияют на общую (полную) стоимость объекта?"
   ]
  },
  {
   "cell_type": "code",
   "execution_count": 60,
   "metadata": {},
   "outputs": [
    {
     "data": {
      "image/png": "[encoded data removed]",
      "text/plain": [
       "<Figure size 360x360 with 1 Axes>"
      ]
     },
     "metadata": {
      "needs_background": "light"
     },
     "output_type": "display_data"
    },
    {
     "name": "stdout",
     "output_type": "stream",
     "text": [
      "Корреляция цены и площади: \n",
      "\n",
      "            last_price  total_area\n",
      "last_price    1.000000    0.799591\n",
      "total_area    0.799591    1.000000 \n",
      "\n"
     ]
    },
    {
     "data": {
      "image/png": "[encoded data removed]",
      "text/plain": [
       "<Figure size 360x360 with 1 Axes>"
      ]
     },
     "metadata": {
      "needs_background": "light"
     },
     "output_type": "display_data"
    },
    {
     "name": "stdout",
     "output_type": "stream",
     "text": [
      "Корреляция цены и жилой площади: \n",
      "\n",
      "             last_price  living_area\n",
      "last_price     1.000000     0.448717\n",
      "living_area    0.448717     1.000000 \n",
      "\n"
     ]
    },
    {
     "data": {
      "image/png": "[encoded data removed]",
      "text/plain": [
       "<Figure size 360x360 with 1 Axes>"
      ]
     },
     "metadata": {
      "needs_background": "light"
     },
     "output_type": "display_data"
    },
    {
     "name": "stdout",
     "output_type": "stream",
     "text": [
      "Корреляция цены и площади кухни: \n",
      "\n",
      "              kitchen_area  last_price\n",
      "kitchen_area      1.000000    0.376851\n",
      "last_price        0.376851    1.000000 \n",
      "\n"
     ]
    },
    {
     "data": {
      "image/png": "[encoded data removed]",
      "text/plain": [
       "<Figure size 360x360 with 1 Axes>"
      ]
     },
     "metadata": {
      "needs_background": "light"
     },
     "output_type": "display_data"
    },
    {
     "name": "stdout",
     "output_type": "stream",
     "text": [
      "Корреляция цены и количества комнат: \n",
      "\n",
      "            last_price     rooms\n",
      "last_price    1.000000  0.245365\n",
      "rooms         0.245365  1.000000 \n",
      "\n"
     ]
    },
    {
     "data": {
      "image/png": "[encoded data removed]",
      "text/plain": [
       "<Figure size 360x360 with 1 Axes>"
      ]
     },
     "metadata": {
      "needs_background": "light"
     },
     "output_type": "display_data"
    },
    {
     "data": {
      "image/png": "[encoded data removed]",
      "text/plain": [
       "<Figure size 360x360 with 1 Axes>"
      ]
     },
     "metadata": {
      "needs_background": "light"
     },
     "output_type": "display_data"
    },
    {
     "data": {
      "image/png": "[encoded data removed]",
      "text/plain": [
       "<Figure size 360x360 with 1 Axes>"
      ]
     },
     "metadata": {
      "needs_background": "light"
     },
     "output_type": "display_data"
    },
    {
     "data": {
      "image/png": "[encoded data removed]",
      "text/plain": [
       "<Figure size 360x360 with 1 Axes>"
      ]
     },
     "metadata": {
      "needs_background": "light"
     },
     "output_type": "display_data"
    },
    {
     "data": {
      "image/png": "[encoded data removed]",
      "text/plain": [
       "<Figure size 360x360 with 1 Axes>"
      ]
     },
     "metadata": {
      "needs_background": "light"
     },
     "output_type": "display_data"
    }
   ],
   "source": [
    "# Зависимость цены от площади\n",
    "(\n",
    "    data.pivot_table(index='total_area', values='last_price')\n",
    "    .plot(grid=True, style='o', figsize=(5, 5))\n",
    ")\n",
    "plt.show()\n",
    "print('Корреляция цены и площади:','\\n')\n",
    "print(data.pivot_table(index='floor', values=['total_area', 'last_price']).corr(),'\\n')\n",
    "\n",
    "\n",
    "# Зависимость цены от жилой площади\n",
    "(\n",
    "    data.pivot_table(index='living_area', values='last_price')\n",
    "    .plot(grid=True, style='o', figsize=(5, 5))\n",
    ")\n",
    "plt.show()\n",
    "print('Корреляция цены и жилой площади:','\\n')\n",
    "print(data.pivot_table(index='floor', values=['living_area', 'last_price']).corr(),'\\n')\n",
    "\n",
    "# Зависимость цены от площади кухни\n",
    "(\n",
    "    data.pivot_table(index='kitchen_area', values='last_price')\n",
    "    .plot(grid=True, style='o', figsize=(5, 5))\n",
    ")\n",
    "plt.show()\n",
    "print('Корреляция цены и площади кухни:','\\n')\n",
    "print(data.pivot_table(index='floor', values=['kitchen_area', 'last_price']).corr(),'\\n')\n",
    "\n",
    "# Зависимость цены от количества комнат\n",
    "(\n",
    "    data.query('rooms > 0').pivot_table(index='rooms', values='last_price')\n",
    "    .plot(grid=True, style='o-', figsize=(5, 5))\n",
    ")\n",
    "plt.show()\n",
    "print('Корреляция цены и количества комнат:','\\n')\n",
    "print(data.query('rooms > 0').pivot_table(index='floor', values=['rooms', 'last_price']).corr(),'\\n')\n",
    "\n",
    "# Зависимость цены от этажа\n",
    "(\n",
    "    data.pivot_table(index='floor_type', values='last_price', aggfunc='median')\n",
    "    .plot(grid=True, style='o-', figsize=(5, 5))\n",
    ")\n",
    "plt.show()\n",
    "\n",
    "# Зависимость цены от публикации объявления\n",
    "(\n",
    "    data.pivot_table(index='days_exposition', values='last_price', aggfunc='median')\n",
    "    .plot(grid=True, style='o-', figsize=(5, 5))\n",
    ")\n",
    "plt.show()\n",
    "\n",
    "# Зависимость цены от публикации объявления - день\n",
    "(\n",
    "    data.pivot_table(index='weekday', values='last_price', aggfunc='median')\n",
    "    .plot(grid=True, style='o-', figsize=(5, 5))\n",
    ")\n",
    "plt.show() \n",
    "\n",
    "# Зависимость цены от публикации объявления - месяц\n",
    "(\n",
    "    data.pivot_table(index='month', values='last_price', aggfunc='median')\n",
    "    .plot(grid=True, style='o-', figsize=(5, 5))\n",
    ")\n",
    "plt.show() \n",
    "\n",
    "# Зависимость цены от публикации объявления - год\n",
    "(\n",
    "    data.pivot_table(index='year', values='last_price', aggfunc='median')\n",
    "    .plot(grid=True, style='o-', figsize=(5, 5))\n",
    ")\n",
    "plt.show() "
   ]
  },
  {
   "cell_type": "markdown",
   "metadata": {},
   "source": [
    "Выводы:\n",
    "Общая Площадь: Чем больше, тем выше стоимость. Корреляция этих параметров очень высокая. \n",
    "Жилая Площадь: больше комнат - выше цена. Корреляция ниже чем у общей площади. \n",
    "Площадь кухни: корреляция не высокая, зависимости как таковой нет. \n",
    "Количество комнат: корреляция также не высокая,есть пик стоимости при 11 комнатах - но это скорей весго выборс. \n",
    "Зависимость от дней публикации:пятница, суббота, воскресенье - самые низкие стоимости\n",
    "От месяца публикации: самая низкая стоимость в июне, самая высокая апрель.\n",
    "От года: самые дорогие продавались в 2014 году, с 2019 года начался рост цен"
   ]
  },
  {
   "cell_type": "markdown",
   "metadata": {},
   "source": [
    "Посчитайте среднюю цену одного квадратного метра в 10 населённых пунктах с наибольшим числом объявлений"
   ]
  },
  {
   "cell_type": "code",
   "execution_count": 61,
   "metadata": {},
   "outputs": [
    {
     "data": {
      "text/html": [
       "<div>\n",
       "<style scoped>\n",
       "    .dataframe tbody tr th:only-of-type {\n",
       "        vertical-align: middle;\n",
       "    }\n",
       "\n",
       "    .dataframe tbody tr th {\n",
       "        vertical-align: top;\n",
       "    }\n",
       "\n",
       "    .dataframe thead th {\n",
       "        text-align: right;\n",
       "    }\n",
       "</style>\n",
       "<table border=\"1\" class=\"dataframe\">\n",
       "  <thead>\n",
       "    <tr style=\"text-align: right;\">\n",
       "      <th></th>\n",
       "      <th>number_of_ads</th>\n",
       "    </tr>\n",
       "    <tr>\n",
       "      <th>locality_name</th>\n",
       "      <th></th>\n",
       "    </tr>\n",
       "  </thead>\n",
       "  <tbody>\n",
       "    <tr>\n",
       "      <th>санкт-петербург</th>\n",
       "      <td>15476</td>\n",
       "    </tr>\n",
       "    <tr>\n",
       "      <th>посёлок мурино</th>\n",
       "      <td>551</td>\n",
       "    </tr>\n",
       "    <tr>\n",
       "      <th>посёлок шушары</th>\n",
       "      <td>438</td>\n",
       "    </tr>\n",
       "    <tr>\n",
       "      <th>всеволожск</th>\n",
       "      <td>398</td>\n",
       "    </tr>\n",
       "    <tr>\n",
       "      <th>пушкин</th>\n",
       "      <td>364</td>\n",
       "    </tr>\n",
       "    <tr>\n",
       "      <th>колпино</th>\n",
       "      <td>338</td>\n",
       "    </tr>\n",
       "    <tr>\n",
       "      <th>посёлок парголово</th>\n",
       "      <td>327</td>\n",
       "    </tr>\n",
       "    <tr>\n",
       "      <th>гатчина</th>\n",
       "      <td>307</td>\n",
       "    </tr>\n",
       "    <tr>\n",
       "      <th>деревня кудрово</th>\n",
       "      <td>299</td>\n",
       "    </tr>\n",
       "    <tr>\n",
       "      <th>выборг</th>\n",
       "      <td>237</td>\n",
       "    </tr>\n",
       "  </tbody>\n",
       "</table>\n",
       "</div>"
      ],
      "text/plain": [
       "                   number_of_ads\n",
       "locality_name                   \n",
       "санкт-петербург            15476\n",
       "посёлок мурино               551\n",
       "посёлок шушары               438\n",
       "всеволожск                   398\n",
       "пушкин                       364\n",
       "колпино                      338\n",
       "посёлок парголово            327\n",
       "гатчина                      307\n",
       "деревня кудрово              299\n",
       "выборг                       237"
      ]
     },
     "execution_count": 61,
     "metadata": {},
     "output_type": "execute_result"
    }
   ],
   "source": [
    "city_top_10 = data.pivot_table(index='locality_name', values=['first_day_exposition'], aggfunc='count').sort_values(by='first_day_exposition', ascending=False).head(10)\n",
    "city_top_10.columns=['number_of_ads']\n",
    "city_top_10"
   ]
  },
  {
   "cell_type": "code",
   "execution_count": 62,
   "metadata": {},
   "outputs": [
    {
     "data": {
      "text/html": [
       "<div>\n",
       "<style scoped>\n",
       "    .dataframe tbody tr th:only-of-type {\n",
       "        vertical-align: middle;\n",
       "    }\n",
       "\n",
       "    .dataframe tbody tr th {\n",
       "        vertical-align: top;\n",
       "    }\n",
       "\n",
       "    .dataframe thead th {\n",
       "        text-align: right;\n",
       "    }\n",
       "</style>\n",
       "<table border=\"1\" class=\"dataframe\">\n",
       "  <thead>\n",
       "    <tr style=\"text-align: right;\">\n",
       "      <th></th>\n",
       "      <th>total_images</th>\n",
       "      <th>last_price</th>\n",
       "      <th>total_area</th>\n",
       "      <th>first_day_exposition</th>\n",
       "      <th>rooms</th>\n",
       "      <th>ceiling_height</th>\n",
       "      <th>floors_total</th>\n",
       "      <th>living_area</th>\n",
       "      <th>floor</th>\n",
       "      <th>is_apartment</th>\n",
       "      <th>...</th>\n",
       "      <th>parks_around3000</th>\n",
       "      <th>parks_nearest</th>\n",
       "      <th>ponds_around3000</th>\n",
       "      <th>ponds_nearest</th>\n",
       "      <th>days_exposition</th>\n",
       "      <th>cost_per_sqm</th>\n",
       "      <th>weekday</th>\n",
       "      <th>month</th>\n",
       "      <th>year</th>\n",
       "      <th>floor_type</th>\n",
       "    </tr>\n",
       "  </thead>\n",
       "  <tbody>\n",
       "    <tr>\n",
       "      <th>0</th>\n",
       "      <td>20</td>\n",
       "      <td>13000000</td>\n",
       "      <td>108.00</td>\n",
       "      <td>2019-03-07</td>\n",
       "      <td>3</td>\n",
       "      <td>2.70</td>\n",
       "      <td>16</td>\n",
       "      <td>51.000000</td>\n",
       "      <td>8</td>\n",
       "      <td>False</td>\n",
       "      <td>...</td>\n",
       "      <td>1</td>\n",
       "      <td>482.0</td>\n",
       "      <td>2</td>\n",
       "      <td>755.0</td>\n",
       "      <td>NaN</td>\n",
       "      <td>120370.370370</td>\n",
       "      <td>3</td>\n",
       "      <td>3</td>\n",
       "      <td>2019</td>\n",
       "      <td>другой</td>\n",
       "    </tr>\n",
       "    <tr>\n",
       "      <th>1</th>\n",
       "      <td>7</td>\n",
       "      <td>3350000</td>\n",
       "      <td>40.40</td>\n",
       "      <td>2018-12-04</td>\n",
       "      <td>1</td>\n",
       "      <td>NaN</td>\n",
       "      <td>11</td>\n",
       "      <td>18.600000</td>\n",
       "      <td>1</td>\n",
       "      <td>False</td>\n",
       "      <td>...</td>\n",
       "      <td>0</td>\n",
       "      <td>NaN</td>\n",
       "      <td>0</td>\n",
       "      <td>NaN</td>\n",
       "      <td>81.0</td>\n",
       "      <td>82920.792079</td>\n",
       "      <td>1</td>\n",
       "      <td>12</td>\n",
       "      <td>2018</td>\n",
       "      <td>первый</td>\n",
       "    </tr>\n",
       "    <tr>\n",
       "      <th>2</th>\n",
       "      <td>10</td>\n",
       "      <td>5196000</td>\n",
       "      <td>56.00</td>\n",
       "      <td>2015-08-20</td>\n",
       "      <td>2</td>\n",
       "      <td>NaN</td>\n",
       "      <td>5</td>\n",
       "      <td>34.300000</td>\n",
       "      <td>4</td>\n",
       "      <td>False</td>\n",
       "      <td>...</td>\n",
       "      <td>1</td>\n",
       "      <td>90.0</td>\n",
       "      <td>2</td>\n",
       "      <td>574.0</td>\n",
       "      <td>558.0</td>\n",
       "      <td>92785.714286</td>\n",
       "      <td>3</td>\n",
       "      <td>8</td>\n",
       "      <td>2015</td>\n",
       "      <td>другой</td>\n",
       "    </tr>\n",
       "    <tr>\n",
       "      <th>3</th>\n",
       "      <td>0</td>\n",
       "      <td>64900000</td>\n",
       "      <td>159.00</td>\n",
       "      <td>2015-07-24</td>\n",
       "      <td>3</td>\n",
       "      <td>NaN</td>\n",
       "      <td>14</td>\n",
       "      <td>90.785766</td>\n",
       "      <td>9</td>\n",
       "      <td>False</td>\n",
       "      <td>...</td>\n",
       "      <td>2</td>\n",
       "      <td>84.0</td>\n",
       "      <td>3</td>\n",
       "      <td>234.0</td>\n",
       "      <td>424.0</td>\n",
       "      <td>408176.100629</td>\n",
       "      <td>4</td>\n",
       "      <td>7</td>\n",
       "      <td>2015</td>\n",
       "      <td>другой</td>\n",
       "    </tr>\n",
       "    <tr>\n",
       "      <th>4</th>\n",
       "      <td>2</td>\n",
       "      <td>10000000</td>\n",
       "      <td>100.00</td>\n",
       "      <td>2018-06-19</td>\n",
       "      <td>2</td>\n",
       "      <td>3.03</td>\n",
       "      <td>14</td>\n",
       "      <td>32.000000</td>\n",
       "      <td>13</td>\n",
       "      <td>False</td>\n",
       "      <td>...</td>\n",
       "      <td>2</td>\n",
       "      <td>112.0</td>\n",
       "      <td>1</td>\n",
       "      <td>48.0</td>\n",
       "      <td>121.0</td>\n",
       "      <td>100000.000000</td>\n",
       "      <td>1</td>\n",
       "      <td>6</td>\n",
       "      <td>2018</td>\n",
       "      <td>другой</td>\n",
       "    </tr>\n",
       "    <tr>\n",
       "      <th>...</th>\n",
       "      <td>...</td>\n",
       "      <td>...</td>\n",
       "      <td>...</td>\n",
       "      <td>...</td>\n",
       "      <td>...</td>\n",
       "      <td>...</td>\n",
       "      <td>...</td>\n",
       "      <td>...</td>\n",
       "      <td>...</td>\n",
       "      <td>...</td>\n",
       "      <td>...</td>\n",
       "      <td>...</td>\n",
       "      <td>...</td>\n",
       "      <td>...</td>\n",
       "      <td>...</td>\n",
       "      <td>...</td>\n",
       "      <td>...</td>\n",
       "      <td>...</td>\n",
       "      <td>...</td>\n",
       "      <td>...</td>\n",
       "      <td>...</td>\n",
       "    </tr>\n",
       "    <tr>\n",
       "      <th>23694</th>\n",
       "      <td>9</td>\n",
       "      <td>9700000</td>\n",
       "      <td>133.81</td>\n",
       "      <td>2017-03-21</td>\n",
       "      <td>3</td>\n",
       "      <td>3.70</td>\n",
       "      <td>5</td>\n",
       "      <td>73.300000</td>\n",
       "      <td>3</td>\n",
       "      <td>False</td>\n",
       "      <td>...</td>\n",
       "      <td>1</td>\n",
       "      <td>796.0</td>\n",
       "      <td>3</td>\n",
       "      <td>381.0</td>\n",
       "      <td>NaN</td>\n",
       "      <td>72490.845228</td>\n",
       "      <td>1</td>\n",
       "      <td>3</td>\n",
       "      <td>2017</td>\n",
       "      <td>другой</td>\n",
       "    </tr>\n",
       "    <tr>\n",
       "      <th>23695</th>\n",
       "      <td>14</td>\n",
       "      <td>3100000</td>\n",
       "      <td>59.00</td>\n",
       "      <td>2018-01-15</td>\n",
       "      <td>3</td>\n",
       "      <td>NaN</td>\n",
       "      <td>5</td>\n",
       "      <td>38.000000</td>\n",
       "      <td>4</td>\n",
       "      <td>False</td>\n",
       "      <td>...</td>\n",
       "      <td>0</td>\n",
       "      <td>NaN</td>\n",
       "      <td>0</td>\n",
       "      <td>NaN</td>\n",
       "      <td>45.0</td>\n",
       "      <td>52542.372881</td>\n",
       "      <td>0</td>\n",
       "      <td>1</td>\n",
       "      <td>2018</td>\n",
       "      <td>другой</td>\n",
       "    </tr>\n",
       "    <tr>\n",
       "      <th>23696</th>\n",
       "      <td>18</td>\n",
       "      <td>2500000</td>\n",
       "      <td>56.70</td>\n",
       "      <td>2018-02-11</td>\n",
       "      <td>2</td>\n",
       "      <td>NaN</td>\n",
       "      <td>3</td>\n",
       "      <td>29.700000</td>\n",
       "      <td>1</td>\n",
       "      <td>False</td>\n",
       "      <td>...</td>\n",
       "      <td>0</td>\n",
       "      <td>NaN</td>\n",
       "      <td>0</td>\n",
       "      <td>NaN</td>\n",
       "      <td>NaN</td>\n",
       "      <td>44091.710758</td>\n",
       "      <td>6</td>\n",
       "      <td>2</td>\n",
       "      <td>2018</td>\n",
       "      <td>первый</td>\n",
       "    </tr>\n",
       "    <tr>\n",
       "      <th>23697</th>\n",
       "      <td>13</td>\n",
       "      <td>11475000</td>\n",
       "      <td>76.75</td>\n",
       "      <td>2017-03-28</td>\n",
       "      <td>2</td>\n",
       "      <td>3.00</td>\n",
       "      <td>17</td>\n",
       "      <td>43.822689</td>\n",
       "      <td>12</td>\n",
       "      <td>False</td>\n",
       "      <td>...</td>\n",
       "      <td>2</td>\n",
       "      <td>173.0</td>\n",
       "      <td>3</td>\n",
       "      <td>196.0</td>\n",
       "      <td>602.0</td>\n",
       "      <td>149511.400651</td>\n",
       "      <td>1</td>\n",
       "      <td>3</td>\n",
       "      <td>2017</td>\n",
       "      <td>другой</td>\n",
       "    </tr>\n",
       "    <tr>\n",
       "      <th>23698</th>\n",
       "      <td>4</td>\n",
       "      <td>1350000</td>\n",
       "      <td>32.30</td>\n",
       "      <td>2017-07-21</td>\n",
       "      <td>1</td>\n",
       "      <td>2.50</td>\n",
       "      <td>5</td>\n",
       "      <td>12.300000</td>\n",
       "      <td>1</td>\n",
       "      <td>False</td>\n",
       "      <td>...</td>\n",
       "      <td>0</td>\n",
       "      <td>NaN</td>\n",
       "      <td>0</td>\n",
       "      <td>NaN</td>\n",
       "      <td>NaN</td>\n",
       "      <td>41795.665635</td>\n",
       "      <td>4</td>\n",
       "      <td>7</td>\n",
       "      <td>2017</td>\n",
       "      <td>первый</td>\n",
       "    </tr>\n",
       "  </tbody>\n",
       "</table>\n",
       "<p>23377 rows × 27 columns</p>\n",
       "</div>"
      ],
      "text/plain": [
       "       total_images  last_price  total_area first_day_exposition  rooms  \\\n",
       "0                20    13000000      108.00           2019-03-07      3   \n",
       "1                 7     3350000       40.40           2018-12-04      1   \n",
       "2                10     5196000       56.00           2015-08-20      2   \n",
       "3                 0    64900000      159.00           2015-07-24      3   \n",
       "4                 2    10000000      100.00           2018-06-19      2   \n",
       "...             ...         ...         ...                  ...    ...   \n",
       "23694             9     9700000      133.81           2017-03-21      3   \n",
       "23695            14     3100000       59.00           2018-01-15      3   \n",
       "23696            18     2500000       56.70           2018-02-11      2   \n",
       "23697            13    11475000       76.75           2017-03-28      2   \n",
       "23698             4     1350000       32.30           2017-07-21      1   \n",
       "\n",
       "       ceiling_height  floors_total  living_area  floor  is_apartment  ...  \\\n",
       "0                2.70            16    51.000000      8         False  ...   \n",
       "1                 NaN            11    18.600000      1         False  ...   \n",
       "2                 NaN             5    34.300000      4         False  ...   \n",
       "3                 NaN            14    90.785766      9         False  ...   \n",
       "4                3.03            14    32.000000     13         False  ...   \n",
       "...               ...           ...          ...    ...           ...  ...   \n",
       "23694            3.70             5    73.300000      3         False  ...   \n",
       "23695             NaN             5    38.000000      4         False  ...   \n",
       "23696             NaN             3    29.700000      1         False  ...   \n",
       "23697            3.00            17    43.822689     12         False  ...   \n",
       "23698            2.50             5    12.300000      1         False  ...   \n",
       "\n",
       "       parks_around3000  parks_nearest  ponds_around3000  ponds_nearest  \\\n",
       "0                     1          482.0                 2          755.0   \n",
       "1                     0            NaN                 0            NaN   \n",
       "2                     1           90.0                 2          574.0   \n",
       "3                     2           84.0                 3          234.0   \n",
       "4                     2          112.0                 1           48.0   \n",
       "...                 ...            ...               ...            ...   \n",
       "23694                 1          796.0                 3          381.0   \n",
       "23695                 0            NaN                 0            NaN   \n",
       "23696                 0            NaN                 0            NaN   \n",
       "23697                 2          173.0                 3          196.0   \n",
       "23698                 0            NaN                 0            NaN   \n",
       "\n",
       "      days_exposition   cost_per_sqm  weekday  month  year  floor_type  \n",
       "0                 NaN  120370.370370        3      3  2019      другой  \n",
       "1                81.0   82920.792079        1     12  2018      первый  \n",
       "2               558.0   92785.714286        3      8  2015      другой  \n",
       "3               424.0  408176.100629        4      7  2015      другой  \n",
       "4               121.0  100000.000000        1      6  2018      другой  \n",
       "...               ...            ...      ...    ...   ...         ...  \n",
       "23694             NaN   72490.845228        1      3  2017      другой  \n",
       "23695            45.0   52542.372881        0      1  2018      другой  \n",
       "23696             NaN   44091.710758        6      2  2018      первый  \n",
       "23697           602.0  149511.400651        1      3  2017      другой  \n",
       "23698             NaN   41795.665635        4      7  2017      первый  \n",
       "\n",
       "[23377 rows x 27 columns]"
      ]
     },
     "execution_count": 62,
     "metadata": {},
     "output_type": "execute_result"
    }
   ],
   "source": [
    "data"
   ]
  },
  {
   "cell_type": "code",
   "execution_count": 63,
   "metadata": {},
   "outputs": [
    {
     "data": {
      "text/html": [
       "<div>\n",
       "<style scoped>\n",
       "    .dataframe tbody tr th:only-of-type {\n",
       "        vertical-align: middle;\n",
       "    }\n",
       "\n",
       "    .dataframe tbody tr th {\n",
       "        vertical-align: top;\n",
       "    }\n",
       "\n",
       "    .dataframe thead th {\n",
       "        text-align: right;\n",
       "    }\n",
       "</style>\n",
       "<table border=\"1\" class=\"dataframe\">\n",
       "  <thead>\n",
       "    <tr style=\"text-align: right;\">\n",
       "      <th></th>\n",
       "      <th>cost_per_sqm</th>\n",
       "    </tr>\n",
       "    <tr>\n",
       "      <th>locality_name</th>\n",
       "      <th></th>\n",
       "    </tr>\n",
       "  </thead>\n",
       "  <tbody>\n",
       "    <tr>\n",
       "      <th>санкт-петербург</th>\n",
       "      <td>113266</td>\n",
       "    </tr>\n",
       "    <tr>\n",
       "      <th>пушкин</th>\n",
       "      <td>102901</td>\n",
       "    </tr>\n",
       "    <tr>\n",
       "      <th>деревня кудрово</th>\n",
       "      <td>92473</td>\n",
       "    </tr>\n",
       "    <tr>\n",
       "      <th>посёлок парголово</th>\n",
       "      <td>90175</td>\n",
       "    </tr>\n",
       "    <tr>\n",
       "      <th>посёлок мурино</th>\n",
       "      <td>85601</td>\n",
       "    </tr>\n",
       "    <tr>\n",
       "      <th>посёлок шушары</th>\n",
       "      <td>78577</td>\n",
       "    </tr>\n",
       "    <tr>\n",
       "      <th>колпино</th>\n",
       "      <td>75424</td>\n",
       "    </tr>\n",
       "    <tr>\n",
       "      <th>гатчина</th>\n",
       "      <td>68746</td>\n",
       "    </tr>\n",
       "    <tr>\n",
       "      <th>всеволожск</th>\n",
       "      <td>68654</td>\n",
       "    </tr>\n",
       "    <tr>\n",
       "      <th>выборг</th>\n",
       "      <td>58141</td>\n",
       "    </tr>\n",
       "  </tbody>\n",
       "</table>\n",
       "</div>"
      ],
      "text/plain": [
       "                   cost_per_sqm\n",
       "locality_name                  \n",
       "санкт-петербург          113266\n",
       "пушкин                   102901\n",
       "деревня кудрово           92473\n",
       "посёлок парголово         90175\n",
       "посёлок мурино            85601\n",
       "посёлок шушары            78577\n",
       "колпино                   75424\n",
       "гатчина                   68746\n",
       "всеволожск                68654\n",
       "выборг                    58141"
      ]
     },
     "execution_count": 63,
     "metadata": {},
     "output_type": "execute_result"
    }
   ],
   "source": [
    "city_price = data.query('locality_name in (@city_top_10.index)').pivot_table(values='cost_per_sqm', index='locality_name')\n",
    "city_price = city_price.astype(int)\n",
    "city_price.sort_values('cost_per_sqm', ascending=False)"
   ]
  },
  {
   "cell_type": "markdown",
   "metadata": {},
   "source": [
    "Вывод: самый дорогой квадратный метр в СП."
   ]
  },
  {
   "cell_type": "markdown",
   "metadata": {},
   "source": [
    "Выделите квартиры в Санкт-Петербурге с помощью столбца `locality_name` и вычислите среднюю цену каждого километра. Опишите, как стоимость объектов зависит от расстояния до центра города.\""
   ]
  },
  {
   "cell_type": "code",
   "execution_count": 64,
   "metadata": {},
   "outputs": [
    {
     "data": {
      "text/html": [
       "<div>\n",
       "<style scoped>\n",
       "    .dataframe tbody tr th:only-of-type {\n",
       "        vertical-align: middle;\n",
       "    }\n",
       "\n",
       "    .dataframe tbody tr th {\n",
       "        vertical-align: top;\n",
       "    }\n",
       "\n",
       "    .dataframe thead th {\n",
       "        text-align: right;\n",
       "    }\n",
       "</style>\n",
       "<table border=\"1\" class=\"dataframe\">\n",
       "  <thead>\n",
       "    <tr style=\"text-align: right;\">\n",
       "      <th></th>\n",
       "      <th>total_images</th>\n",
       "      <th>last_price</th>\n",
       "      <th>total_area</th>\n",
       "      <th>rooms</th>\n",
       "      <th>ceiling_height</th>\n",
       "      <th>floors_total</th>\n",
       "      <th>living_area</th>\n",
       "      <th>floor</th>\n",
       "      <th>kitchen_area</th>\n",
       "      <th>balcony</th>\n",
       "      <th>...</th>\n",
       "      <th>city_centers_nearest</th>\n",
       "      <th>parks_around3000</th>\n",
       "      <th>parks_nearest</th>\n",
       "      <th>ponds_around3000</th>\n",
       "      <th>ponds_nearest</th>\n",
       "      <th>days_exposition</th>\n",
       "      <th>cost_per_sqm</th>\n",
       "      <th>weekday</th>\n",
       "      <th>month</th>\n",
       "      <th>year</th>\n",
       "    </tr>\n",
       "  </thead>\n",
       "  <tbody>\n",
       "    <tr>\n",
       "      <th>count</th>\n",
       "      <td>15476.000000</td>\n",
       "      <td>1.547600e+04</td>\n",
       "      <td>15476.000000</td>\n",
       "      <td>15476.000000</td>\n",
       "      <td>9980.000000</td>\n",
       "      <td>15476.000000</td>\n",
       "      <td>15476.000000</td>\n",
       "      <td>15476.000000</td>\n",
       "      <td>15476.000000</td>\n",
       "      <td>15476.000000</td>\n",
       "      <td>...</td>\n",
       "      <td>15419.000000</td>\n",
       "      <td>15476.000000</td>\n",
       "      <td>7152.000000</td>\n",
       "      <td>15476.000000</td>\n",
       "      <td>7815.000000</td>\n",
       "      <td>13433.000000</td>\n",
       "      <td>15476.000000</td>\n",
       "      <td>15476.000000</td>\n",
       "      <td>15476.000000</td>\n",
       "      <td>15476.000000</td>\n",
       "    </tr>\n",
       "    <tr>\n",
       "      <th>mean</th>\n",
       "      <td>10.179891</td>\n",
       "      <td>7.462038e+06</td>\n",
       "      <td>63.167243</td>\n",
       "      <td>2.151202</td>\n",
       "      <td>2.776930</td>\n",
       "      <td>11.375872</td>\n",
       "      <td>36.349420</td>\n",
       "      <td>6.206449</td>\n",
       "      <td>10.860872</td>\n",
       "      <td>0.584906</td>\n",
       "      <td>...</td>\n",
       "      <td>11615.412543</td>\n",
       "      <td>0.621285</td>\n",
       "      <td>498.941555</td>\n",
       "      <td>0.758335</td>\n",
       "      <td>523.237748</td>\n",
       "      <td>181.297774</td>\n",
       "      <td>113266.905889</td>\n",
       "      <td>2.553244</td>\n",
       "      <td>6.426273</td>\n",
       "      <td>2017.355647</td>\n",
       "    </tr>\n",
       "    <tr>\n",
       "      <th>std</th>\n",
       "      <td>5.739623</td>\n",
       "      <td>6.733164e+06</td>\n",
       "      <td>33.589570</td>\n",
       "      <td>1.086923</td>\n",
       "      <td>1.081954</td>\n",
       "      <td>6.285427</td>\n",
       "      <td>21.501343</td>\n",
       "      <td>4.849019</td>\n",
       "      <td>5.658234</td>\n",
       "      <td>0.968033</td>\n",
       "      <td>...</td>\n",
       "      <td>4800.047597</td>\n",
       "      <td>0.783569</td>\n",
       "      <td>344.306093</td>\n",
       "      <td>0.916345</td>\n",
       "      <td>279.635957</td>\n",
       "      <td>221.982798</td>\n",
       "      <td>41497.532864</td>\n",
       "      <td>1.778259</td>\n",
       "      <td>3.463905</td>\n",
       "      <td>1.054217</td>\n",
       "    </tr>\n",
       "    <tr>\n",
       "      <th>min</th>\n",
       "      <td>0.000000</td>\n",
       "      <td>1.190000e+06</td>\n",
       "      <td>12.000000</td>\n",
       "      <td>0.000000</td>\n",
       "      <td>1.000000</td>\n",
       "      <td>1.000000</td>\n",
       "      <td>10.000000</td>\n",
       "      <td>1.000000</td>\n",
       "      <td>2.000000</td>\n",
       "      <td>0.000000</td>\n",
       "      <td>...</td>\n",
       "      <td>181.000000</td>\n",
       "      <td>0.000000</td>\n",
       "      <td>1.000000</td>\n",
       "      <td>0.000000</td>\n",
       "      <td>13.000000</td>\n",
       "      <td>1.000000</td>\n",
       "      <td>15345.268542</td>\n",
       "      <td>0.000000</td>\n",
       "      <td>1.000000</td>\n",
       "      <td>2014.000000</td>\n",
       "    </tr>\n",
       "    <tr>\n",
       "      <th>25%</th>\n",
       "      <td>6.000000</td>\n",
       "      <td>4.200000e+06</td>\n",
       "      <td>41.900000</td>\n",
       "      <td>1.000000</td>\n",
       "      <td>2.550000</td>\n",
       "      <td>5.000000</td>\n",
       "      <td>20.000000</td>\n",
       "      <td>3.000000</td>\n",
       "      <td>7.100000</td>\n",
       "      <td>0.000000</td>\n",
       "      <td>...</td>\n",
       "      <td>8387.000000</td>\n",
       "      <td>0.000000</td>\n",
       "      <td>297.000000</td>\n",
       "      <td>0.000000</td>\n",
       "      <td>297.500000</td>\n",
       "      <td>42.000000</td>\n",
       "      <td>90909.090909</td>\n",
       "      <td>1.000000</td>\n",
       "      <td>3.000000</td>\n",
       "      <td>2017.000000</td>\n",
       "    </tr>\n",
       "    <tr>\n",
       "      <th>50%</th>\n",
       "      <td>10.000000</td>\n",
       "      <td>5.500000e+06</td>\n",
       "      <td>55.000000</td>\n",
       "      <td>2.000000</td>\n",
       "      <td>2.700000</td>\n",
       "      <td>9.000000</td>\n",
       "      <td>31.200000</td>\n",
       "      <td>5.000000</td>\n",
       "      <td>9.607750</td>\n",
       "      <td>0.000000</td>\n",
       "      <td>...</td>\n",
       "      <td>12256.000000</td>\n",
       "      <td>0.000000</td>\n",
       "      <td>461.000000</td>\n",
       "      <td>1.000000</td>\n",
       "      <td>507.000000</td>\n",
       "      <td>95.000000</td>\n",
       "      <td>104615.384615</td>\n",
       "      <td>2.000000</td>\n",
       "      <td>6.000000</td>\n",
       "      <td>2017.000000</td>\n",
       "    </tr>\n",
       "    <tr>\n",
       "      <th>75%</th>\n",
       "      <td>14.000000</td>\n",
       "      <td>8.000000e+06</td>\n",
       "      <td>74.000000</td>\n",
       "      <td>3.000000</td>\n",
       "      <td>2.850000</td>\n",
       "      <td>16.000000</td>\n",
       "      <td>44.000000</td>\n",
       "      <td>8.000000</td>\n",
       "      <td>12.400000</td>\n",
       "      <td>1.000000</td>\n",
       "      <td>...</td>\n",
       "      <td>14938.000000</td>\n",
       "      <td>1.000000</td>\n",
       "      <td>619.000000</td>\n",
       "      <td>1.000000</td>\n",
       "      <td>741.500000</td>\n",
       "      <td>229.000000</td>\n",
       "      <td>124046.461872</td>\n",
       "      <td>4.000000</td>\n",
       "      <td>10.000000</td>\n",
       "      <td>2018.000000</td>\n",
       "    </tr>\n",
       "    <tr>\n",
       "      <th>max</th>\n",
       "      <td>50.000000</td>\n",
       "      <td>9.900000e+07</td>\n",
       "      <td>413.500000</td>\n",
       "      <td>9.000000</td>\n",
       "      <td>100.000000</td>\n",
       "      <td>28.000000</td>\n",
       "      <td>200.000000</td>\n",
       "      <td>26.000000</td>\n",
       "      <td>50.000000</td>\n",
       "      <td>5.000000</td>\n",
       "      <td>...</td>\n",
       "      <td>29493.000000</td>\n",
       "      <td>3.000000</td>\n",
       "      <td>3190.000000</td>\n",
       "      <td>3.000000</td>\n",
       "      <td>1337.000000</td>\n",
       "      <td>1458.000000</td>\n",
       "      <td>848484.848485</td>\n",
       "      <td>6.000000</td>\n",
       "      <td>12.000000</td>\n",
       "      <td>2019.000000</td>\n",
       "    </tr>\n",
       "  </tbody>\n",
       "</table>\n",
       "<p>8 rows × 21 columns</p>\n",
       "</div>"
      ],
      "text/plain": [
       "       total_images    last_price    total_area         rooms  ceiling_height  \\\n",
       "count  15476.000000  1.547600e+04  15476.000000  15476.000000     9980.000000   \n",
       "mean      10.179891  7.462038e+06     63.167243      2.151202        2.776930   \n",
       "std        5.739623  6.733164e+06     33.589570      1.086923        1.081954   \n",
       "min        0.000000  1.190000e+06     12.000000      0.000000        1.000000   \n",
       "25%        6.000000  4.200000e+06     41.900000      1.000000        2.550000   \n",
       "50%       10.000000  5.500000e+06     55.000000      2.000000        2.700000   \n",
       "75%       14.000000  8.000000e+06     74.000000      3.000000        2.850000   \n",
       "max       50.000000  9.900000e+07    413.500000      9.000000      100.000000   \n",
       "\n",
       "       floors_total   living_area         floor  kitchen_area       balcony  \\\n",
       "count  15476.000000  15476.000000  15476.000000  15476.000000  15476.000000   \n",
       "mean      11.375872     36.349420      6.206449     10.860872      0.584906   \n",
       "std        6.285427     21.501343      4.849019      5.658234      0.968033   \n",
       "min        1.000000     10.000000      1.000000      2.000000      0.000000   \n",
       "25%        5.000000     20.000000      3.000000      7.100000      0.000000   \n",
       "50%        9.000000     31.200000      5.000000      9.607750      0.000000   \n",
       "75%       16.000000     44.000000      8.000000     12.400000      1.000000   \n",
       "max       28.000000    200.000000     26.000000     50.000000      5.000000   \n",
       "\n",
       "       ...  city_centers_nearest  parks_around3000  parks_nearest  \\\n",
       "count  ...          15419.000000      15476.000000    7152.000000   \n",
       "mean   ...          11615.412543          0.621285     498.941555   \n",
       "std    ...           4800.047597          0.783569     344.306093   \n",
       "min    ...            181.000000          0.000000       1.000000   \n",
       "25%    ...           8387.000000          0.000000     297.000000   \n",
       "50%    ...          12256.000000          0.000000     461.000000   \n",
       "75%    ...          14938.000000          1.000000     619.000000   \n",
       "max    ...          29493.000000          3.000000    3190.000000   \n",
       "\n",
       "       ponds_around3000  ponds_nearest  days_exposition   cost_per_sqm  \\\n",
       "count      15476.000000    7815.000000     13433.000000   15476.000000   \n",
       "mean           0.758335     523.237748       181.297774  113266.905889   \n",
       "std            0.916345     279.635957       221.982798   41497.532864   \n",
       "min            0.000000      13.000000         1.000000   15345.268542   \n",
       "25%            0.000000     297.500000        42.000000   90909.090909   \n",
       "50%            1.000000     507.000000        95.000000  104615.384615   \n",
       "75%            1.000000     741.500000       229.000000  124046.461872   \n",
       "max            3.000000    1337.000000      1458.000000  848484.848485   \n",
       "\n",
       "            weekday         month          year  \n",
       "count  15476.000000  15476.000000  15476.000000  \n",
       "mean       2.553244      6.426273   2017.355647  \n",
       "std        1.778259      3.463905      1.054217  \n",
       "min        0.000000      1.000000   2014.000000  \n",
       "25%        1.000000      3.000000   2017.000000  \n",
       "50%        2.000000      6.000000   2017.000000  \n",
       "75%        4.000000     10.000000   2018.000000  \n",
       "max        6.000000     12.000000   2019.000000  \n",
       "\n",
       "[8 rows x 21 columns]"
      ]
     },
     "execution_count": 64,
     "metadata": {},
     "output_type": "execute_result"
    }
   ],
   "source": [
    "# все квартиры из СП\n",
    "spb = data[data['locality_name']=='санкт-петербург']\n",
    "spb.describe()\n"
   ]
  },
  {
   "cell_type": "code",
   "execution_count": 65,
   "metadata": {},
   "outputs": [
    {
     "data": {
      "text/html": [
       "<div>\n",
       "<style scoped>\n",
       "    .dataframe tbody tr th:only-of-type {\n",
       "        vertical-align: middle;\n",
       "    }\n",
       "\n",
       "    .dataframe tbody tr th {\n",
       "        vertical-align: top;\n",
       "    }\n",
       "\n",
       "    .dataframe thead th {\n",
       "        text-align: right;\n",
       "    }\n",
       "</style>\n",
       "<table border=\"1\" class=\"dataframe\">\n",
       "  <thead>\n",
       "    <tr style=\"text-align: right;\">\n",
       "      <th></th>\n",
       "      <th>total_images</th>\n",
       "      <th>last_price</th>\n",
       "      <th>total_area</th>\n",
       "      <th>first_day_exposition</th>\n",
       "      <th>rooms</th>\n",
       "      <th>ceiling_height</th>\n",
       "      <th>floors_total</th>\n",
       "      <th>living_area</th>\n",
       "      <th>floor</th>\n",
       "      <th>is_apartment</th>\n",
       "      <th>...</th>\n",
       "      <th>parks_around3000</th>\n",
       "      <th>parks_nearest</th>\n",
       "      <th>ponds_around3000</th>\n",
       "      <th>ponds_nearest</th>\n",
       "      <th>days_exposition</th>\n",
       "      <th>cost_per_sqm</th>\n",
       "      <th>weekday</th>\n",
       "      <th>month</th>\n",
       "      <th>year</th>\n",
       "      <th>floor_type</th>\n",
       "    </tr>\n",
       "  </thead>\n",
       "  <tbody>\n",
       "    <tr>\n",
       "      <th>0</th>\n",
       "      <td>20</td>\n",
       "      <td>13000000</td>\n",
       "      <td>108.00</td>\n",
       "      <td>2019-03-07</td>\n",
       "      <td>3</td>\n",
       "      <td>2.70</td>\n",
       "      <td>16</td>\n",
       "      <td>51.000000</td>\n",
       "      <td>8</td>\n",
       "      <td>False</td>\n",
       "      <td>...</td>\n",
       "      <td>1</td>\n",
       "      <td>482.0</td>\n",
       "      <td>2</td>\n",
       "      <td>755.0</td>\n",
       "      <td>NaN</td>\n",
       "      <td>120370.370370</td>\n",
       "      <td>3</td>\n",
       "      <td>3</td>\n",
       "      <td>2019</td>\n",
       "      <td>другой</td>\n",
       "    </tr>\n",
       "    <tr>\n",
       "      <th>2</th>\n",
       "      <td>10</td>\n",
       "      <td>5196000</td>\n",
       "      <td>56.00</td>\n",
       "      <td>2015-08-20</td>\n",
       "      <td>2</td>\n",
       "      <td>NaN</td>\n",
       "      <td>5</td>\n",
       "      <td>34.300000</td>\n",
       "      <td>4</td>\n",
       "      <td>False</td>\n",
       "      <td>...</td>\n",
       "      <td>1</td>\n",
       "      <td>90.0</td>\n",
       "      <td>2</td>\n",
       "      <td>574.0</td>\n",
       "      <td>558.0</td>\n",
       "      <td>92785.714286</td>\n",
       "      <td>3</td>\n",
       "      <td>8</td>\n",
       "      <td>2015</td>\n",
       "      <td>другой</td>\n",
       "    </tr>\n",
       "    <tr>\n",
       "      <th>3</th>\n",
       "      <td>0</td>\n",
       "      <td>64900000</td>\n",
       "      <td>159.00</td>\n",
       "      <td>2015-07-24</td>\n",
       "      <td>3</td>\n",
       "      <td>NaN</td>\n",
       "      <td>14</td>\n",
       "      <td>90.785766</td>\n",
       "      <td>9</td>\n",
       "      <td>False</td>\n",
       "      <td>...</td>\n",
       "      <td>2</td>\n",
       "      <td>84.0</td>\n",
       "      <td>3</td>\n",
       "      <td>234.0</td>\n",
       "      <td>424.0</td>\n",
       "      <td>408176.100629</td>\n",
       "      <td>4</td>\n",
       "      <td>7</td>\n",
       "      <td>2015</td>\n",
       "      <td>другой</td>\n",
       "    </tr>\n",
       "    <tr>\n",
       "      <th>4</th>\n",
       "      <td>2</td>\n",
       "      <td>10000000</td>\n",
       "      <td>100.00</td>\n",
       "      <td>2018-06-19</td>\n",
       "      <td>2</td>\n",
       "      <td>3.03</td>\n",
       "      <td>14</td>\n",
       "      <td>32.000000</td>\n",
       "      <td>13</td>\n",
       "      <td>False</td>\n",
       "      <td>...</td>\n",
       "      <td>2</td>\n",
       "      <td>112.0</td>\n",
       "      <td>1</td>\n",
       "      <td>48.0</td>\n",
       "      <td>121.0</td>\n",
       "      <td>100000.000000</td>\n",
       "      <td>1</td>\n",
       "      <td>6</td>\n",
       "      <td>2018</td>\n",
       "      <td>другой</td>\n",
       "    </tr>\n",
       "    <tr>\n",
       "      <th>7</th>\n",
       "      <td>5</td>\n",
       "      <td>7915000</td>\n",
       "      <td>71.60</td>\n",
       "      <td>2019-04-18</td>\n",
       "      <td>2</td>\n",
       "      <td>NaN</td>\n",
       "      <td>24</td>\n",
       "      <td>40.882144</td>\n",
       "      <td>22</td>\n",
       "      <td>False</td>\n",
       "      <td>...</td>\n",
       "      <td>0</td>\n",
       "      <td>NaN</td>\n",
       "      <td>0</td>\n",
       "      <td>NaN</td>\n",
       "      <td>NaN</td>\n",
       "      <td>110544.692737</td>\n",
       "      <td>3</td>\n",
       "      <td>4</td>\n",
       "      <td>2019</td>\n",
       "      <td>другой</td>\n",
       "    </tr>\n",
       "    <tr>\n",
       "      <th>...</th>\n",
       "      <td>...</td>\n",
       "      <td>...</td>\n",
       "      <td>...</td>\n",
       "      <td>...</td>\n",
       "      <td>...</td>\n",
       "      <td>...</td>\n",
       "      <td>...</td>\n",
       "      <td>...</td>\n",
       "      <td>...</td>\n",
       "      <td>...</td>\n",
       "      <td>...</td>\n",
       "      <td>...</td>\n",
       "      <td>...</td>\n",
       "      <td>...</td>\n",
       "      <td>...</td>\n",
       "      <td>...</td>\n",
       "      <td>...</td>\n",
       "      <td>...</td>\n",
       "      <td>...</td>\n",
       "      <td>...</td>\n",
       "      <td>...</td>\n",
       "    </tr>\n",
       "    <tr>\n",
       "      <th>23689</th>\n",
       "      <td>13</td>\n",
       "      <td>3550000</td>\n",
       "      <td>35.30</td>\n",
       "      <td>2018-02-28</td>\n",
       "      <td>1</td>\n",
       "      <td>2.86</td>\n",
       "      <td>15</td>\n",
       "      <td>16.300000</td>\n",
       "      <td>4</td>\n",
       "      <td>False</td>\n",
       "      <td>...</td>\n",
       "      <td>1</td>\n",
       "      <td>353.0</td>\n",
       "      <td>2</td>\n",
       "      <td>652.0</td>\n",
       "      <td>29.0</td>\n",
       "      <td>100566.572238</td>\n",
       "      <td>2</td>\n",
       "      <td>2</td>\n",
       "      <td>2018</td>\n",
       "      <td>другой</td>\n",
       "    </tr>\n",
       "    <tr>\n",
       "      <th>23690</th>\n",
       "      <td>3</td>\n",
       "      <td>5500000</td>\n",
       "      <td>52.00</td>\n",
       "      <td>2018-07-19</td>\n",
       "      <td>2</td>\n",
       "      <td>NaN</td>\n",
       "      <td>5</td>\n",
       "      <td>31.000000</td>\n",
       "      <td>2</td>\n",
       "      <td>False</td>\n",
       "      <td>...</td>\n",
       "      <td>1</td>\n",
       "      <td>300.0</td>\n",
       "      <td>0</td>\n",
       "      <td>NaN</td>\n",
       "      <td>15.0</td>\n",
       "      <td>105769.230769</td>\n",
       "      <td>3</td>\n",
       "      <td>7</td>\n",
       "      <td>2018</td>\n",
       "      <td>другой</td>\n",
       "    </tr>\n",
       "    <tr>\n",
       "      <th>23691</th>\n",
       "      <td>11</td>\n",
       "      <td>9470000</td>\n",
       "      <td>72.90</td>\n",
       "      <td>2016-10-13</td>\n",
       "      <td>2</td>\n",
       "      <td>2.75</td>\n",
       "      <td>25</td>\n",
       "      <td>40.300000</td>\n",
       "      <td>7</td>\n",
       "      <td>False</td>\n",
       "      <td>...</td>\n",
       "      <td>0</td>\n",
       "      <td>NaN</td>\n",
       "      <td>1</td>\n",
       "      <td>806.0</td>\n",
       "      <td>519.0</td>\n",
       "      <td>129903.978052</td>\n",
       "      <td>3</td>\n",
       "      <td>10</td>\n",
       "      <td>2016</td>\n",
       "      <td>другой</td>\n",
       "    </tr>\n",
       "    <tr>\n",
       "      <th>23694</th>\n",
       "      <td>9</td>\n",
       "      <td>9700000</td>\n",
       "      <td>133.81</td>\n",
       "      <td>2017-03-21</td>\n",
       "      <td>3</td>\n",
       "      <td>3.70</td>\n",
       "      <td>5</td>\n",
       "      <td>73.300000</td>\n",
       "      <td>3</td>\n",
       "      <td>False</td>\n",
       "      <td>...</td>\n",
       "      <td>1</td>\n",
       "      <td>796.0</td>\n",
       "      <td>3</td>\n",
       "      <td>381.0</td>\n",
       "      <td>NaN</td>\n",
       "      <td>72490.845228</td>\n",
       "      <td>1</td>\n",
       "      <td>3</td>\n",
       "      <td>2017</td>\n",
       "      <td>другой</td>\n",
       "    </tr>\n",
       "    <tr>\n",
       "      <th>23697</th>\n",
       "      <td>13</td>\n",
       "      <td>11475000</td>\n",
       "      <td>76.75</td>\n",
       "      <td>2017-03-28</td>\n",
       "      <td>2</td>\n",
       "      <td>3.00</td>\n",
       "      <td>17</td>\n",
       "      <td>43.822689</td>\n",
       "      <td>12</td>\n",
       "      <td>False</td>\n",
       "      <td>...</td>\n",
       "      <td>2</td>\n",
       "      <td>173.0</td>\n",
       "      <td>3</td>\n",
       "      <td>196.0</td>\n",
       "      <td>602.0</td>\n",
       "      <td>149511.400651</td>\n",
       "      <td>1</td>\n",
       "      <td>3</td>\n",
       "      <td>2017</td>\n",
       "      <td>другой</td>\n",
       "    </tr>\n",
       "  </tbody>\n",
       "</table>\n",
       "<p>15419 rows × 27 columns</p>\n",
       "</div>"
      ],
      "text/plain": [
       "       total_images  last_price  total_area first_day_exposition  rooms  \\\n",
       "0                20    13000000      108.00           2019-03-07      3   \n",
       "2                10     5196000       56.00           2015-08-20      2   \n",
       "3                 0    64900000      159.00           2015-07-24      3   \n",
       "4                 2    10000000      100.00           2018-06-19      2   \n",
       "7                 5     7915000       71.60           2019-04-18      2   \n",
       "...             ...         ...         ...                  ...    ...   \n",
       "23689            13     3550000       35.30           2018-02-28      1   \n",
       "23690             3     5500000       52.00           2018-07-19      2   \n",
       "23691            11     9470000       72.90           2016-10-13      2   \n",
       "23694             9     9700000      133.81           2017-03-21      3   \n",
       "23697            13    11475000       76.75           2017-03-28      2   \n",
       "\n",
       "       ceiling_height  floors_total  living_area  floor  is_apartment  ...  \\\n",
       "0                2.70            16    51.000000      8         False  ...   \n",
       "2                 NaN             5    34.300000      4         False  ...   \n",
       "3                 NaN            14    90.785766      9         False  ...   \n",
       "4                3.03            14    32.000000     13         False  ...   \n",
       "7                 NaN            24    40.882144     22         False  ...   \n",
       "...               ...           ...          ...    ...           ...  ...   \n",
       "23689            2.86            15    16.300000      4         False  ...   \n",
       "23690             NaN             5    31.000000      2         False  ...   \n",
       "23691            2.75            25    40.300000      7         False  ...   \n",
       "23694            3.70             5    73.300000      3         False  ...   \n",
       "23697            3.00            17    43.822689     12         False  ...   \n",
       "\n",
       "       parks_around3000  parks_nearest  ponds_around3000  ponds_nearest  \\\n",
       "0                     1          482.0                 2          755.0   \n",
       "2                     1           90.0                 2          574.0   \n",
       "3                     2           84.0                 3          234.0   \n",
       "4                     2          112.0                 1           48.0   \n",
       "7                     0            NaN                 0            NaN   \n",
       "...                 ...            ...               ...            ...   \n",
       "23689                 1          353.0                 2          652.0   \n",
       "23690                 1          300.0                 0            NaN   \n",
       "23691                 0            NaN                 1          806.0   \n",
       "23694                 1          796.0                 3          381.0   \n",
       "23697                 2          173.0                 3          196.0   \n",
       "\n",
       "      days_exposition   cost_per_sqm  weekday  month  year  floor_type  \n",
       "0                 NaN  120370.370370        3      3  2019      другой  \n",
       "2               558.0   92785.714286        3      8  2015      другой  \n",
       "3               424.0  408176.100629        4      7  2015      другой  \n",
       "4               121.0  100000.000000        1      6  2018      другой  \n",
       "7                 NaN  110544.692737        3      4  2019      другой  \n",
       "...               ...            ...      ...    ...   ...         ...  \n",
       "23689            29.0  100566.572238        2      2  2018      другой  \n",
       "23690            15.0  105769.230769        3      7  2018      другой  \n",
       "23691           519.0  129903.978052        3     10  2016      другой  \n",
       "23694             NaN   72490.845228        1      3  2017      другой  \n",
       "23697           602.0  149511.400651        1      3  2017      другой  \n",
       "\n",
       "[15419 rows x 27 columns]"
      ]
     },
     "execution_count": 65,
     "metadata": {},
     "output_type": "execute_result"
    }
   ],
   "source": [
    "spb.dropna(subset = ['city_centers_nearest'], inplace = False)"
   ]
  },
  {
   "cell_type": "code",
   "execution_count": 66,
   "metadata": {},
   "outputs": [
    {
     "data": {
      "text/plain": [
       "57"
      ]
     },
     "execution_count": 66,
     "metadata": {},
     "output_type": "execute_result"
    }
   ],
   "source": [
    "spb['city_centers_nearest'].isna().sum()"
   ]
  },
  {
   "cell_type": "code",
   "execution_count": 67,
   "metadata": {},
   "outputs": [],
   "source": [
    "spb=spb.dropna(subset=['city_centers_nearest'])"
   ]
  },
  {
   "cell_type": "code",
   "execution_count": 68,
   "metadata": {},
   "outputs": [],
   "source": [
    "spb['city_centers_nearest_km']=(spb['city_centers_nearest']/1000).astype(int)"
   ]
  },
  {
   "cell_type": "code",
   "execution_count": 69,
   "metadata": {},
   "outputs": [
    {
     "name": "stdout",
     "output_type": "stream",
     "text": [
      "Средняя цена для каждого километра составляет 669278 ₽\n"
     ]
    }
   ],
   "source": [
    "mean_cost_per_km = spb['last_price'].sum()/spb['city_centers_nearest_km'].sum()\n",
    "print('Средняя цена для каждого километра составляет {:.00f} ₽'.format(mean_cost_per_km))"
   ]
  },
  {
   "cell_type": "code",
   "execution_count": 71,
   "metadata": {},
   "outputs": [
    {
     "data": {
      "image/png": "[encoded data removed]",
      "text/plain": [
       "<Figure size 720x360 with 1 Axes>"
      ]
     },
     "metadata": {
      "needs_background": "light"
     },
     "output_type": "display_data"
    }
   ],
   "source": [
    "spb.pivot_table(index='city_centers_nearest_km', values='last_price', aggfunc='mean').plot(figsize=(10,5), grid=True, linewidth=3, title='График зависимости цены от удалённости от центра')\n",
    "plt.xlabel('Километры от центра города')\n",
    "plt.ylabel('Средняя стоимость предложения')\n",
    "plt.show()"
   ]
  },
  {
   "cell_type": "markdown",
   "metadata": {},
   "source": [
    "### Общий вывод"
   ]
  },
  {
   "cell_type": "markdown",
   "metadata": {},
   "source": [
    "Из проведенного выше анализа данных можно сделать выводы:\n",
    "1. Данные необходимо всегда подготавливать к анализу. Убирать выбросы, проверять наличие некорректных данных, приводить данные к единому стилю.\n",
    "2. Необходимо понимать цель анализа и держать ее в голове. Чтобы не запутаться в данных.\n",
    "3. важно вводить новые переменные, которые упрощают работу с данными и делают анализ более удобным.\n",
    "\n",
    "По проанализируемым данным недвижимости можно сделать следующие выводы:\n",
    "1. Чаще всего квартира продается за 81 день, однако есть варианты которые продабтся годами.\n",
    "2. Самая дорогая недвижимость в городе СП.\n",
    "3. чем больше площадь квартиры, тем выше стоимость. Чем больше комнат, тем выше цена. \n",
    "4. День размещения публикации об объявлении не сильно влияет на продажу. Основные пики продаж квартир в апреле, потом подьем с сентября. Май, апрель и декабрь не уданчные месяцы для покупки квартир - мало объявлений. \n",
    "5. С 2019 года наблюдается вновь рост стоимости квартир.\n",
    "6. Стоимость квартир выше к центру города, с 10 км от центра цена снижается. \n",
    "7. Люди предпочитают брать квартиры на \"другом\" этаже (спрос на первый этаж минимален). На покупкку влияет объем квартиры, растояние от центра. "
   ]
  }
 ],
 "metadata": {
  "ExecuteTimeLog": [
   {
    "duration": 677,
    "start_time": "2022-12-19T15:27:52.310Z"
   },
   {
    "duration": 31,
    "start_time": "2022-12-19T15:28:09.306Z"
   },
   {
    "duration": 15,
    "start_time": "2022-12-19T15:28:41.212Z"
   },
   {
    "duration": 118,
    "start_time": "2022-12-19T15:29:04.943Z"
   },
   {
    "duration": 13,
    "start_time": "2022-12-19T15:29:11.291Z"
   },
   {
    "duration": 13,
    "start_time": "2022-12-19T15:31:03.853Z"
   },
   {
    "duration": 2199,
    "start_time": "2022-12-19T15:31:11.066Z"
   },
   {
    "duration": 1890,
    "start_time": "2022-12-19T15:31:32.993Z"
   },
   {
    "duration": 9,
    "start_time": "2022-12-19T15:33:47.273Z"
   },
   {
    "duration": 9,
    "start_time": "2022-12-19T15:34:40.137Z"
   },
   {
    "duration": 11,
    "start_time": "2022-12-19T15:34:50.098Z"
   },
   {
    "duration": 44,
    "start_time": "2022-12-19T15:45:39.874Z"
   },
   {
    "duration": 86,
    "start_time": "2022-12-19T15:45:50.417Z"
   },
   {
    "duration": 145,
    "start_time": "2022-12-19T15:48:11.778Z"
   },
   {
    "duration": 113,
    "start_time": "2022-12-19T15:48:58.083Z"
   },
   {
    "duration": 23,
    "start_time": "2022-12-19T15:50:31.961Z"
   },
   {
    "duration": 10,
    "start_time": "2022-12-19T15:50:46.452Z"
   },
   {
    "duration": 23,
    "start_time": "2022-12-19T15:50:50.687Z"
   },
   {
    "duration": 20,
    "start_time": "2022-12-19T15:51:25.019Z"
   },
   {
    "duration": 81,
    "start_time": "2022-12-19T15:55:59.107Z"
   },
   {
    "duration": 19,
    "start_time": "2022-12-19T15:56:09.009Z"
   },
   {
    "duration": 35,
    "start_time": "2022-12-19T15:56:27.494Z"
   },
   {
    "duration": 35,
    "start_time": "2022-12-19T15:57:07.392Z"
   },
   {
    "duration": 32,
    "start_time": "2022-12-19T15:57:15.866Z"
   },
   {
    "duration": 115,
    "start_time": "2022-12-19T15:57:20.253Z"
   },
   {
    "duration": 44,
    "start_time": "2022-12-19T16:01:20.084Z"
   },
   {
    "duration": 9,
    "start_time": "2022-12-19T16:06:41.138Z"
   },
   {
    "duration": 27,
    "start_time": "2022-12-19T16:07:29.356Z"
   },
   {
    "duration": 13,
    "start_time": "2022-12-19T16:32:21.895Z"
   },
   {
    "duration": 60,
    "start_time": "2022-12-19T16:32:35.296Z"
   },
   {
    "duration": 9,
    "start_time": "2022-12-19T16:32:38.784Z"
   },
   {
    "duration": 19,
    "start_time": "2022-12-19T16:32:41.904Z"
   },
   {
    "duration": 606,
    "start_time": "2022-12-21T15:02:08.939Z"
   },
   {
    "duration": 2508,
    "start_time": "2022-12-21T15:02:13.898Z"
   },
   {
    "duration": 21,
    "start_time": "2022-12-21T15:02:21.874Z"
   },
   {
    "duration": 36,
    "start_time": "2022-12-21T15:02:25.879Z"
   },
   {
    "duration": 61,
    "start_time": "2022-12-21T15:02:29.869Z"
   },
   {
    "duration": 8,
    "start_time": "2022-12-21T15:02:43.407Z"
   },
   {
    "duration": 12,
    "start_time": "2022-12-21T15:02:52.308Z"
   },
   {
    "duration": 7,
    "start_time": "2022-12-21T15:06:28.525Z"
   },
   {
    "duration": 8,
    "start_time": "2022-12-21T15:07:23.510Z"
   },
   {
    "duration": 13,
    "start_time": "2022-12-21T15:07:35.689Z"
   },
   {
    "duration": 13,
    "start_time": "2022-12-21T15:08:20.522Z"
   },
   {
    "duration": 9,
    "start_time": "2022-12-21T15:08:44.303Z"
   },
   {
    "duration": 8,
    "start_time": "2022-12-21T15:09:36.558Z"
   },
   {
    "duration": 16,
    "start_time": "2022-12-21T15:09:49.512Z"
   },
   {
    "duration": 8,
    "start_time": "2022-12-21T15:10:13.457Z"
   },
   {
    "duration": 6,
    "start_time": "2022-12-21T15:10:31.496Z"
   },
   {
    "duration": 8,
    "start_time": "2022-12-21T15:13:26.147Z"
   },
   {
    "duration": 9,
    "start_time": "2022-12-21T15:14:08.645Z"
   },
   {
    "duration": 18,
    "start_time": "2022-12-21T15:20:05.542Z"
   },
   {
    "duration": 15,
    "start_time": "2022-12-21T15:20:15.392Z"
   },
   {
    "duration": 7,
    "start_time": "2022-12-21T15:20:20.241Z"
   },
   {
    "duration": 5,
    "start_time": "2022-12-21T15:20:27.250Z"
   },
   {
    "duration": 67,
    "start_time": "2022-12-21T15:21:47.793Z"
   },
   {
    "duration": 20,
    "start_time": "2022-12-21T15:31:28.798Z"
   },
   {
    "duration": 24,
    "start_time": "2022-12-21T15:33:13.070Z"
   },
   {
    "duration": 63,
    "start_time": "2022-12-21T15:33:24.813Z"
   },
   {
    "duration": 12,
    "start_time": "2022-12-21T15:33:28.362Z"
   },
   {
    "duration": 10,
    "start_time": "2022-12-21T15:33:40.862Z"
   },
   {
    "duration": 24,
    "start_time": "2022-12-21T15:34:01.011Z"
   },
   {
    "duration": 6,
    "start_time": "2022-12-21T15:34:07.608Z"
   },
   {
    "duration": 8,
    "start_time": "2022-12-21T15:34:11.656Z"
   },
   {
    "duration": 74,
    "start_time": "2022-12-21T15:34:17.717Z"
   },
   {
    "duration": 27,
    "start_time": "2022-12-21T15:34:23.381Z"
   },
   {
    "duration": 144,
    "start_time": "2022-12-21T15:34:36.951Z"
   },
   {
    "duration": 27,
    "start_time": "2022-12-21T15:34:43.999Z"
   },
   {
    "duration": 14,
    "start_time": "2022-12-21T15:34:55.265Z"
   },
   {
    "duration": 22,
    "start_time": "2022-12-21T15:36:20.055Z"
   },
   {
    "duration": 122,
    "start_time": "2022-12-21T15:36:46.268Z"
   },
   {
    "duration": 22,
    "start_time": "2022-12-21T15:36:54.779Z"
   },
   {
    "duration": 401,
    "start_time": "2022-12-21T15:43:08.423Z"
   },
   {
    "duration": 395,
    "start_time": "2022-12-21T15:43:19.225Z"
   },
   {
    "duration": 20,
    "start_time": "2022-12-21T15:47:43.656Z"
   },
   {
    "duration": 143,
    "start_time": "2022-12-21T15:50:44.368Z"
   },
   {
    "duration": 24,
    "start_time": "2022-12-21T15:51:05.131Z"
   },
   {
    "duration": 24,
    "start_time": "2022-12-21T15:51:45.327Z"
   },
   {
    "duration": 409,
    "start_time": "2022-12-21T15:52:29.711Z"
   },
   {
    "duration": 15,
    "start_time": "2022-12-21T15:54:55.447Z"
   },
   {
    "duration": 19,
    "start_time": "2022-12-21T15:56:36.815Z"
   },
   {
    "duration": 17,
    "start_time": "2022-12-21T15:57:33.407Z"
   },
   {
    "duration": 24,
    "start_time": "2022-12-21T15:57:53.000Z"
   },
   {
    "duration": 19,
    "start_time": "2022-12-21T15:58:58.079Z"
   },
   {
    "duration": 21,
    "start_time": "2022-12-21T15:59:33.198Z"
   },
   {
    "duration": 28,
    "start_time": "2022-12-21T16:00:34.332Z"
   },
   {
    "duration": 17,
    "start_time": "2022-12-21T16:00:40.065Z"
   },
   {
    "duration": 19,
    "start_time": "2022-12-21T16:00:58.232Z"
   },
   {
    "duration": 70,
    "start_time": "2022-12-21T16:02:18.205Z"
   },
   {
    "duration": 23,
    "start_time": "2022-12-21T16:02:44.390Z"
   },
   {
    "duration": 26,
    "start_time": "2022-12-21T16:06:15.751Z"
   },
   {
    "duration": 24,
    "start_time": "2022-12-21T16:06:26.435Z"
   },
   {
    "duration": 27,
    "start_time": "2022-12-21T16:06:52.976Z"
   },
   {
    "duration": 9,
    "start_time": "2022-12-21T16:08:29.690Z"
   },
   {
    "duration": 9,
    "start_time": "2022-12-21T16:08:37.006Z"
   },
   {
    "duration": 9,
    "start_time": "2022-12-21T16:08:48.297Z"
   },
   {
    "duration": 162,
    "start_time": "2022-12-21T16:10:07.927Z"
   },
   {
    "duration": 18,
    "start_time": "2022-12-21T16:13:07.974Z"
   },
   {
    "duration": 13,
    "start_time": "2022-12-21T16:14:46.434Z"
   },
   {
    "duration": 181,
    "start_time": "2022-12-21T16:16:46.392Z"
   },
   {
    "duration": 14,
    "start_time": "2022-12-21T16:17:57.593Z"
   },
   {
    "duration": 13,
    "start_time": "2022-12-21T16:18:47.691Z"
   },
   {
    "duration": 16,
    "start_time": "2022-12-21T16:21:50.059Z"
   },
   {
    "duration": 12,
    "start_time": "2022-12-21T16:21:58.920Z"
   },
   {
    "duration": 14,
    "start_time": "2022-12-21T16:22:07.648Z"
   },
   {
    "duration": 13,
    "start_time": "2022-12-21T16:22:13.506Z"
   },
   {
    "duration": 192,
    "start_time": "2022-12-21T16:22:53.217Z"
   },
   {
    "duration": 263,
    "start_time": "2022-12-21T16:23:03.508Z"
   },
   {
    "duration": 148,
    "start_time": "2022-12-21T16:23:22.090Z"
   },
   {
    "duration": 9,
    "start_time": "2022-12-21T16:26:58.728Z"
   },
   {
    "duration": 12,
    "start_time": "2022-12-21T16:27:36.645Z"
   },
   {
    "duration": 15,
    "start_time": "2022-12-21T16:27:54.622Z"
   },
   {
    "duration": 22,
    "start_time": "2022-12-21T16:28:07.485Z"
   },
   {
    "duration": 381,
    "start_time": "2022-12-21T16:29:16.714Z"
   },
   {
    "duration": 11,
    "start_time": "2022-12-21T16:33:58.200Z"
   },
   {
    "duration": 8,
    "start_time": "2022-12-21T16:34:08.854Z"
   },
   {
    "duration": 11,
    "start_time": "2022-12-21T16:34:26.515Z"
   },
   {
    "duration": 9,
    "start_time": "2022-12-21T16:34:36.618Z"
   },
   {
    "duration": 13,
    "start_time": "2022-12-21T16:34:46.180Z"
   },
   {
    "duration": 9,
    "start_time": "2022-12-21T16:34:54.538Z"
   },
   {
    "duration": 8,
    "start_time": "2022-12-21T16:35:18.128Z"
   },
   {
    "duration": 11,
    "start_time": "2022-12-21T16:35:28.956Z"
   },
   {
    "duration": 16,
    "start_time": "2022-12-21T16:35:36.670Z"
   },
   {
    "duration": 16,
    "start_time": "2022-12-21T16:35:52.178Z"
   },
   {
    "duration": 120,
    "start_time": "2022-12-21T16:37:03.195Z"
   },
   {
    "duration": 14,
    "start_time": "2022-12-21T16:37:43.754Z"
   },
   {
    "duration": 33,
    "start_time": "2022-12-21T16:39:54.434Z"
   },
   {
    "duration": 34,
    "start_time": "2022-12-21T16:40:53.263Z"
   },
   {
    "duration": 52,
    "start_time": "2022-12-21T21:55:59.774Z"
   },
   {
    "duration": 6,
    "start_time": "2022-12-21T21:56:19.468Z"
   },
   {
    "duration": 7,
    "start_time": "2022-12-21T21:56:25.743Z"
   },
   {
    "duration": 808,
    "start_time": "2022-12-21T21:56:35.796Z"
   },
   {
    "duration": 6,
    "start_time": "2022-12-21T21:56:47.752Z"
   },
   {
    "duration": 4,
    "start_time": "2022-12-21T21:56:52.885Z"
   },
   {
    "duration": 26,
    "start_time": "2022-12-21T21:57:12.642Z"
   },
   {
    "duration": 35,
    "start_time": "2022-12-21T21:59:54.914Z"
   },
   {
    "duration": 9,
    "start_time": "2022-12-21T22:02:02.422Z"
   },
   {
    "duration": 13,
    "start_time": "2022-12-21T22:02:12.932Z"
   },
   {
    "duration": 10,
    "start_time": "2022-12-21T22:02:39.214Z"
   },
   {
    "duration": 17,
    "start_time": "2022-12-21T22:03:37.063Z"
   },
   {
    "duration": 77,
    "start_time": "2022-12-21T22:03:44.502Z"
   },
   {
    "duration": 695,
    "start_time": "2022-12-21T22:06:45.721Z"
   },
   {
    "duration": 721,
    "start_time": "2022-12-21T22:07:01.937Z"
   },
   {
    "duration": 8,
    "start_time": "2022-12-21T22:07:15.271Z"
   },
   {
    "duration": 6,
    "start_time": "2022-12-21T22:07:33.355Z"
   },
   {
    "duration": 7,
    "start_time": "2022-12-21T22:07:44.211Z"
   },
   {
    "duration": 324,
    "start_time": "2022-12-21T22:10:44.152Z"
   },
   {
    "duration": 353,
    "start_time": "2022-12-21T22:10:54.768Z"
   },
   {
    "duration": 742,
    "start_time": "2022-12-21T22:12:05.249Z"
   },
   {
    "duration": 700,
    "start_time": "2022-12-21T22:12:23.231Z"
   },
   {
    "duration": 7,
    "start_time": "2022-12-21T22:12:34.661Z"
   },
   {
    "duration": 91,
    "start_time": "2022-12-21T22:14:06.892Z"
   },
   {
    "duration": 327,
    "start_time": "2022-12-21T22:14:53.089Z"
   },
   {
    "duration": 81,
    "start_time": "2022-12-21T22:14:56.782Z"
   },
   {
    "duration": 619,
    "start_time": "2022-12-21T22:15:19.654Z"
   },
   {
    "duration": 242,
    "start_time": "2022-12-21T22:16:50.564Z"
   },
   {
    "duration": 10,
    "start_time": "2022-12-21T22:18:10.518Z"
   },
   {
    "duration": 314,
    "start_time": "2022-12-21T22:18:32.003Z"
   },
   {
    "duration": 39,
    "start_time": "2022-12-21T22:19:57.466Z"
   },
   {
    "duration": 3,
    "start_time": "2022-12-21T22:20:39.999Z"
   },
   {
    "duration": 29,
    "start_time": "2022-12-21T22:20:42.807Z"
   },
   {
    "duration": 178,
    "start_time": "2022-12-21T22:21:37.989Z"
   },
   {
    "duration": 185,
    "start_time": "2022-12-21T22:22:14.315Z"
   },
   {
    "duration": 457,
    "start_time": "2022-12-21T22:23:54.684Z"
   },
   {
    "duration": 430,
    "start_time": "2022-12-21T22:24:39.915Z"
   },
   {
    "duration": 633,
    "start_time": "2022-12-21T22:25:06.413Z"
   },
   {
    "duration": 171,
    "start_time": "2022-12-21T22:25:40.548Z"
   },
   {
    "duration": 159,
    "start_time": "2022-12-21T22:26:19.560Z"
   },
   {
    "duration": 81,
    "start_time": "2022-12-21T22:26:42.181Z"
   },
   {
    "duration": 165,
    "start_time": "2022-12-21T22:26:51.416Z"
   },
   {
    "duration": 336,
    "start_time": "2022-12-21T22:29:18.435Z"
   },
   {
    "duration": 6,
    "start_time": "2022-12-21T22:32:00.813Z"
   },
   {
    "duration": 369,
    "start_time": "2022-12-21T22:32:05.817Z"
   },
   {
    "duration": 682,
    "start_time": "2022-12-21T22:33:31.898Z"
   },
   {
    "duration": 751,
    "start_time": "2022-12-21T22:34:02.707Z"
   },
   {
    "duration": 57,
    "start_time": "2022-12-21T22:37:01.129Z"
   },
   {
    "duration": 14,
    "start_time": "2022-12-21T22:37:06.726Z"
   },
   {
    "duration": 2659,
    "start_time": "2022-12-21T22:37:11.288Z"
   },
   {
    "duration": 7,
    "start_time": "2022-12-21T22:38:19.478Z"
   },
   {
    "duration": 1196,
    "start_time": "2022-12-21T22:38:30.880Z"
   },
   {
    "duration": 5,
    "start_time": "2022-12-21T22:40:04.143Z"
   },
   {
    "duration": 36,
    "start_time": "2022-12-21T22:41:13.421Z"
   },
   {
    "duration": 1429,
    "start_time": "2022-12-21T22:41:20.329Z"
   },
   {
    "duration": 505,
    "start_time": "2022-12-21T22:54:42.282Z"
   },
   {
    "duration": 173,
    "start_time": "2022-12-21T22:56:17.016Z"
   },
   {
    "duration": 58,
    "start_time": "2022-12-21T23:05:28.140Z"
   },
   {
    "duration": 1254,
    "start_time": "2022-12-21T23:05:39.771Z"
   },
   {
    "duration": 50,
    "start_time": "2022-12-21T23:14:56.459Z"
   },
   {
    "duration": 113,
    "start_time": "2022-12-21T23:15:17.042Z"
   },
   {
    "duration": 58,
    "start_time": "2022-12-21T23:15:27.935Z"
   },
   {
    "duration": 1392,
    "start_time": "2022-12-21T23:15:47.637Z"
   },
   {
    "duration": 1644,
    "start_time": "2022-12-21T23:16:54.322Z"
   },
   {
    "duration": 58,
    "start_time": "2022-12-21T23:17:20.352Z"
   },
   {
    "duration": 54,
    "start_time": "2022-12-21T23:17:33.379Z"
   },
   {
    "duration": 55,
    "start_time": "2022-12-21T23:17:47.566Z"
   },
   {
    "duration": 1767,
    "start_time": "2022-12-21T23:18:05.472Z"
   },
   {
    "duration": 1520,
    "start_time": "2022-12-21T23:18:10.506Z"
   },
   {
    "duration": 68,
    "start_time": "2022-12-22T17:28:24.016Z"
   },
   {
    "duration": 551,
    "start_time": "2022-12-22T17:28:30.124Z"
   },
   {
    "duration": 5,
    "start_time": "2022-12-22T17:28:37.771Z"
   },
   {
    "duration": 7,
    "start_time": "2022-12-22T17:28:49.888Z"
   },
   {
    "duration": 14,
    "start_time": "2022-12-22T17:30:43.627Z"
   },
   {
    "duration": 14,
    "start_time": "2022-12-22T17:31:06.303Z"
   },
   {
    "duration": 105,
    "start_time": "2022-12-22T17:32:05.471Z"
   },
   {
    "duration": 57,
    "start_time": "2022-12-22T17:32:13.279Z"
   },
   {
    "duration": 7,
    "start_time": "2022-12-22T17:32:22.438Z"
   },
   {
    "duration": 19,
    "start_time": "2022-12-22T17:32:25.197Z"
   },
   {
    "duration": 8,
    "start_time": "2022-12-22T17:32:27.249Z"
   },
   {
    "duration": 24,
    "start_time": "2022-12-22T17:32:28.719Z"
   },
   {
    "duration": 23,
    "start_time": "2022-12-22T17:32:29.479Z"
   },
   {
    "duration": 13,
    "start_time": "2022-12-22T17:32:30.211Z"
   },
   {
    "duration": 8,
    "start_time": "2022-12-22T17:32:35.608Z"
   },
   {
    "duration": 15,
    "start_time": "2022-12-22T17:32:42.714Z"
   },
   {
    "duration": 42,
    "start_time": "2022-12-22T17:34:55.932Z"
   },
   {
    "duration": 48,
    "start_time": "2022-12-22T17:35:16.855Z"
   },
   {
    "duration": 71,
    "start_time": "2022-12-22T17:37:28.663Z"
   },
   {
    "duration": 15,
    "start_time": "2022-12-22T17:37:42.098Z"
   },
   {
    "duration": 20,
    "start_time": "2022-12-22T17:37:55.242Z"
   },
   {
    "duration": 26,
    "start_time": "2022-12-22T17:38:10.291Z"
   },
   {
    "duration": 24,
    "start_time": "2022-12-22T17:38:21.496Z"
   },
   {
    "duration": 72,
    "start_time": "2022-12-22T17:42:14.299Z"
   },
   {
    "duration": 9,
    "start_time": "2022-12-22T17:42:23.568Z"
   },
   {
    "duration": 7,
    "start_time": "2022-12-22T17:42:31.713Z"
   },
   {
    "duration": 46,
    "start_time": "2022-12-22T17:43:12.666Z"
   },
   {
    "duration": 16,
    "start_time": "2022-12-22T17:44:03.289Z"
   },
   {
    "duration": 9,
    "start_time": "2022-12-22T17:44:39.337Z"
   },
   {
    "duration": 30,
    "start_time": "2022-12-22T17:44:46.950Z"
   },
   {
    "duration": 85,
    "start_time": "2022-12-22T17:44:50.019Z"
   },
   {
    "duration": 14,
    "start_time": "2022-12-22T17:49:58.684Z"
   },
   {
    "duration": 115,
    "start_time": "2022-12-22T17:49:58.700Z"
   },
   {
    "duration": 65,
    "start_time": "2022-12-22T17:49:58.818Z"
   },
   {
    "duration": 102,
    "start_time": "2022-12-22T17:49:58.885Z"
   },
   {
    "duration": 941,
    "start_time": "2022-12-22T17:52:22.071Z"
   },
   {
    "duration": 1001,
    "start_time": "2022-12-22T17:52:32.922Z"
   },
   {
    "duration": 5200,
    "start_time": "2022-12-22T17:52:33.925Z"
   },
   {
    "duration": 19,
    "start_time": "2022-12-22T17:52:39.184Z"
   },
   {
    "duration": 100,
    "start_time": "2022-12-22T17:52:39.206Z"
   },
   {
    "duration": 114,
    "start_time": "2022-12-22T17:52:39.309Z"
   },
   {
    "duration": 66,
    "start_time": "2022-12-22T17:52:39.424Z"
   },
   {
    "duration": 88,
    "start_time": "2022-12-22T17:52:39.493Z"
   },
   {
    "duration": 0,
    "start_time": "2022-12-22T17:52:39.585Z"
   },
   {
    "duration": 0,
    "start_time": "2022-12-22T17:52:39.586Z"
   },
   {
    "duration": 0,
    "start_time": "2022-12-22T17:52:39.588Z"
   },
   {
    "duration": 0,
    "start_time": "2022-12-22T17:52:39.591Z"
   },
   {
    "duration": 0,
    "start_time": "2022-12-22T17:52:39.592Z"
   },
   {
    "duration": 0,
    "start_time": "2022-12-22T17:52:39.594Z"
   },
   {
    "duration": 0,
    "start_time": "2022-12-22T17:52:39.595Z"
   },
   {
    "duration": 0,
    "start_time": "2022-12-22T17:52:39.597Z"
   },
   {
    "duration": 0,
    "start_time": "2022-12-22T17:52:39.598Z"
   },
   {
    "duration": 0,
    "start_time": "2022-12-22T17:52:39.599Z"
   },
   {
    "duration": 0,
    "start_time": "2022-12-22T17:52:39.601Z"
   },
   {
    "duration": 0,
    "start_time": "2022-12-22T17:52:39.602Z"
   },
   {
    "duration": 0,
    "start_time": "2022-12-22T17:52:39.604Z"
   },
   {
    "duration": 0,
    "start_time": "2022-12-22T17:52:39.605Z"
   },
   {
    "duration": 0,
    "start_time": "2022-12-22T17:52:39.606Z"
   },
   {
    "duration": 0,
    "start_time": "2022-12-22T17:52:39.607Z"
   },
   {
    "duration": 0,
    "start_time": "2022-12-22T17:52:39.609Z"
   },
   {
    "duration": 0,
    "start_time": "2022-12-22T17:52:39.611Z"
   },
   {
    "duration": 0,
    "start_time": "2022-12-22T17:52:39.680Z"
   },
   {
    "duration": 0,
    "start_time": "2022-12-22T17:52:39.681Z"
   },
   {
    "duration": 0,
    "start_time": "2022-12-22T17:52:39.682Z"
   },
   {
    "duration": 0,
    "start_time": "2022-12-22T17:52:39.685Z"
   },
   {
    "duration": 0,
    "start_time": "2022-12-22T17:52:39.686Z"
   },
   {
    "duration": 0,
    "start_time": "2022-12-22T17:52:39.689Z"
   },
   {
    "duration": 0,
    "start_time": "2022-12-22T17:52:39.690Z"
   },
   {
    "duration": 0,
    "start_time": "2022-12-22T17:52:39.690Z"
   },
   {
    "duration": 0,
    "start_time": "2022-12-22T17:52:39.691Z"
   },
   {
    "duration": 0,
    "start_time": "2022-12-22T17:52:39.692Z"
   },
   {
    "duration": 0,
    "start_time": "2022-12-22T17:52:39.696Z"
   },
   {
    "duration": 0,
    "start_time": "2022-12-22T17:52:39.697Z"
   },
   {
    "duration": 0,
    "start_time": "2022-12-22T17:52:39.698Z"
   },
   {
    "duration": 0,
    "start_time": "2022-12-22T17:52:39.700Z"
   },
   {
    "duration": 0,
    "start_time": "2022-12-22T17:52:39.701Z"
   },
   {
    "duration": 0,
    "start_time": "2022-12-22T17:52:39.702Z"
   },
   {
    "duration": 0,
    "start_time": "2022-12-22T17:52:39.704Z"
   },
   {
    "duration": 0,
    "start_time": "2022-12-22T17:52:39.705Z"
   },
   {
    "duration": 0,
    "start_time": "2022-12-22T17:52:39.706Z"
   },
   {
    "duration": 0,
    "start_time": "2022-12-22T17:52:39.707Z"
   },
   {
    "duration": 0,
    "start_time": "2022-12-22T17:52:39.708Z"
   },
   {
    "duration": 0,
    "start_time": "2022-12-22T17:52:39.709Z"
   },
   {
    "duration": 0,
    "start_time": "2022-12-22T17:52:39.710Z"
   },
   {
    "duration": 0,
    "start_time": "2022-12-22T17:52:39.711Z"
   },
   {
    "duration": 0,
    "start_time": "2022-12-22T17:52:39.781Z"
   },
   {
    "duration": 0,
    "start_time": "2022-12-22T17:52:39.782Z"
   },
   {
    "duration": 0,
    "start_time": "2022-12-22T17:52:39.783Z"
   },
   {
    "duration": 0,
    "start_time": "2022-12-22T17:52:39.785Z"
   },
   {
    "duration": 0,
    "start_time": "2022-12-22T17:52:39.786Z"
   },
   {
    "duration": 0,
    "start_time": "2022-12-22T17:52:39.787Z"
   },
   {
    "duration": 0,
    "start_time": "2022-12-22T17:52:39.789Z"
   },
   {
    "duration": 0,
    "start_time": "2022-12-22T17:52:39.790Z"
   },
   {
    "duration": 22,
    "start_time": "2022-12-22T17:52:42.906Z"
   },
   {
    "duration": 167,
    "start_time": "2022-12-22T17:52:54.756Z"
   },
   {
    "duration": 2151,
    "start_time": "2022-12-22T17:53:01.519Z"
   },
   {
    "duration": 11,
    "start_time": "2022-12-22T17:53:08.837Z"
   },
   {
    "duration": 54,
    "start_time": "2022-12-22T17:53:12.459Z"
   },
   {
    "duration": 8,
    "start_time": "2022-12-22T17:53:15.497Z"
   },
   {
    "duration": 91,
    "start_time": "2022-12-22T17:53:18.136Z"
   },
   {
    "duration": 12,
    "start_time": "2022-12-22T17:53:20.616Z"
   },
   {
    "duration": 6,
    "start_time": "2022-12-22T17:53:21.145Z"
   },
   {
    "duration": 7,
    "start_time": "2022-12-22T17:53:21.634Z"
   },
   {
    "duration": 12,
    "start_time": "2022-12-22T17:53:21.863Z"
   },
   {
    "duration": 7,
    "start_time": "2022-12-22T17:53:22.073Z"
   },
   {
    "duration": 15,
    "start_time": "2022-12-22T17:53:22.258Z"
   },
   {
    "duration": 16,
    "start_time": "2022-12-22T17:53:22.421Z"
   },
   {
    "duration": 9,
    "start_time": "2022-12-22T17:53:22.595Z"
   },
   {
    "duration": 6,
    "start_time": "2022-12-22T17:53:22.757Z"
   },
   {
    "duration": 8,
    "start_time": "2022-12-22T17:53:23.140Z"
   },
   {
    "duration": 69,
    "start_time": "2022-12-22T17:53:23.311Z"
   },
   {
    "duration": 510,
    "start_time": "2022-12-22T17:53:23.710Z"
   },
   {
    "duration": 360,
    "start_time": "2022-12-22T17:53:24.223Z"
   },
   {
    "duration": 28,
    "start_time": "2022-12-22T17:53:24.584Z"
   },
   {
    "duration": 28,
    "start_time": "2022-12-22T17:53:24.614Z"
   },
   {
    "duration": 23,
    "start_time": "2022-12-22T17:53:24.834Z"
   },
   {
    "duration": 9,
    "start_time": "2022-12-22T17:53:25.021Z"
   },
   {
    "duration": 158,
    "start_time": "2022-12-22T17:53:25.208Z"
   },
   {
    "duration": 15,
    "start_time": "2022-12-22T17:53:25.396Z"
   },
   {
    "duration": 14,
    "start_time": "2022-12-22T17:53:25.795Z"
   },
   {
    "duration": 210,
    "start_time": "2022-12-22T17:53:26.007Z"
   },
   {
    "duration": 15,
    "start_time": "2022-12-22T17:53:26.412Z"
   },
   {
    "duration": 15,
    "start_time": "2022-12-22T17:53:26.620Z"
   },
   {
    "duration": 290,
    "start_time": "2022-12-22T17:53:26.846Z"
   },
   {
    "duration": 293,
    "start_time": "2022-12-22T17:53:27.138Z"
   },
   {
    "duration": 15,
    "start_time": "2022-12-22T17:53:27.433Z"
   },
   {
    "duration": 25,
    "start_time": "2022-12-22T17:53:27.886Z"
   },
   {
    "duration": 37,
    "start_time": "2022-12-22T17:53:28.308Z"
   },
   {
    "duration": 6,
    "start_time": "2022-12-22T17:53:28.503Z"
   },
   {
    "duration": 5,
    "start_time": "2022-12-22T17:53:28.713Z"
   },
   {
    "duration": 5,
    "start_time": "2022-12-22T17:53:28.916Z"
   },
   {
    "duration": 333,
    "start_time": "2022-12-22T17:53:29.334Z"
   },
   {
    "duration": 20,
    "start_time": "2022-12-22T17:53:29.669Z"
   },
   {
    "duration": 79,
    "start_time": "2022-12-22T17:53:29.968Z"
   },
   {
    "duration": 229,
    "start_time": "2022-12-22T17:53:30.431Z"
   },
   {
    "duration": 243,
    "start_time": "2022-12-22T17:53:30.857Z"
   },
   {
    "duration": 486,
    "start_time": "2022-12-22T17:53:31.276Z"
   },
   {
    "duration": 374,
    "start_time": "2022-12-22T17:53:31.912Z"
   },
   {
    "duration": 477,
    "start_time": "2022-12-22T17:53:32.635Z"
   },
   {
    "duration": 129,
    "start_time": "2022-12-22T17:53:33.113Z"
   },
   {
    "duration": 167,
    "start_time": "2022-12-22T17:53:33.663Z"
   },
   {
    "duration": 10,
    "start_time": "2022-12-22T17:53:33.902Z"
   },
   {
    "duration": 1530,
    "start_time": "2022-12-22T17:53:34.268Z"
   },
   {
    "duration": 450,
    "start_time": "2022-12-22T17:53:35.805Z"
   },
   {
    "duration": 171,
    "start_time": "2022-12-22T17:53:37.257Z"
   },
   {
    "duration": 17,
    "start_time": "2022-12-22T17:53:39.656Z"
   },
   {
    "duration": 38,
    "start_time": "2022-12-22T17:53:40.403Z"
   },
   {
    "duration": 127,
    "start_time": "2022-12-22T17:53:41.738Z"
   },
   {
    "duration": 56,
    "start_time": "2022-12-22T17:53:45.538Z"
   },
   {
    "duration": 79556,
    "start_time": "2022-12-22T17:53:46.952Z"
   },
   {
    "duration": 8,
    "start_time": "2022-12-22T17:55:06.510Z"
   },
   {
    "duration": 197,
    "start_time": "2022-12-22T17:56:41.737Z"
   },
   {
    "duration": 16,
    "start_time": "2022-12-22T17:57:20.742Z"
   },
   {
    "duration": 18,
    "start_time": "2022-12-22T17:58:55.511Z"
   },
   {
    "duration": 174,
    "start_time": "2022-12-22T18:04:13.459Z"
   },
   {
    "duration": 16,
    "start_time": "2022-12-22T18:05:38.760Z"
   },
   {
    "duration": 8,
    "start_time": "2022-12-22T18:06:01.067Z"
   },
   {
    "duration": 552,
    "start_time": "2022-12-22T18:06:13.244Z"
   },
   {
    "duration": 2612,
    "start_time": "2022-12-22T18:06:13.798Z"
   },
   {
    "duration": 10,
    "start_time": "2022-12-22T18:06:16.411Z"
   },
   {
    "duration": 26,
    "start_time": "2022-12-22T18:06:16.423Z"
   },
   {
    "duration": 78,
    "start_time": "2022-12-22T18:06:16.451Z"
   },
   {
    "duration": 8,
    "start_time": "2022-12-22T18:06:16.531Z"
   },
   {
    "duration": 72,
    "start_time": "2022-12-22T18:06:16.541Z"
   },
   {
    "duration": 0,
    "start_time": "2022-12-22T18:06:16.616Z"
   },
   {
    "duration": 0,
    "start_time": "2022-12-22T18:06:16.617Z"
   },
   {
    "duration": 0,
    "start_time": "2022-12-22T18:06:16.618Z"
   },
   {
    "duration": 0,
    "start_time": "2022-12-22T18:06:16.620Z"
   },
   {
    "duration": 0,
    "start_time": "2022-12-22T18:06:16.621Z"
   },
   {
    "duration": 0,
    "start_time": "2022-12-22T18:06:16.622Z"
   },
   {
    "duration": 0,
    "start_time": "2022-12-22T18:06:16.623Z"
   },
   {
    "duration": 0,
    "start_time": "2022-12-22T18:06:16.624Z"
   },
   {
    "duration": 0,
    "start_time": "2022-12-22T18:06:16.625Z"
   },
   {
    "duration": 0,
    "start_time": "2022-12-22T18:06:16.626Z"
   },
   {
    "duration": 0,
    "start_time": "2022-12-22T18:06:16.627Z"
   },
   {
    "duration": 0,
    "start_time": "2022-12-22T18:06:16.628Z"
   },
   {
    "duration": 0,
    "start_time": "2022-12-22T18:06:16.629Z"
   },
   {
    "duration": 0,
    "start_time": "2022-12-22T18:06:16.630Z"
   },
   {
    "duration": 0,
    "start_time": "2022-12-22T18:06:16.631Z"
   },
   {
    "duration": 0,
    "start_time": "2022-12-22T18:06:16.632Z"
   },
   {
    "duration": 0,
    "start_time": "2022-12-22T18:06:16.633Z"
   },
   {
    "duration": 0,
    "start_time": "2022-12-22T18:06:16.633Z"
   },
   {
    "duration": 0,
    "start_time": "2022-12-22T18:06:16.634Z"
   },
   {
    "duration": 0,
    "start_time": "2022-12-22T18:06:16.635Z"
   },
   {
    "duration": 0,
    "start_time": "2022-12-22T18:06:16.637Z"
   },
   {
    "duration": 0,
    "start_time": "2022-12-22T18:06:16.637Z"
   },
   {
    "duration": 0,
    "start_time": "2022-12-22T18:06:16.639Z"
   },
   {
    "duration": 0,
    "start_time": "2022-12-22T18:06:16.640Z"
   },
   {
    "duration": 0,
    "start_time": "2022-12-22T18:06:16.640Z"
   },
   {
    "duration": 0,
    "start_time": "2022-12-22T18:06:16.641Z"
   },
   {
    "duration": 0,
    "start_time": "2022-12-22T18:06:16.643Z"
   },
   {
    "duration": 0,
    "start_time": "2022-12-22T18:06:16.643Z"
   },
   {
    "duration": 0,
    "start_time": "2022-12-22T18:06:16.644Z"
   },
   {
    "duration": 0,
    "start_time": "2022-12-22T18:06:16.645Z"
   },
   {
    "duration": 0,
    "start_time": "2022-12-22T18:06:16.647Z"
   },
   {
    "duration": 0,
    "start_time": "2022-12-22T18:06:16.647Z"
   },
   {
    "duration": 0,
    "start_time": "2022-12-22T18:06:16.649Z"
   },
   {
    "duration": 0,
    "start_time": "2022-12-22T18:06:16.650Z"
   },
   {
    "duration": 0,
    "start_time": "2022-12-22T18:06:16.678Z"
   },
   {
    "duration": 0,
    "start_time": "2022-12-22T18:06:16.679Z"
   },
   {
    "duration": 0,
    "start_time": "2022-12-22T18:06:16.680Z"
   },
   {
    "duration": 0,
    "start_time": "2022-12-22T18:06:16.680Z"
   },
   {
    "duration": 0,
    "start_time": "2022-12-22T18:06:16.681Z"
   },
   {
    "duration": 0,
    "start_time": "2022-12-22T18:06:16.682Z"
   },
   {
    "duration": 0,
    "start_time": "2022-12-22T18:06:16.683Z"
   },
   {
    "duration": 0,
    "start_time": "2022-12-22T18:06:16.684Z"
   },
   {
    "duration": 0,
    "start_time": "2022-12-22T18:06:16.684Z"
   },
   {
    "duration": 0,
    "start_time": "2022-12-22T18:06:16.685Z"
   },
   {
    "duration": 0,
    "start_time": "2022-12-22T18:06:16.686Z"
   },
   {
    "duration": 0,
    "start_time": "2022-12-22T18:06:16.692Z"
   },
   {
    "duration": 0,
    "start_time": "2022-12-22T18:06:16.693Z"
   },
   {
    "duration": 0,
    "start_time": "2022-12-22T18:06:16.695Z"
   },
   {
    "duration": 0,
    "start_time": "2022-12-22T18:06:16.696Z"
   },
   {
    "duration": 5,
    "start_time": "2022-12-22T18:06:17.136Z"
   },
   {
    "duration": 15,
    "start_time": "2022-12-22T18:06:25.503Z"
   },
   {
    "duration": 119,
    "start_time": "2022-12-22T18:06:33.009Z"
   },
   {
    "duration": 1955,
    "start_time": "2022-12-22T18:06:37.436Z"
   },
   {
    "duration": 11,
    "start_time": "2022-12-22T18:06:39.394Z"
   },
   {
    "duration": 26,
    "start_time": "2022-12-22T18:06:39.406Z"
   },
   {
    "duration": 70,
    "start_time": "2022-12-22T18:06:39.434Z"
   },
   {
    "duration": 8,
    "start_time": "2022-12-22T18:06:39.506Z"
   },
   {
    "duration": 75,
    "start_time": "2022-12-22T18:06:39.516Z"
   },
   {
    "duration": 0,
    "start_time": "2022-12-22T18:06:39.593Z"
   },
   {
    "duration": 0,
    "start_time": "2022-12-22T18:06:39.594Z"
   },
   {
    "duration": 0,
    "start_time": "2022-12-22T18:06:39.595Z"
   },
   {
    "duration": 23,
    "start_time": "2022-12-22T18:06:39.671Z"
   },
   {
    "duration": 6,
    "start_time": "2022-12-22T18:06:39.855Z"
   },
   {
    "duration": 17,
    "start_time": "2022-12-22T18:06:40.014Z"
   },
   {
    "duration": 18,
    "start_time": "2022-12-22T18:06:40.188Z"
   },
   {
    "duration": 9,
    "start_time": "2022-12-22T18:06:40.392Z"
   },
   {
    "duration": 6,
    "start_time": "2022-12-22T18:06:40.628Z"
   },
   {
    "duration": 8,
    "start_time": "2022-12-22T18:06:41.296Z"
   },
   {
    "duration": 71,
    "start_time": "2022-12-22T18:06:41.525Z"
   },
   {
    "duration": 408,
    "start_time": "2022-12-22T18:06:41.909Z"
   },
   {
    "duration": 378,
    "start_time": "2022-12-22T18:06:42.319Z"
   },
   {
    "duration": 26,
    "start_time": "2022-12-22T18:06:42.698Z"
   },
   {
    "duration": 33,
    "start_time": "2022-12-22T18:06:42.726Z"
   },
   {
    "duration": 22,
    "start_time": "2022-12-22T18:06:43.017Z"
   },
   {
    "duration": 9,
    "start_time": "2022-12-22T18:06:43.217Z"
   },
   {
    "duration": 160,
    "start_time": "2022-12-22T18:06:43.546Z"
   },
   {
    "duration": 21,
    "start_time": "2022-12-22T18:06:43.773Z"
   },
   {
    "duration": 15,
    "start_time": "2022-12-22T18:06:44.213Z"
   },
   {
    "duration": 237,
    "start_time": "2022-12-22T18:06:44.438Z"
   },
   {
    "duration": 16,
    "start_time": "2022-12-22T18:06:44.841Z"
   },
   {
    "duration": 16,
    "start_time": "2022-12-22T18:06:45.061Z"
   },
   {
    "duration": 312,
    "start_time": "2022-12-22T18:06:45.293Z"
   },
   {
    "duration": 361,
    "start_time": "2022-12-22T18:06:45.608Z"
   },
   {
    "duration": 19,
    "start_time": "2022-12-22T18:06:45.986Z"
   },
   {
    "duration": 27,
    "start_time": "2022-12-22T18:06:46.312Z"
   },
   {
    "duration": 40,
    "start_time": "2022-12-22T18:06:46.716Z"
   },
   {
    "duration": 7,
    "start_time": "2022-12-22T18:06:46.908Z"
   },
   {
    "duration": 7,
    "start_time": "2022-12-22T18:06:47.110Z"
   },
   {
    "duration": 7,
    "start_time": "2022-12-22T18:06:47.345Z"
   },
   {
    "duration": 363,
    "start_time": "2022-12-22T18:06:47.703Z"
   },
   {
    "duration": 8,
    "start_time": "2022-12-22T18:06:48.097Z"
   },
   {
    "duration": 93,
    "start_time": "2022-12-22T18:06:48.511Z"
   },
   {
    "duration": 266,
    "start_time": "2022-12-22T18:06:48.943Z"
   },
   {
    "duration": 268,
    "start_time": "2022-12-22T18:06:51.328Z"
   },
   {
    "duration": 514,
    "start_time": "2022-12-22T18:06:51.737Z"
   },
   {
    "duration": 441,
    "start_time": "2022-12-22T18:06:52.253Z"
   },
   {
    "duration": 474,
    "start_time": "2022-12-22T18:06:52.696Z"
   },
   {
    "duration": 142,
    "start_time": "2022-12-22T18:06:53.172Z"
   },
   {
    "duration": 167,
    "start_time": "2022-12-22T18:06:53.398Z"
   },
   {
    "duration": 9,
    "start_time": "2022-12-22T18:06:53.627Z"
   },
   {
    "duration": 1644,
    "start_time": "2022-12-22T18:06:53.923Z"
   },
   {
    "duration": 549,
    "start_time": "2022-12-22T18:06:55.569Z"
   },
   {
    "duration": 195,
    "start_time": "2022-12-22T18:06:56.120Z"
   },
   {
    "duration": 16,
    "start_time": "2022-12-22T18:06:56.738Z"
   },
   {
    "duration": 47,
    "start_time": "2022-12-22T18:06:56.953Z"
   },
   {
    "duration": 127,
    "start_time": "2022-12-22T18:06:57.169Z"
   },
   {
    "duration": 41,
    "start_time": "2022-12-22T18:06:57.831Z"
   },
   {
    "duration": 113,
    "start_time": "2022-12-22T18:07:50.046Z"
   },
   {
    "duration": 1966,
    "start_time": "2022-12-22T18:08:00.737Z"
   },
   {
    "duration": 10,
    "start_time": "2022-12-22T18:08:02.816Z"
   },
   {
    "duration": 25,
    "start_time": "2022-12-22T18:08:04.015Z"
   },
   {
    "duration": 55,
    "start_time": "2022-12-22T18:08:07.150Z"
   },
   {
    "duration": 8,
    "start_time": "2022-12-22T18:08:41.894Z"
   },
   {
    "duration": 82,
    "start_time": "2022-12-22T18:08:42.659Z"
   },
   {
    "duration": 73,
    "start_time": "2022-12-22T18:08:51.798Z"
   },
   {
    "duration": 10,
    "start_time": "2022-12-22T18:08:53.901Z"
   },
   {
    "duration": 71,
    "start_time": "2022-12-22T18:08:56.509Z"
   },
   {
    "duration": 6,
    "start_time": "2022-12-22T18:09:02.968Z"
   },
   {
    "duration": 14,
    "start_time": "2022-12-22T18:09:22.999Z"
   },
   {
    "duration": 15,
    "start_time": "2022-12-22T18:09:27.206Z"
   },
   {
    "duration": 121,
    "start_time": "2022-12-22T18:09:32.793Z"
   },
   {
    "duration": 1997,
    "start_time": "2022-12-22T18:09:36.266Z"
   },
   {
    "duration": 10,
    "start_time": "2022-12-22T18:09:38.726Z"
   },
   {
    "duration": 23,
    "start_time": "2022-12-22T18:09:39.684Z"
   },
   {
    "duration": 51,
    "start_time": "2022-12-22T18:09:40.778Z"
   },
   {
    "duration": 9,
    "start_time": "2022-12-22T18:09:41.035Z"
   },
   {
    "duration": 75,
    "start_time": "2022-12-22T18:09:41.270Z"
   },
   {
    "duration": 12,
    "start_time": "2022-12-22T18:09:41.462Z"
   },
   {
    "duration": 7,
    "start_time": "2022-12-22T18:09:41.643Z"
   },
   {
    "duration": 8,
    "start_time": "2022-12-22T18:09:41.846Z"
   },
   {
    "duration": 13,
    "start_time": "2022-12-22T18:09:42.031Z"
   },
   {
    "duration": 18,
    "start_time": "2022-12-22T18:09:42.275Z"
   },
   {
    "duration": 16,
    "start_time": "2022-12-22T18:09:42.496Z"
   },
   {
    "duration": 26,
    "start_time": "2022-12-22T18:09:42.676Z"
   },
   {
    "duration": 9,
    "start_time": "2022-12-22T18:09:42.836Z"
   },
   {
    "duration": 6,
    "start_time": "2022-12-22T18:09:43.014Z"
   },
   {
    "duration": 9,
    "start_time": "2022-12-22T18:09:43.618Z"
   },
   {
    "duration": 88,
    "start_time": "2022-12-22T18:09:43.828Z"
   },
   {
    "duration": 464,
    "start_time": "2022-12-22T18:09:44.393Z"
   },
   {
    "duration": 571,
    "start_time": "2022-12-22T18:09:44.859Z"
   },
   {
    "duration": 30,
    "start_time": "2022-12-22T18:09:45.432Z"
   },
   {
    "duration": 60,
    "start_time": "2022-12-22T18:09:45.464Z"
   },
   {
    "duration": 32,
    "start_time": "2022-12-22T18:09:45.771Z"
   },
   {
    "duration": 12,
    "start_time": "2022-12-22T18:09:45.989Z"
   },
   {
    "duration": 187,
    "start_time": "2022-12-22T18:09:46.205Z"
   },
   {
    "duration": 18,
    "start_time": "2022-12-22T18:09:46.593Z"
   },
   {
    "duration": 16,
    "start_time": "2022-12-22T18:09:47.036Z"
   },
   {
    "duration": 238,
    "start_time": "2022-12-22T18:09:47.226Z"
   },
   {
    "duration": 17,
    "start_time": "2022-12-22T18:09:47.593Z"
   },
   {
    "duration": 18,
    "start_time": "2022-12-22T18:09:47.803Z"
   },
   {
    "duration": 182,
    "start_time": "2022-12-22T18:09:47.977Z"
   },
   {
    "duration": 337,
    "start_time": "2022-12-22T18:09:48.164Z"
   },
   {
    "duration": 17,
    "start_time": "2022-12-22T18:09:48.503Z"
   },
   {
    "duration": 24,
    "start_time": "2022-12-22T18:09:49.013Z"
   },
   {
    "duration": 43,
    "start_time": "2022-12-22T18:09:49.456Z"
   },
   {
    "duration": 5,
    "start_time": "2022-12-22T18:09:49.656Z"
   },
   {
    "duration": 6,
    "start_time": "2022-12-22T18:09:49.847Z"
   },
   {
    "duration": 16,
    "start_time": "2022-12-22T18:09:50.076Z"
   },
   {
    "duration": 370,
    "start_time": "2022-12-22T18:09:50.442Z"
   },
   {
    "duration": 7,
    "start_time": "2022-12-22T18:09:50.813Z"
   },
   {
    "duration": 96,
    "start_time": "2022-12-22T18:09:51.045Z"
   },
   {
    "duration": 337,
    "start_time": "2022-12-22T18:09:51.472Z"
   },
   {
    "duration": 191,
    "start_time": "2022-12-22T18:09:51.934Z"
   },
   {
    "duration": 461,
    "start_time": "2022-12-22T18:09:52.349Z"
   },
   {
    "duration": 400,
    "start_time": "2022-12-22T18:09:52.812Z"
   },
   {
    "duration": 604,
    "start_time": "2022-12-22T18:09:53.245Z"
   },
   {
    "duration": 179,
    "start_time": "2022-12-22T18:09:53.851Z"
   },
   {
    "duration": 166,
    "start_time": "2022-12-22T18:09:54.200Z"
   },
   {
    "duration": 13,
    "start_time": "2022-12-22T18:09:54.476Z"
   },
   {
    "duration": 1529,
    "start_time": "2022-12-22T18:09:54.776Z"
   },
   {
    "duration": 651,
    "start_time": "2022-12-22T18:09:56.307Z"
   },
   {
    "duration": 192,
    "start_time": "2022-12-22T18:09:56.960Z"
   },
   {
    "duration": 0,
    "start_time": "2022-12-22T18:09:57.154Z"
   },
   {
    "duration": 41,
    "start_time": "2022-12-22T18:09:57.210Z"
   },
   {
    "duration": 22,
    "start_time": "2022-12-22T18:09:57.451Z"
   },
   {
    "duration": 39,
    "start_time": "2022-12-22T18:09:58.205Z"
   },
   {
    "duration": 27,
    "start_time": "2022-12-22T18:10:10.967Z"
   },
   {
    "duration": 4,
    "start_time": "2022-12-22T18:11:24.293Z"
   },
   {
    "duration": 41,
    "start_time": "2022-12-22T18:13:07.329Z"
   },
   {
    "duration": 6,
    "start_time": "2022-12-22T18:14:20.390Z"
   },
   {
    "duration": 1257,
    "start_time": "2022-12-22T18:15:32.483Z"
   },
   {
    "duration": 1215,
    "start_time": "2022-12-22T18:15:34.693Z"
   },
   {
    "duration": 37,
    "start_time": "2022-12-22T18:15:39.500Z"
   },
   {
    "duration": 56,
    "start_time": "2022-12-22T18:15:43.895Z"
   },
   {
    "duration": 1293,
    "start_time": "2022-12-22T18:15:46.964Z"
   },
   {
    "duration": 109,
    "start_time": "2022-12-22T18:16:49.125Z"
   },
   {
    "duration": 5,
    "start_time": "2022-12-22T18:17:31.900Z"
   },
   {
    "duration": 221,
    "start_time": "2022-12-22T18:19:20.699Z"
   },
   {
    "duration": 9,
    "start_time": "2022-12-22T18:20:31.754Z"
   },
   {
    "duration": 9,
    "start_time": "2022-12-22T18:20:44.313Z"
   },
   {
    "duration": 50,
    "start_time": "2022-12-22T18:20:57.541Z"
   },
   {
    "duration": 98,
    "start_time": "2022-12-22T18:21:09.400Z"
   },
   {
    "duration": 5,
    "start_time": "2022-12-22T18:22:24.757Z"
   },
   {
    "duration": 99,
    "start_time": "2022-12-22T18:23:09.051Z"
   },
   {
    "duration": 4,
    "start_time": "2022-12-22T18:23:26.003Z"
   },
   {
    "duration": 4,
    "start_time": "2022-12-22T18:24:41.023Z"
   },
   {
    "duration": 1009,
    "start_time": "2022-12-22T18:25:12.763Z"
   },
   {
    "duration": 80,
    "start_time": "2022-12-22T18:25:32.375Z"
   },
   {
    "duration": 11,
    "start_time": "2022-12-22T18:26:35.212Z"
   },
   {
    "duration": 19,
    "start_time": "2022-12-22T18:26:48.806Z"
   },
   {
    "duration": 4,
    "start_time": "2022-12-22T18:27:01.927Z"
   },
   {
    "duration": 525,
    "start_time": "2022-12-22T18:27:36.717Z"
   },
   {
    "duration": 2268,
    "start_time": "2022-12-22T18:27:37.244Z"
   },
   {
    "duration": 10,
    "start_time": "2022-12-22T18:27:39.514Z"
   },
   {
    "duration": 29,
    "start_time": "2022-12-22T18:27:39.527Z"
   },
   {
    "duration": 66,
    "start_time": "2022-12-22T18:27:39.558Z"
   },
   {
    "duration": 9,
    "start_time": "2022-12-22T18:27:39.625Z"
   },
   {
    "duration": 94,
    "start_time": "2022-12-22T18:27:39.636Z"
   },
   {
    "duration": 0,
    "start_time": "2022-12-22T18:27:39.733Z"
   },
   {
    "duration": 0,
    "start_time": "2022-12-22T18:27:39.734Z"
   },
   {
    "duration": 0,
    "start_time": "2022-12-22T18:27:39.735Z"
   },
   {
    "duration": 0,
    "start_time": "2022-12-22T18:27:39.736Z"
   },
   {
    "duration": 0,
    "start_time": "2022-12-22T18:27:39.737Z"
   },
   {
    "duration": 0,
    "start_time": "2022-12-22T18:27:39.738Z"
   },
   {
    "duration": 0,
    "start_time": "2022-12-22T18:27:39.739Z"
   },
   {
    "duration": 0,
    "start_time": "2022-12-22T18:27:39.741Z"
   },
   {
    "duration": 0,
    "start_time": "2022-12-22T18:27:39.742Z"
   },
   {
    "duration": 0,
    "start_time": "2022-12-22T18:27:39.743Z"
   },
   {
    "duration": 0,
    "start_time": "2022-12-22T18:27:39.744Z"
   },
   {
    "duration": 0,
    "start_time": "2022-12-22T18:27:39.744Z"
   },
   {
    "duration": 0,
    "start_time": "2022-12-22T18:27:39.745Z"
   },
   {
    "duration": 0,
    "start_time": "2022-12-22T18:27:39.746Z"
   },
   {
    "duration": 0,
    "start_time": "2022-12-22T18:27:39.747Z"
   },
   {
    "duration": 0,
    "start_time": "2022-12-22T18:27:39.748Z"
   },
   {
    "duration": 0,
    "start_time": "2022-12-22T18:27:39.749Z"
   },
   {
    "duration": 0,
    "start_time": "2022-12-22T18:27:39.750Z"
   },
   {
    "duration": 0,
    "start_time": "2022-12-22T18:27:39.751Z"
   },
   {
    "duration": 0,
    "start_time": "2022-12-22T18:27:39.752Z"
   },
   {
    "duration": 0,
    "start_time": "2022-12-22T18:27:39.753Z"
   },
   {
    "duration": 0,
    "start_time": "2022-12-22T18:27:39.754Z"
   },
   {
    "duration": 0,
    "start_time": "2022-12-22T18:27:39.755Z"
   },
   {
    "duration": 0,
    "start_time": "2022-12-22T18:27:39.757Z"
   },
   {
    "duration": 0,
    "start_time": "2022-12-22T18:27:39.757Z"
   },
   {
    "duration": 0,
    "start_time": "2022-12-22T18:27:39.759Z"
   },
   {
    "duration": 0,
    "start_time": "2022-12-22T18:27:39.760Z"
   },
   {
    "duration": 0,
    "start_time": "2022-12-22T18:27:39.761Z"
   },
   {
    "duration": 0,
    "start_time": "2022-12-22T18:27:39.762Z"
   },
   {
    "duration": 0,
    "start_time": "2022-12-22T18:27:39.763Z"
   },
   {
    "duration": 0,
    "start_time": "2022-12-22T18:27:39.764Z"
   },
   {
    "duration": 0,
    "start_time": "2022-12-22T18:27:39.765Z"
   },
   {
    "duration": 0,
    "start_time": "2022-12-22T18:27:39.766Z"
   },
   {
    "duration": 0,
    "start_time": "2022-12-22T18:27:39.768Z"
   },
   {
    "duration": 0,
    "start_time": "2022-12-22T18:27:39.779Z"
   },
   {
    "duration": 0,
    "start_time": "2022-12-22T18:27:39.779Z"
   },
   {
    "duration": 0,
    "start_time": "2022-12-22T18:27:39.780Z"
   },
   {
    "duration": 0,
    "start_time": "2022-12-22T18:27:39.783Z"
   },
   {
    "duration": 0,
    "start_time": "2022-12-22T18:27:39.783Z"
   },
   {
    "duration": 0,
    "start_time": "2022-12-22T18:27:39.786Z"
   },
   {
    "duration": 0,
    "start_time": "2022-12-22T18:27:39.790Z"
   },
   {
    "duration": 0,
    "start_time": "2022-12-22T18:27:39.791Z"
   },
   {
    "duration": 0,
    "start_time": "2022-12-22T18:27:39.791Z"
   },
   {
    "duration": 0,
    "start_time": "2022-12-22T18:27:39.794Z"
   },
   {
    "duration": 0,
    "start_time": "2022-12-22T18:27:39.795Z"
   },
   {
    "duration": 0,
    "start_time": "2022-12-22T18:27:39.796Z"
   },
   {
    "duration": 0,
    "start_time": "2022-12-22T18:27:39.798Z"
   },
   {
    "duration": 0,
    "start_time": "2022-12-22T18:27:39.798Z"
   },
   {
    "duration": 0,
    "start_time": "2022-12-22T18:27:39.799Z"
   },
   {
    "duration": 0,
    "start_time": "2022-12-22T18:27:39.800Z"
   },
   {
    "duration": 0,
    "start_time": "2022-12-22T18:27:39.801Z"
   },
   {
    "duration": 0,
    "start_time": "2022-12-22T18:27:39.802Z"
   },
   {
    "duration": 0,
    "start_time": "2022-12-22T18:27:39.803Z"
   },
   {
    "duration": 119,
    "start_time": "2022-12-22T18:27:50.062Z"
   },
   {
    "duration": 2040,
    "start_time": "2022-12-22T18:27:53.867Z"
   },
   {
    "duration": 10,
    "start_time": "2022-12-22T18:27:55.909Z"
   },
   {
    "duration": 22,
    "start_time": "2022-12-22T18:27:56.442Z"
   },
   {
    "duration": 47,
    "start_time": "2022-12-22T18:27:59.311Z"
   },
   {
    "duration": 8,
    "start_time": "2022-12-22T18:28:00.493Z"
   },
   {
    "duration": 78,
    "start_time": "2022-12-22T18:28:02.776Z"
   },
   {
    "duration": 8,
    "start_time": "2022-12-22T18:28:06.267Z"
   },
   {
    "duration": 29,
    "start_time": "2022-12-22T18:28:16.294Z"
   },
   {
    "duration": 13,
    "start_time": "2022-12-22T18:28:19.315Z"
   },
   {
    "duration": 6,
    "start_time": "2022-12-22T18:28:20.517Z"
   },
   {
    "duration": 8,
    "start_time": "2022-12-22T18:28:21.600Z"
   },
   {
    "duration": 21,
    "start_time": "2022-12-22T18:28:22.369Z"
   },
   {
    "duration": 7,
    "start_time": "2022-12-22T18:28:23.431Z"
   },
   {
    "duration": 25,
    "start_time": "2022-12-22T18:28:24.472Z"
   },
   {
    "duration": 15,
    "start_time": "2022-12-22T18:28:25.145Z"
   },
   {
    "duration": 8,
    "start_time": "2022-12-22T18:28:25.697Z"
   },
   {
    "duration": 7,
    "start_time": "2022-12-22T18:28:26.141Z"
   },
   {
    "duration": 9,
    "start_time": "2022-12-22T18:28:27.344Z"
   },
   {
    "duration": 69,
    "start_time": "2022-12-22T18:28:28.197Z"
   },
   {
    "duration": 451,
    "start_time": "2022-12-22T18:28:30.754Z"
   },
   {
    "duration": 354,
    "start_time": "2022-12-22T18:28:31.661Z"
   },
   {
    "duration": 26,
    "start_time": "2022-12-22T18:28:33.248Z"
   },
   {
    "duration": 39,
    "start_time": "2022-12-22T18:28:34.969Z"
   },
   {
    "duration": 22,
    "start_time": "2022-12-22T18:28:35.938Z"
   },
   {
    "duration": 9,
    "start_time": "2022-12-22T18:28:36.197Z"
   },
   {
    "duration": 168,
    "start_time": "2022-12-22T18:28:36.433Z"
   },
   {
    "duration": 15,
    "start_time": "2022-12-22T18:28:36.606Z"
   },
   {
    "duration": 23,
    "start_time": "2022-12-22T18:28:37.064Z"
   },
   {
    "duration": 213,
    "start_time": "2022-12-22T18:28:37.278Z"
   },
   {
    "duration": 15,
    "start_time": "2022-12-22T18:28:37.841Z"
   },
   {
    "duration": 14,
    "start_time": "2022-12-22T18:28:38.093Z"
   },
   {
    "duration": 300,
    "start_time": "2022-12-22T18:28:38.359Z"
   },
   {
    "duration": 330,
    "start_time": "2022-12-22T18:28:38.661Z"
   },
   {
    "duration": 18,
    "start_time": "2022-12-22T18:28:38.994Z"
   },
   {
    "duration": 23,
    "start_time": "2022-12-22T18:28:39.492Z"
   },
   {
    "duration": 40,
    "start_time": "2022-12-22T18:28:40.413Z"
   },
   {
    "duration": 6,
    "start_time": "2022-12-22T18:28:40.963Z"
   },
   {
    "duration": 5,
    "start_time": "2022-12-22T18:28:41.419Z"
   },
   {
    "duration": 5,
    "start_time": "2022-12-22T18:28:41.871Z"
   },
   {
    "duration": 332,
    "start_time": "2022-12-22T18:28:43.131Z"
   },
   {
    "duration": 8,
    "start_time": "2022-12-22T18:28:43.797Z"
   },
   {
    "duration": 98,
    "start_time": "2022-12-22T18:28:45.143Z"
   },
   {
    "duration": 286,
    "start_time": "2022-12-22T18:28:46.463Z"
   },
   {
    "duration": 285,
    "start_time": "2022-12-22T18:28:48.312Z"
   },
   {
    "duration": 115,
    "start_time": "2022-12-22T18:30:18.336Z"
   },
   {
    "duration": 2010,
    "start_time": "2022-12-22T18:30:22.828Z"
   },
   {
    "duration": 14,
    "start_time": "2022-12-22T18:30:24.841Z"
   },
   {
    "duration": 39,
    "start_time": "2022-12-22T18:30:24.857Z"
   },
   {
    "duration": 50,
    "start_time": "2022-12-22T18:30:24.898Z"
   },
   {
    "duration": 33,
    "start_time": "2022-12-22T18:30:24.950Z"
   },
   {
    "duration": 33,
    "start_time": "2022-12-22T18:30:24.986Z"
   },
   {
    "duration": 11,
    "start_time": "2022-12-22T18:30:25.021Z"
   },
   {
    "duration": 7,
    "start_time": "2022-12-22T18:30:25.034Z"
   },
   {
    "duration": 36,
    "start_time": "2022-12-22T18:30:25.043Z"
   },
   {
    "duration": 29,
    "start_time": "2022-12-22T18:30:25.081Z"
   },
   {
    "duration": 12,
    "start_time": "2022-12-22T18:30:25.112Z"
   },
   {
    "duration": 15,
    "start_time": "2022-12-22T18:30:25.163Z"
   },
   {
    "duration": 16,
    "start_time": "2022-12-22T18:30:25.416Z"
   },
   {
    "duration": 13,
    "start_time": "2022-12-22T18:30:25.654Z"
   },
   {
    "duration": 6,
    "start_time": "2022-12-22T18:30:25.884Z"
   },
   {
    "duration": 12,
    "start_time": "2022-12-22T18:30:26.246Z"
   },
   {
    "duration": 70,
    "start_time": "2022-12-22T18:30:26.461Z"
   },
   {
    "duration": 431,
    "start_time": "2022-12-22T18:30:26.860Z"
   },
   {
    "duration": 430,
    "start_time": "2022-12-22T18:30:27.293Z"
   },
   {
    "duration": 25,
    "start_time": "2022-12-22T18:30:27.724Z"
   },
   {
    "duration": 25,
    "start_time": "2022-12-22T18:30:27.889Z"
   },
   {
    "duration": 22,
    "start_time": "2022-12-22T18:30:29.106Z"
   },
   {
    "duration": 13,
    "start_time": "2022-12-22T18:30:29.382Z"
   },
   {
    "duration": 177,
    "start_time": "2022-12-22T18:30:29.713Z"
   },
   {
    "duration": 16,
    "start_time": "2022-12-22T18:30:30.040Z"
   },
   {
    "duration": 14,
    "start_time": "2022-12-22T18:30:30.603Z"
   },
   {
    "duration": 214,
    "start_time": "2022-12-22T18:30:31.176Z"
   },
   {
    "duration": 15,
    "start_time": "2022-12-22T18:30:32.793Z"
   },
   {
    "duration": 15,
    "start_time": "2022-12-22T18:30:33.424Z"
   },
   {
    "duration": 149,
    "start_time": "2022-12-22T18:30:34.317Z"
   },
   {
    "duration": 314,
    "start_time": "2022-12-22T18:30:34.912Z"
   },
   {
    "duration": 25,
    "start_time": "2022-12-22T18:30:35.768Z"
   },
   {
    "duration": 23,
    "start_time": "2022-12-22T18:30:37.702Z"
   },
   {
    "duration": 35,
    "start_time": "2022-12-22T18:30:38.441Z"
   },
   {
    "duration": 6,
    "start_time": "2022-12-22T18:30:38.664Z"
   },
   {
    "duration": 6,
    "start_time": "2022-12-22T18:30:38.895Z"
   },
   {
    "duration": 6,
    "start_time": "2022-12-22T18:30:39.063Z"
   },
   {
    "duration": 423,
    "start_time": "2022-12-22T18:30:39.570Z"
   },
   {
    "duration": 8,
    "start_time": "2022-12-22T18:30:39.996Z"
   },
   {
    "duration": 101,
    "start_time": "2022-12-22T18:30:41.068Z"
   },
   {
    "duration": 286,
    "start_time": "2022-12-22T18:30:42.352Z"
   },
   {
    "duration": 270,
    "start_time": "2022-12-22T18:30:43.966Z"
   },
   {
    "duration": 495,
    "start_time": "2022-12-22T18:30:45.903Z"
   },
   {
    "duration": 474,
    "start_time": "2022-12-22T18:30:46.893Z"
   },
   {
    "duration": 708,
    "start_time": "2022-12-22T18:30:47.594Z"
   },
   {
    "duration": 193,
    "start_time": "2022-12-22T18:30:48.305Z"
   },
   {
    "duration": 205,
    "start_time": "2022-12-22T18:30:49.223Z"
   },
   {
    "duration": 8,
    "start_time": "2022-12-22T18:30:49.493Z"
   },
   {
    "duration": 1644,
    "start_time": "2022-12-22T18:30:49.799Z"
   },
   {
    "duration": 523,
    "start_time": "2022-12-22T18:30:51.445Z"
   },
   {
    "duration": 1694,
    "start_time": "2022-12-22T18:30:51.970Z"
   },
   {
    "duration": 36,
    "start_time": "2022-12-22T18:30:53.666Z"
   },
   {
    "duration": 37,
    "start_time": "2022-12-22T18:30:53.704Z"
   },
   {
    "duration": 48,
    "start_time": "2022-12-22T18:30:53.743Z"
   },
   {
    "duration": 121,
    "start_time": "2022-12-22T18:30:53.793Z"
   },
   {
    "duration": 51,
    "start_time": "2022-12-22T18:30:53.916Z"
   },
   {
    "duration": 14,
    "start_time": "2022-12-22T18:30:53.978Z"
   },
   {
    "duration": 5,
    "start_time": "2022-12-22T18:30:54.093Z"
   },
   {
    "duration": 216,
    "start_time": "2022-12-22T18:30:55.027Z"
   },
   {
    "duration": 5,
    "start_time": "2022-12-22T18:32:00.441Z"
   },
   {
    "duration": 5,
    "start_time": "2022-12-22T18:32:45.292Z"
   },
   {
    "duration": 9,
    "start_time": "2022-12-22T18:34:56.952Z"
   },
   {
    "duration": 5,
    "start_time": "2022-12-22T18:35:06.027Z"
   },
   {
    "duration": 10,
    "start_time": "2022-12-22T18:35:57.745Z"
   },
   {
    "duration": 4,
    "start_time": "2022-12-22T18:36:07.509Z"
   },
   {
    "duration": 4,
    "start_time": "2022-12-22T18:36:10.289Z"
   },
   {
    "duration": 7,
    "start_time": "2022-12-22T18:36:25.568Z"
   },
   {
    "duration": 4,
    "start_time": "2022-12-22T18:36:26.949Z"
   },
   {
    "duration": 8,
    "start_time": "2022-12-22T18:37:58.679Z"
   },
   {
    "duration": 5,
    "start_time": "2022-12-22T18:38:02.059Z"
   },
   {
    "duration": 8,
    "start_time": "2022-12-22T18:38:08.580Z"
   },
   {
    "duration": 4,
    "start_time": "2022-12-22T18:38:10.204Z"
   },
   {
    "duration": 200,
    "start_time": "2022-12-22T18:38:20.218Z"
   },
   {
    "duration": 5,
    "start_time": "2022-12-22T18:43:10.006Z"
   },
   {
    "duration": 6,
    "start_time": "2022-12-22T18:43:11.303Z"
   },
   {
    "duration": 1497,
    "start_time": "2022-12-22T18:46:16.430Z"
   },
   {
    "duration": 6,
    "start_time": "2022-12-22T18:47:04.058Z"
   },
   {
    "duration": 198,
    "start_time": "2022-12-22T18:47:06.708Z"
   },
   {
    "duration": 1590,
    "start_time": "2022-12-22T18:47:09.515Z"
   },
   {
    "duration": 56,
    "start_time": "2022-12-23T15:16:35.686Z"
   },
   {
    "duration": 1125,
    "start_time": "2022-12-23T15:16:40.818Z"
   },
   {
    "duration": 1911,
    "start_time": "2022-12-23T15:16:49.140Z"
   },
   {
    "duration": 10,
    "start_time": "2022-12-23T15:16:53.251Z"
   },
   {
    "duration": 16,
    "start_time": "2022-12-23T15:16:57.927Z"
   },
   {
    "duration": 53,
    "start_time": "2022-12-23T15:17:47.895Z"
   },
   {
    "duration": 54,
    "start_time": "2022-12-23T15:18:34.729Z"
   },
   {
    "duration": 9,
    "start_time": "2022-12-23T15:18:41.636Z"
   },
   {
    "duration": 26,
    "start_time": "2022-12-23T15:18:44.138Z"
   },
   {
    "duration": 12,
    "start_time": "2022-12-23T15:18:46.853Z"
   },
   {
    "duration": 6,
    "start_time": "2022-12-23T15:18:49.382Z"
   },
   {
    "duration": 8,
    "start_time": "2022-12-23T15:18:52.013Z"
   },
   {
    "duration": 14,
    "start_time": "2022-12-23T15:18:55.454Z"
   },
   {
    "duration": 18,
    "start_time": "2022-12-23T15:18:56.915Z"
   },
   {
    "duration": 7,
    "start_time": "2022-12-23T15:18:59.918Z"
   },
   {
    "duration": 16,
    "start_time": "2022-12-23T15:19:00.814Z"
   },
   {
    "duration": 9,
    "start_time": "2022-12-23T15:19:03.695Z"
   },
   {
    "duration": 6,
    "start_time": "2022-12-23T15:19:04.881Z"
   },
   {
    "duration": 9,
    "start_time": "2022-12-23T15:19:22.113Z"
   },
   {
    "duration": 65,
    "start_time": "2022-12-23T15:19:24.094Z"
   },
   {
    "duration": 405,
    "start_time": "2022-12-23T15:19:27.684Z"
   },
   {
    "duration": 348,
    "start_time": "2022-12-23T15:19:29.613Z"
   },
   {
    "duration": 28,
    "start_time": "2022-12-23T15:19:31.015Z"
   },
   {
    "duration": 26,
    "start_time": "2022-12-23T15:19:33.432Z"
   },
   {
    "duration": 22,
    "start_time": "2022-12-23T15:19:35.018Z"
   },
   {
    "duration": 11,
    "start_time": "2022-12-23T15:19:50.039Z"
   },
   {
    "duration": 158,
    "start_time": "2022-12-23T15:19:50.878Z"
   },
   {
    "duration": 13,
    "start_time": "2022-12-23T15:19:51.893Z"
   },
   {
    "duration": 19,
    "start_time": "2022-12-23T15:19:53.283Z"
   },
   {
    "duration": 287,
    "start_time": "2022-12-23T15:19:53.850Z"
   },
   {
    "duration": 15,
    "start_time": "2022-12-23T15:19:55.298Z"
   },
   {
    "duration": 13,
    "start_time": "2022-12-23T15:19:55.943Z"
   },
   {
    "duration": 137,
    "start_time": "2022-12-23T15:19:56.592Z"
   },
   {
    "duration": 268,
    "start_time": "2022-12-23T15:19:57.272Z"
   },
   {
    "duration": 16,
    "start_time": "2022-12-23T15:19:58.569Z"
   },
   {
    "duration": 24,
    "start_time": "2022-12-23T15:20:12.748Z"
   },
   {
    "duration": 39,
    "start_time": "2022-12-23T15:20:13.940Z"
   },
   {
    "duration": 6,
    "start_time": "2022-12-23T15:20:14.491Z"
   },
   {
    "duration": 6,
    "start_time": "2022-12-23T15:20:15.369Z"
   },
   {
    "duration": 6,
    "start_time": "2022-12-23T15:20:15.951Z"
   },
   {
    "duration": 353,
    "start_time": "2022-12-23T15:20:17.230Z"
   },
   {
    "duration": 8,
    "start_time": "2022-12-23T15:20:25.933Z"
   },
   {
    "duration": 83,
    "start_time": "2022-12-23T15:20:28.493Z"
   },
   {
    "duration": 246,
    "start_time": "2022-12-23T15:20:30.848Z"
   },
   {
    "duration": 190,
    "start_time": "2022-12-23T15:20:33.794Z"
   },
   {
    "duration": 488,
    "start_time": "2022-12-23T15:20:35.583Z"
   },
   {
    "duration": 359,
    "start_time": "2022-12-23T15:20:37.695Z"
   },
   {
    "duration": 452,
    "start_time": "2022-12-23T15:20:42.952Z"
   },
   {
    "duration": 152,
    "start_time": "2022-12-23T15:20:44.928Z"
   },
   {
    "duration": 160,
    "start_time": "2022-12-23T15:20:46.430Z"
   },
   {
    "duration": 8,
    "start_time": "2022-12-23T15:20:47.656Z"
   },
   {
    "duration": 1508,
    "start_time": "2022-12-23T15:20:48.926Z"
   },
   {
    "duration": 523,
    "start_time": "2022-12-23T15:21:16.046Z"
   },
   {
    "duration": 52,
    "start_time": "2022-12-23T15:27:30.477Z"
   },
   {
    "duration": 52,
    "start_time": "2022-12-23T15:27:41.430Z"
   },
   {
    "duration": 55,
    "start_time": "2022-12-23T15:27:47.931Z"
   },
   {
    "duration": 107,
    "start_time": "2022-12-23T15:28:04.633Z"
   },
   {
    "duration": 3,
    "start_time": "2022-12-23T15:28:13.846Z"
   },
   {
    "duration": 585,
    "start_time": "2022-12-23T15:29:35.586Z"
   },
   {
    "duration": 1433,
    "start_time": "2022-12-23T15:29:41.660Z"
   },
   {
    "duration": 17,
    "start_time": "2022-12-23T15:29:49.796Z"
   },
   {
    "duration": 38,
    "start_time": "2022-12-23T15:29:52.180Z"
   },
   {
    "duration": 22,
    "start_time": "2022-12-23T15:29:54.687Z"
   },
   {
    "duration": 97,
    "start_time": "2022-12-23T15:29:59.194Z"
   },
   {
    "duration": 38,
    "start_time": "2022-12-23T15:30:04.277Z"
   },
   {
    "duration": 5,
    "start_time": "2022-12-23T15:30:04.993Z"
   },
   {
    "duration": 7,
    "start_time": "2022-12-23T15:30:05.398Z"
   },
   {
    "duration": 5,
    "start_time": "2022-12-23T15:30:05.845Z"
   },
   {
    "duration": 4,
    "start_time": "2022-12-23T15:30:06.034Z"
   },
   {
    "duration": 190,
    "start_time": "2022-12-23T15:30:06.230Z"
   },
   {
    "duration": 180,
    "start_time": "2022-12-23T15:30:27.596Z"
   }
  ],
  "kernelspec": {
   "display_name": "Python 3 (ipykernel)",
   "language": "python",
   "name": "python3"
  },
  "language_info": {
   "codemirror_mode": {
    "name": "ipython",
    "version": 3
   },
   "file_extension": ".py",
   "mimetype": "text/x-python",
   "name": "python",
   "nbconvert_exporter": "python",
   "pygments_lexer": "ipython3",
   "version": "3.9.13"
  },
  "toc": {
   "base_numbering": 1,
   "nav_menu": {},
   "number_sections": true,
   "sideBar": true,
   "skip_h1_title": true,
   "title_cell": "Table of Contents",
   "title_sidebar": "Contents",
   "toc_cell": false,
   "toc_position": {},
   "toc_section_display": true,
   "toc_window_display": false
  }
 },
 "nbformat": 4,
 "nbformat_minor": 2
}
