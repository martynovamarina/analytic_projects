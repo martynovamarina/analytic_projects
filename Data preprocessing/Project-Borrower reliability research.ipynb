{
 "cells": [
  {
   "cell_type": "markdown",
   "id": "f324bab1",
   "metadata": {
    "deletable": false,
    "editable": false,
    "id": "c81daeeb"
   },
   "source": [
    "# Исследование надежности заемщиков\n"
   ]
  },
  {
   "cell_type": "markdown",
   "id": "7695c281",
   "metadata": {
    "deletable": false,
    "editable": false,
    "id": "827c20bf"
   },
   "source": [
    "Во второй части проекта вы выполните шаги 3 и 4. Их вручную проверит ревьюер.\n",
    "Чтобы вам не пришлось писать код заново для шагов 1 и 2, мы добавили авторские решения в ячейки с кодом. \n",
    "\n"
   ]
  },
  {
   "cell_type": "markdown",
   "id": "12d9acb6",
   "metadata": {
    "deletable": false,
    "editable": false,
    "id": "744d7639"
   },
   "source": [
    "## Откройте таблицу и изучите общую информацию о данных"
   ]
  },
  {
   "cell_type": "markdown",
   "id": "6ba5f79d",
   "metadata": {
    "deletable": false,
    "editable": false,
    "id": "e7a14c31"
   },
   "source": [
    "**Задание 1. Импортируйте библиотеку pandas. Считайте данные из csv-файла в датафрейм и сохраните в переменную `data`. Путь к файлу:**\n",
    "\n",
    "`/datasets/data.csv`"
   ]
  },
  {
   "cell_type": "code",
   "execution_count": 1,
   "id": "3126b2f4",
   "metadata": {
    "deletable": false,
    "id": "7bcf75c9"
   },
   "outputs": [],
   "source": [
    "import pandas as pd\n",
    "\n",
    "try:\n",
    "    data = pd.read_csv('/datasets/data.csv')\n",
    "except:\n",
    "    data = pd.read_csv('https://code.s3.yandex.net/datasets/data.csv')"
   ]
  },
  {
   "cell_type": "markdown",
   "id": "d347b0bd",
   "metadata": {
    "deletable": false,
    "editable": false,
    "id": "b8038fe3"
   },
   "source": [
    "**Задание 2. Выведите первые 20 строчек датафрейма `data` на экран.**"
   ]
  },
  {
   "cell_type": "code",
   "execution_count": 2,
   "id": "9af031a5",
   "metadata": {
    "deletable": false,
    "id": "2a7cab99",
    "outputId": "1a8f3ef2-d323-4ec2-ddf7-89670b5944c4"
   },
   "outputs": [
    {
     "data": {
      "text/html": [
       "<div>\n",
       "<style scoped>\n",
       "    .dataframe tbody tr th:only-of-type {\n",
       "        vertical-align: middle;\n",
       "    }\n",
       "\n",
       "    .dataframe tbody tr th {\n",
       "        vertical-align: top;\n",
       "    }\n",
       "\n",
       "    .dataframe thead th {\n",
       "        text-align: right;\n",
       "    }\n",
       "</style>\n",
       "<table border=\"1\" class=\"dataframe\">\n",
       "  <thead>\n",
       "    <tr style=\"text-align: right;\">\n",
       "      <th></th>\n",
       "      <th>children</th>\n",
       "      <th>days_employed</th>\n",
       "      <th>dob_years</th>\n",
       "      <th>education</th>\n",
       "      <th>education_id</th>\n",
       "      <th>family_status</th>\n",
       "      <th>family_status_id</th>\n",
       "      <th>gender</th>\n",
       "      <th>income_type</th>\n",
       "      <th>debt</th>\n",
       "      <th>total_income</th>\n",
       "      <th>purpose</th>\n",
       "    </tr>\n",
       "  </thead>\n",
       "  <tbody>\n",
       "    <tr>\n",
       "      <th>0</th>\n",
       "      <td>1</td>\n",
       "      <td>-8437.673028</td>\n",
       "      <td>42</td>\n",
       "      <td>высшее</td>\n",
       "      <td>0</td>\n",
       "      <td>женат / замужем</td>\n",
       "      <td>0</td>\n",
       "      <td>F</td>\n",
       "      <td>сотрудник</td>\n",
       "      <td>0</td>\n",
       "      <td>253875.639453</td>\n",
       "      <td>покупка жилья</td>\n",
       "    </tr>\n",
       "    <tr>\n",
       "      <th>1</th>\n",
       "      <td>1</td>\n",
       "      <td>-4024.803754</td>\n",
       "      <td>36</td>\n",
       "      <td>среднее</td>\n",
       "      <td>1</td>\n",
       "      <td>женат / замужем</td>\n",
       "      <td>0</td>\n",
       "      <td>F</td>\n",
       "      <td>сотрудник</td>\n",
       "      <td>0</td>\n",
       "      <td>112080.014102</td>\n",
       "      <td>приобретение автомобиля</td>\n",
       "    </tr>\n",
       "    <tr>\n",
       "      <th>2</th>\n",
       "      <td>0</td>\n",
       "      <td>-5623.422610</td>\n",
       "      <td>33</td>\n",
       "      <td>Среднее</td>\n",
       "      <td>1</td>\n",
       "      <td>женат / замужем</td>\n",
       "      <td>0</td>\n",
       "      <td>M</td>\n",
       "      <td>сотрудник</td>\n",
       "      <td>0</td>\n",
       "      <td>145885.952297</td>\n",
       "      <td>покупка жилья</td>\n",
       "    </tr>\n",
       "    <tr>\n",
       "      <th>3</th>\n",
       "      <td>3</td>\n",
       "      <td>-4124.747207</td>\n",
       "      <td>32</td>\n",
       "      <td>среднее</td>\n",
       "      <td>1</td>\n",
       "      <td>женат / замужем</td>\n",
       "      <td>0</td>\n",
       "      <td>M</td>\n",
       "      <td>сотрудник</td>\n",
       "      <td>0</td>\n",
       "      <td>267628.550329</td>\n",
       "      <td>дополнительное образование</td>\n",
       "    </tr>\n",
       "    <tr>\n",
       "      <th>4</th>\n",
       "      <td>0</td>\n",
       "      <td>340266.072047</td>\n",
       "      <td>53</td>\n",
       "      <td>среднее</td>\n",
       "      <td>1</td>\n",
       "      <td>гражданский брак</td>\n",
       "      <td>1</td>\n",
       "      <td>F</td>\n",
       "      <td>пенсионер</td>\n",
       "      <td>0</td>\n",
       "      <td>158616.077870</td>\n",
       "      <td>сыграть свадьбу</td>\n",
       "    </tr>\n",
       "    <tr>\n",
       "      <th>5</th>\n",
       "      <td>0</td>\n",
       "      <td>-926.185831</td>\n",
       "      <td>27</td>\n",
       "      <td>высшее</td>\n",
       "      <td>0</td>\n",
       "      <td>гражданский брак</td>\n",
       "      <td>1</td>\n",
       "      <td>M</td>\n",
       "      <td>компаньон</td>\n",
       "      <td>0</td>\n",
       "      <td>255763.565419</td>\n",
       "      <td>покупка жилья</td>\n",
       "    </tr>\n",
       "    <tr>\n",
       "      <th>6</th>\n",
       "      <td>0</td>\n",
       "      <td>-2879.202052</td>\n",
       "      <td>43</td>\n",
       "      <td>высшее</td>\n",
       "      <td>0</td>\n",
       "      <td>женат / замужем</td>\n",
       "      <td>0</td>\n",
       "      <td>F</td>\n",
       "      <td>компаньон</td>\n",
       "      <td>0</td>\n",
       "      <td>240525.971920</td>\n",
       "      <td>операции с жильем</td>\n",
       "    </tr>\n",
       "    <tr>\n",
       "      <th>7</th>\n",
       "      <td>0</td>\n",
       "      <td>-152.779569</td>\n",
       "      <td>50</td>\n",
       "      <td>СРЕДНЕЕ</td>\n",
       "      <td>1</td>\n",
       "      <td>женат / замужем</td>\n",
       "      <td>0</td>\n",
       "      <td>M</td>\n",
       "      <td>сотрудник</td>\n",
       "      <td>0</td>\n",
       "      <td>135823.934197</td>\n",
       "      <td>образование</td>\n",
       "    </tr>\n",
       "    <tr>\n",
       "      <th>8</th>\n",
       "      <td>2</td>\n",
       "      <td>-6929.865299</td>\n",
       "      <td>35</td>\n",
       "      <td>ВЫСШЕЕ</td>\n",
       "      <td>0</td>\n",
       "      <td>гражданский брак</td>\n",
       "      <td>1</td>\n",
       "      <td>F</td>\n",
       "      <td>сотрудник</td>\n",
       "      <td>0</td>\n",
       "      <td>95856.832424</td>\n",
       "      <td>на проведение свадьбы</td>\n",
       "    </tr>\n",
       "    <tr>\n",
       "      <th>9</th>\n",
       "      <td>0</td>\n",
       "      <td>-2188.756445</td>\n",
       "      <td>41</td>\n",
       "      <td>среднее</td>\n",
       "      <td>1</td>\n",
       "      <td>женат / замужем</td>\n",
       "      <td>0</td>\n",
       "      <td>M</td>\n",
       "      <td>сотрудник</td>\n",
       "      <td>0</td>\n",
       "      <td>144425.938277</td>\n",
       "      <td>покупка жилья для семьи</td>\n",
       "    </tr>\n",
       "    <tr>\n",
       "      <th>10</th>\n",
       "      <td>2</td>\n",
       "      <td>-4171.483647</td>\n",
       "      <td>36</td>\n",
       "      <td>высшее</td>\n",
       "      <td>0</td>\n",
       "      <td>женат / замужем</td>\n",
       "      <td>0</td>\n",
       "      <td>M</td>\n",
       "      <td>компаньон</td>\n",
       "      <td>0</td>\n",
       "      <td>113943.491460</td>\n",
       "      <td>покупка недвижимости</td>\n",
       "    </tr>\n",
       "    <tr>\n",
       "      <th>11</th>\n",
       "      <td>0</td>\n",
       "      <td>-792.701887</td>\n",
       "      <td>40</td>\n",
       "      <td>среднее</td>\n",
       "      <td>1</td>\n",
       "      <td>женат / замужем</td>\n",
       "      <td>0</td>\n",
       "      <td>F</td>\n",
       "      <td>сотрудник</td>\n",
       "      <td>0</td>\n",
       "      <td>77069.234271</td>\n",
       "      <td>покупка коммерческой недвижимости</td>\n",
       "    </tr>\n",
       "    <tr>\n",
       "      <th>12</th>\n",
       "      <td>0</td>\n",
       "      <td>NaN</td>\n",
       "      <td>65</td>\n",
       "      <td>среднее</td>\n",
       "      <td>1</td>\n",
       "      <td>гражданский брак</td>\n",
       "      <td>1</td>\n",
       "      <td>M</td>\n",
       "      <td>пенсионер</td>\n",
       "      <td>0</td>\n",
       "      <td>NaN</td>\n",
       "      <td>сыграть свадьбу</td>\n",
       "    </tr>\n",
       "    <tr>\n",
       "      <th>13</th>\n",
       "      <td>0</td>\n",
       "      <td>-1846.641941</td>\n",
       "      <td>54</td>\n",
       "      <td>неоконченное высшее</td>\n",
       "      <td>2</td>\n",
       "      <td>женат / замужем</td>\n",
       "      <td>0</td>\n",
       "      <td>F</td>\n",
       "      <td>сотрудник</td>\n",
       "      <td>0</td>\n",
       "      <td>130458.228857</td>\n",
       "      <td>приобретение автомобиля</td>\n",
       "    </tr>\n",
       "    <tr>\n",
       "      <th>14</th>\n",
       "      <td>0</td>\n",
       "      <td>-1844.956182</td>\n",
       "      <td>56</td>\n",
       "      <td>высшее</td>\n",
       "      <td>0</td>\n",
       "      <td>гражданский брак</td>\n",
       "      <td>1</td>\n",
       "      <td>F</td>\n",
       "      <td>компаньон</td>\n",
       "      <td>1</td>\n",
       "      <td>165127.911772</td>\n",
       "      <td>покупка жилой недвижимости</td>\n",
       "    </tr>\n",
       "    <tr>\n",
       "      <th>15</th>\n",
       "      <td>1</td>\n",
       "      <td>-972.364419</td>\n",
       "      <td>26</td>\n",
       "      <td>среднее</td>\n",
       "      <td>1</td>\n",
       "      <td>женат / замужем</td>\n",
       "      <td>0</td>\n",
       "      <td>F</td>\n",
       "      <td>сотрудник</td>\n",
       "      <td>0</td>\n",
       "      <td>116820.904450</td>\n",
       "      <td>строительство собственной недвижимости</td>\n",
       "    </tr>\n",
       "    <tr>\n",
       "      <th>16</th>\n",
       "      <td>0</td>\n",
       "      <td>-1719.934226</td>\n",
       "      <td>35</td>\n",
       "      <td>среднее</td>\n",
       "      <td>1</td>\n",
       "      <td>женат / замужем</td>\n",
       "      <td>0</td>\n",
       "      <td>F</td>\n",
       "      <td>сотрудник</td>\n",
       "      <td>0</td>\n",
       "      <td>289202.704229</td>\n",
       "      <td>недвижимость</td>\n",
       "    </tr>\n",
       "    <tr>\n",
       "      <th>17</th>\n",
       "      <td>0</td>\n",
       "      <td>-2369.999720</td>\n",
       "      <td>33</td>\n",
       "      <td>высшее</td>\n",
       "      <td>0</td>\n",
       "      <td>гражданский брак</td>\n",
       "      <td>1</td>\n",
       "      <td>M</td>\n",
       "      <td>сотрудник</td>\n",
       "      <td>0</td>\n",
       "      <td>90410.586745</td>\n",
       "      <td>строительство недвижимости</td>\n",
       "    </tr>\n",
       "    <tr>\n",
       "      <th>18</th>\n",
       "      <td>0</td>\n",
       "      <td>400281.136913</td>\n",
       "      <td>53</td>\n",
       "      <td>среднее</td>\n",
       "      <td>1</td>\n",
       "      <td>вдовец / вдова</td>\n",
       "      <td>2</td>\n",
       "      <td>F</td>\n",
       "      <td>пенсионер</td>\n",
       "      <td>0</td>\n",
       "      <td>56823.777243</td>\n",
       "      <td>на покупку подержанного автомобиля</td>\n",
       "    </tr>\n",
       "    <tr>\n",
       "      <th>19</th>\n",
       "      <td>0</td>\n",
       "      <td>-10038.818549</td>\n",
       "      <td>48</td>\n",
       "      <td>СРЕДНЕЕ</td>\n",
       "      <td>1</td>\n",
       "      <td>в разводе</td>\n",
       "      <td>3</td>\n",
       "      <td>F</td>\n",
       "      <td>сотрудник</td>\n",
       "      <td>0</td>\n",
       "      <td>242831.107982</td>\n",
       "      <td>на покупку своего автомобиля</td>\n",
       "    </tr>\n",
       "  </tbody>\n",
       "</table>\n",
       "</div>"
      ],
      "text/plain": [
       "    children  days_employed  dob_years            education  education_id  \\\n",
       "0          1   -8437.673028         42               высшее             0   \n",
       "1          1   -4024.803754         36              среднее             1   \n",
       "2          0   -5623.422610         33              Среднее             1   \n",
       "3          3   -4124.747207         32              среднее             1   \n",
       "4          0  340266.072047         53              среднее             1   \n",
       "5          0    -926.185831         27               высшее             0   \n",
       "6          0   -2879.202052         43               высшее             0   \n",
       "7          0    -152.779569         50              СРЕДНЕЕ             1   \n",
       "8          2   -6929.865299         35               ВЫСШЕЕ             0   \n",
       "9          0   -2188.756445         41              среднее             1   \n",
       "10         2   -4171.483647         36               высшее             0   \n",
       "11         0    -792.701887         40              среднее             1   \n",
       "12         0            NaN         65              среднее             1   \n",
       "13         0   -1846.641941         54  неоконченное высшее             2   \n",
       "14         0   -1844.956182         56               высшее             0   \n",
       "15         1    -972.364419         26              среднее             1   \n",
       "16         0   -1719.934226         35              среднее             1   \n",
       "17         0   -2369.999720         33               высшее             0   \n",
       "18         0  400281.136913         53              среднее             1   \n",
       "19         0  -10038.818549         48              СРЕДНЕЕ             1   \n",
       "\n",
       "       family_status  family_status_id gender income_type  debt  \\\n",
       "0    женат / замужем                 0      F   сотрудник     0   \n",
       "1    женат / замужем                 0      F   сотрудник     0   \n",
       "2    женат / замужем                 0      M   сотрудник     0   \n",
       "3    женат / замужем                 0      M   сотрудник     0   \n",
       "4   гражданский брак                 1      F   пенсионер     0   \n",
       "5   гражданский брак                 1      M   компаньон     0   \n",
       "6    женат / замужем                 0      F   компаньон     0   \n",
       "7    женат / замужем                 0      M   сотрудник     0   \n",
       "8   гражданский брак                 1      F   сотрудник     0   \n",
       "9    женат / замужем                 0      M   сотрудник     0   \n",
       "10   женат / замужем                 0      M   компаньон     0   \n",
       "11   женат / замужем                 0      F   сотрудник     0   \n",
       "12  гражданский брак                 1      M   пенсионер     0   \n",
       "13   женат / замужем                 0      F   сотрудник     0   \n",
       "14  гражданский брак                 1      F   компаньон     1   \n",
       "15   женат / замужем                 0      F   сотрудник     0   \n",
       "16   женат / замужем                 0      F   сотрудник     0   \n",
       "17  гражданский брак                 1      M   сотрудник     0   \n",
       "18    вдовец / вдова                 2      F   пенсионер     0   \n",
       "19         в разводе                 3      F   сотрудник     0   \n",
       "\n",
       "     total_income                                 purpose  \n",
       "0   253875.639453                           покупка жилья  \n",
       "1   112080.014102                 приобретение автомобиля  \n",
       "2   145885.952297                           покупка жилья  \n",
       "3   267628.550329              дополнительное образование  \n",
       "4   158616.077870                         сыграть свадьбу  \n",
       "5   255763.565419                           покупка жилья  \n",
       "6   240525.971920                       операции с жильем  \n",
       "7   135823.934197                             образование  \n",
       "8    95856.832424                   на проведение свадьбы  \n",
       "9   144425.938277                 покупка жилья для семьи  \n",
       "10  113943.491460                    покупка недвижимости  \n",
       "11   77069.234271       покупка коммерческой недвижимости  \n",
       "12            NaN                         сыграть свадьбу  \n",
       "13  130458.228857                 приобретение автомобиля  \n",
       "14  165127.911772              покупка жилой недвижимости  \n",
       "15  116820.904450  строительство собственной недвижимости  \n",
       "16  289202.704229                            недвижимость  \n",
       "17   90410.586745              строительство недвижимости  \n",
       "18   56823.777243      на покупку подержанного автомобиля  \n",
       "19  242831.107982            на покупку своего автомобиля  "
      ]
     },
     "execution_count": 2,
     "metadata": {},
     "output_type": "execute_result"
    }
   ],
   "source": [
    "data.head(20)"
   ]
  },
  {
   "cell_type": "markdown",
   "id": "ae7e9154",
   "metadata": {
    "deletable": false,
    "editable": false,
    "id": "1c12e233"
   },
   "source": [
    "**Задание 3. Выведите основную информацию о датафрейме с помощью метода `info()`.**"
   ]
  },
  {
   "cell_type": "code",
   "execution_count": 3,
   "id": "d42454f2",
   "metadata": {
    "deletable": false,
    "id": "2b757bca",
    "outputId": "15376089-8dad-46c9-b520-c05248d43158"
   },
   "outputs": [
    {
     "name": "stdout",
     "output_type": "stream",
     "text": [
      "<class 'pandas.core.frame.DataFrame'>\n",
      "RangeIndex: 21525 entries, 0 to 21524\n",
      "Data columns (total 12 columns):\n",
      " #   Column            Non-Null Count  Dtype  \n",
      "---  ------            --------------  -----  \n",
      " 0   children          21525 non-null  int64  \n",
      " 1   days_employed     19351 non-null  float64\n",
      " 2   dob_years         21525 non-null  int64  \n",
      " 3   education         21525 non-null  object \n",
      " 4   education_id      21525 non-null  int64  \n",
      " 5   family_status     21525 non-null  object \n",
      " 6   family_status_id  21525 non-null  int64  \n",
      " 7   gender            21525 non-null  object \n",
      " 8   income_type       21525 non-null  object \n",
      " 9   debt              21525 non-null  int64  \n",
      " 10  total_income      19351 non-null  float64\n",
      " 11  purpose           21525 non-null  object \n",
      "dtypes: float64(2), int64(5), object(5)\n",
      "memory usage: 2.0+ MB\n"
     ]
    }
   ],
   "source": [
    "data.info()"
   ]
  },
  {
   "cell_type": "markdown",
   "id": "535113a5",
   "metadata": {
    "deletable": false,
    "editable": false,
    "id": "333ec665"
   },
   "source": [
    "## Предобработка данных"
   ]
  },
  {
   "cell_type": "markdown",
   "id": "a36fbb0e",
   "metadata": {
    "deletable": false,
    "editable": false,
    "id": "02d92d53"
   },
   "source": [
    "### Удаление пропусков"
   ]
  },
  {
   "cell_type": "markdown",
   "id": "b1b526d2",
   "metadata": {
    "deletable": false,
    "editable": false,
    "id": "cd84967c"
   },
   "source": [
    "**Задание 4. Выведите количество пропущенных значений для каждого столбца. Используйте комбинацию двух методов.**"
   ]
  },
  {
   "cell_type": "code",
   "execution_count": 4,
   "id": "01e8664e",
   "metadata": {
    "deletable": false,
    "id": "7f9b2309",
    "outputId": "81f4d817-781c-465c-ed15-91ce4446810d"
   },
   "outputs": [
    {
     "data": {
      "text/plain": [
       "children               0\n",
       "days_employed       2174\n",
       "dob_years              0\n",
       "education              0\n",
       "education_id           0\n",
       "family_status          0\n",
       "family_status_id       0\n",
       "gender                 0\n",
       "income_type            0\n",
       "debt                   0\n",
       "total_income        2174\n",
       "purpose                0\n",
       "dtype: int64"
      ]
     },
     "execution_count": 4,
     "metadata": {},
     "output_type": "execute_result"
    }
   ],
   "source": [
    "data.isna().sum()"
   ]
  },
  {
   "cell_type": "markdown",
   "id": "2a96882d",
   "metadata": {
    "deletable": false,
    "editable": false,
    "id": "db86e27b"
   },
   "source": [
    "**Задание 5. В двух столбцах есть пропущенные значения. Один из них — `days_employed`. Пропуски в этом столбце вы обработаете на следующем этапе. Другой столбец с пропущенными значениями — `total_income` — хранит данные о доходах. На сумму дохода сильнее всего влияет тип занятости, поэтому заполнить пропуски в этом столбце нужно медианным значением по каждому типу из столбца `income_type`. Например, у человека с типом занятости `сотрудник` пропуск в столбце `total_income` должен быть заполнен медианным доходом среди всех записей с тем же типом.**"
   ]
  },
  {
   "cell_type": "code",
   "execution_count": 5,
   "id": "fb134f23",
   "metadata": {
    "deletable": false,
    "id": "42006a93"
   },
   "outputs": [],
   "source": [
    "for t in data['income_type'].unique():\n",
    "    data.loc[(data['income_type'] == t) & (data['total_income'].isna()), 'total_income'] = \\\n",
    "    data.loc[(data['income_type'] == t), 'total_income'].median()"
   ]
  },
  {
   "cell_type": "markdown",
   "id": "d305eae8",
   "metadata": {
    "deletable": false,
    "editable": false,
    "id": "89da5ece"
   },
   "source": [
    "### Обработка аномальных значений"
   ]
  },
  {
   "cell_type": "markdown",
   "id": "52528eda",
   "metadata": {
    "deletable": false,
    "editable": false,
    "id": "57964554"
   },
   "source": [
    "**Задание 6. В данных могут встречаться артефакты (аномалии) — значения, которые не отражают действительность и появились по какой-то ошибке. таким артефактом будет отрицательное количество дней трудового стажа в столбце `days_employed`. Для реальных данных это нормально. Обработайте значения в этом столбце: замените все отрицательные значения положительными с помощью метода `abs()`.**"
   ]
  },
  {
   "cell_type": "code",
   "execution_count": 6,
   "id": "a0bd8ce0",
   "metadata": {
    "deletable": false,
    "id": "f6f055bf"
   },
   "outputs": [],
   "source": [
    "data['days_employed'] = data['days_employed'].abs()"
   ]
  },
  {
   "cell_type": "markdown",
   "id": "df33c719",
   "metadata": {
    "deletable": false,
    "editable": false,
    "id": "6107dd2f"
   },
   "source": [
    "**Задание 7. Для каждого типа занятости выведите медианное значение трудового стажа `days_employed` в днях.**"
   ]
  },
  {
   "cell_type": "code",
   "execution_count": 7,
   "id": "590f98fa",
   "metadata": {
    "deletable": false,
    "id": "85a5faf6",
    "outputId": "801ef80e-522b-4668-f34e-565af7432bcf"
   },
   "outputs": [
    {
     "data": {
      "text/plain": [
       "income_type\n",
       "безработный        366413.652744\n",
       "в декрете            3296.759962\n",
       "госслужащий          2689.368353\n",
       "компаньон            1547.382223\n",
       "пенсионер          365213.306266\n",
       "предприниматель       520.848083\n",
       "сотрудник            1574.202821\n",
       "студент               578.751554\n",
       "Name: days_employed, dtype: float64"
      ]
     },
     "execution_count": 7,
     "metadata": {},
     "output_type": "execute_result"
    }
   ],
   "source": [
    "data.groupby('income_type')['days_employed'].agg('median')"
   ]
  },
  {
   "cell_type": "markdown",
   "id": "0fec5f91",
   "metadata": {
    "deletable": false,
    "editable": false,
    "id": "38d1a030"
   },
   "source": [
    "У двух типов (безработные и пенсионеры) получатся аномально большие значения. Исправить такие значения сложно, поэтому оставьте их как есть. Тем более этот столбец не понадобится вам для исследования."
   ]
  },
  {
   "cell_type": "markdown",
   "id": "3aee4f8a",
   "metadata": {
    "deletable": false,
    "editable": false,
    "id": "d8a9f147"
   },
   "source": [
    "**Задание 8. Выведите перечень уникальных значений столбца `children`.**"
   ]
  },
  {
   "cell_type": "code",
   "execution_count": 8,
   "id": "d7160d0b",
   "metadata": {
    "deletable": false,
    "id": "ef5056eb",
    "outputId": "6975b15c-7f95-4697-d16d-a0c79b657b03"
   },
   "outputs": [
    {
     "data": {
      "text/plain": [
       "array([ 1,  0,  3,  2, -1,  4, 20,  5])"
      ]
     },
     "execution_count": 8,
     "metadata": {},
     "output_type": "execute_result"
    }
   ],
   "source": [
    "data['children'].unique()"
   ]
  },
  {
   "cell_type": "markdown",
   "id": "aac8942a",
   "metadata": {
    "deletable": false,
    "editable": false,
    "id": "40b9ebf2"
   },
   "source": [
    "**Задание 9. В столбце `children` есть два аномальных значения. Удалите строки, в которых встречаются такие аномальные значения из датафрейма `data`.**"
   ]
  },
  {
   "cell_type": "code",
   "execution_count": 9,
   "id": "fcbd922d",
   "metadata": {
    "deletable": false,
    "id": "3ff9801d"
   },
   "outputs": [],
   "source": [
    "data = data[(data['children'] != -1) & (data['children'] != 20)]"
   ]
  },
  {
   "cell_type": "markdown",
   "id": "44d25bf7",
   "metadata": {
    "deletable": false,
    "editable": false,
    "id": "bbc4d0ce"
   },
   "source": [
    "**Задание 10. Ещё раз выведите перечень уникальных значений столбца `children`, чтобы убедиться, что артефакты удалены.**"
   ]
  },
  {
   "cell_type": "code",
   "execution_count": 10,
   "id": "58903b76",
   "metadata": {
    "deletable": false,
    "id": "ad4fa8b7",
    "outputId": "b2097101-d49d-44d9-901b-32a65c9463d1"
   },
   "outputs": [
    {
     "data": {
      "text/plain": [
       "array([1, 0, 3, 2, 4, 5])"
      ]
     },
     "execution_count": 10,
     "metadata": {},
     "output_type": "execute_result"
    }
   ],
   "source": [
    "data['children'].unique()"
   ]
  },
  {
   "cell_type": "markdown",
   "id": "387da1a5",
   "metadata": {
    "deletable": false,
    "editable": false,
    "id": "75440b63"
   },
   "source": [
    "### Удаление пропусков (продолжение)"
   ]
  },
  {
   "cell_type": "markdown",
   "id": "44259a7b",
   "metadata": {
    "deletable": false,
    "editable": false,
    "id": "f4ea573f"
   },
   "source": [
    "**Задание 11. Заполните пропуски в столбце `days_employed` медианными значениями по каждого типа занятости `income_type`.**"
   ]
  },
  {
   "cell_type": "code",
   "execution_count": 11,
   "id": "d47546e6",
   "metadata": {
    "deletable": false,
    "id": "af6b1a7e"
   },
   "outputs": [],
   "source": [
    "for t in data['income_type'].unique():\n",
    "    data.loc[(data['income_type'] == t) & (data['days_employed'].isna()), 'days_employed'] = \\\n",
    "    data.loc[(data['income_type'] == t), 'days_employed'].median()"
   ]
  },
  {
   "cell_type": "markdown",
   "id": "f19536f7",
   "metadata": {
    "deletable": false,
    "editable": false,
    "id": "2753f40d"
   },
   "source": [
    "**Задание 12. Убедитесь, что все пропуски заполнены. Проверьте себя и ещё раз выведите количество пропущенных значений для каждого столбца с помощью двух методов.**"
   ]
  },
  {
   "cell_type": "code",
   "execution_count": 12,
   "id": "780b7787",
   "metadata": {
    "deletable": false,
    "id": "55f78bc2",
    "outputId": "8da1e4e1-358e-4e87-98c9-f261bce0a7b2"
   },
   "outputs": [
    {
     "data": {
      "text/plain": [
       "children            0\n",
       "days_employed       0\n",
       "dob_years           0\n",
       "education           0\n",
       "education_id        0\n",
       "family_status       0\n",
       "family_status_id    0\n",
       "gender              0\n",
       "income_type         0\n",
       "debt                0\n",
       "total_income        0\n",
       "purpose             0\n",
       "dtype: int64"
      ]
     },
     "execution_count": 12,
     "metadata": {},
     "output_type": "execute_result"
    }
   ],
   "source": [
    "data.isna().sum()"
   ]
  },
  {
   "cell_type": "markdown",
   "id": "816c8cb3",
   "metadata": {
    "deletable": false,
    "editable": false,
    "id": "ddc81e43"
   },
   "source": [
    "### Изменение типов данных"
   ]
  },
  {
   "cell_type": "markdown",
   "id": "e0d3e3a5",
   "metadata": {
    "deletable": false,
    "editable": false,
    "id": "42d19d24"
   },
   "source": [
    "**Задание 13. Замените вещественный тип данных в столбце `total_income` на целочисленный с помощью метода `astype()`.**"
   ]
  },
  {
   "cell_type": "code",
   "execution_count": 13,
   "id": "7c8e5750",
   "metadata": {
    "deletable": false,
    "id": "920b65ad"
   },
   "outputs": [],
   "source": [
    "data['total_income'] = data['total_income'].astype(int)"
   ]
  },
  {
   "cell_type": "markdown",
   "id": "592113a2",
   "metadata": {
    "deletable": false,
    "editable": false,
    "id": "80c420ba"
   },
   "source": [
    "### Обработка дубликатов"
   ]
  },
  {
   "cell_type": "markdown",
   "id": "36e796ed",
   "metadata": {
    "deletable": false,
    "editable": false
   },
   "source": [
    "**Задание 14. Обработайте неявные дубликаты в столбце `education`. В этом столбце есть одни и те же значения, но записанные по-разному: с использованием заглавных и строчных букв. Приведите их к нижнему регистру. Проверьте остальные столбцы.**"
   ]
  },
  {
   "cell_type": "code",
   "execution_count": 14,
   "id": "6dbf6d1f",
   "metadata": {
    "deletable": false
   },
   "outputs": [],
   "source": [
    "data['education'] = data['education'].str.lower()"
   ]
  },
  {
   "cell_type": "markdown",
   "id": "ad507bad",
   "metadata": {
    "deletable": false,
    "editable": false,
    "id": "dc587695"
   },
   "source": [
    "**Задание 15. Выведите на экран количество строк-дубликатов в данных. Если такие строки присутствуют, удалите их.**"
   ]
  },
  {
   "cell_type": "code",
   "execution_count": 15,
   "id": "896e656e",
   "metadata": {
    "deletable": false,
    "id": "3ee445e4",
    "outputId": "9684deba-1934-42d1-99e1-cda61740f822"
   },
   "outputs": [
    {
     "data": {
      "text/plain": [
       "71"
      ]
     },
     "execution_count": 15,
     "metadata": {},
     "output_type": "execute_result"
    }
   ],
   "source": [
    "data.duplicated().sum()"
   ]
  },
  {
   "cell_type": "code",
   "execution_count": 16,
   "id": "7810b838",
   "metadata": {
    "deletable": false,
    "id": "8575fe05"
   },
   "outputs": [],
   "source": [
    "data = data.drop_duplicates()"
   ]
  },
  {
   "cell_type": "markdown",
   "id": "3950e485",
   "metadata": {
    "deletable": false,
    "editable": false,
    "id": "9904cf55"
   },
   "source": [
    "### Категоризация данных"
   ]
  },
  {
   "cell_type": "markdown",
   "id": "4aebcf01",
   "metadata": {
    "deletable": false,
    "editable": false,
    "id": "72fcc8a2"
   },
   "source": [
    "**Задание 16. На основании диапазонов, указанных ниже, создайте в датафрейме `data` столбец `total_income_category` с категориями:**\n",
    "\n",
    "- 0–30000 — `'E'`;\n",
    "- 30001–50000 — `'D'`;\n",
    "- 50001–200000 — `'C'`;\n",
    "- 200001–1000000 — `'B'`;\n",
    "- 1000001 и выше — `'A'`.\n",
    "\n",
    "\n",
    "**Например, кредитополучателю с доходом 25000 нужно назначить категорию `'E'`, а клиенту, получающему 235000, — `'B'`. Используйте собственную функцию с именем `categorize_income()` и метод `apply()`.**"
   ]
  },
  {
   "cell_type": "code",
   "execution_count": 17,
   "id": "19c6e0b1",
   "metadata": {
    "deletable": false,
    "id": "e1771346"
   },
   "outputs": [],
   "source": [
    "def categorize_income(income):\n",
    "    try:\n",
    "        if 0 <= income <= 30000:\n",
    "            return 'E'\n",
    "        elif 30001 <= income <= 50000:\n",
    "            return 'D'\n",
    "        elif 50001 <= income <= 200000:\n",
    "            return 'C'\n",
    "        elif 200001 <= income <= 1000000:\n",
    "            return 'B'\n",
    "        elif income >= 1000001:\n",
    "            return 'A'\n",
    "    except:\n",
    "        pass"
   ]
  },
  {
   "cell_type": "code",
   "execution_count": 18,
   "id": "6264ff30",
   "metadata": {
    "deletable": false,
    "id": "d5f3586d"
   },
   "outputs": [],
   "source": [
    "data['total_income_category'] = data['total_income'].apply(categorize_income)"
   ]
  },
  {
   "cell_type": "markdown",
   "id": "ff990bbd",
   "metadata": {
    "deletable": false,
    "editable": false,
    "id": "dde49b5c"
   },
   "source": [
    "**Задание 17. Выведите на экран перечень уникальных целей взятия кредита из столбца `purpose`.**"
   ]
  },
  {
   "cell_type": "code",
   "execution_count": 19,
   "id": "a6f21bff",
   "metadata": {
    "deletable": false,
    "id": "f67ce9b3",
    "outputId": "673c12d9-7d7e-4ae0-9812-c622c89dd244"
   },
   "outputs": [
    {
     "data": {
      "text/plain": [
       "array(['покупка жилья', 'приобретение автомобиля',\n",
       "       'дополнительное образование', 'сыграть свадьбу',\n",
       "       'операции с жильем', 'образование', 'на проведение свадьбы',\n",
       "       'покупка жилья для семьи', 'покупка недвижимости',\n",
       "       'покупка коммерческой недвижимости', 'покупка жилой недвижимости',\n",
       "       'строительство собственной недвижимости', 'недвижимость',\n",
       "       'строительство недвижимости', 'на покупку подержанного автомобиля',\n",
       "       'на покупку своего автомобиля',\n",
       "       'операции с коммерческой недвижимостью',\n",
       "       'строительство жилой недвижимости', 'жилье',\n",
       "       'операции со своей недвижимостью', 'автомобили',\n",
       "       'заняться образованием', 'сделка с подержанным автомобилем',\n",
       "       'получение образования', 'автомобиль', 'свадьба',\n",
       "       'получение дополнительного образования', 'покупка своего жилья',\n",
       "       'операции с недвижимостью', 'получение высшего образования',\n",
       "       'свой автомобиль', 'сделка с автомобилем',\n",
       "       'профильное образование', 'высшее образование',\n",
       "       'покупка жилья для сдачи', 'на покупку автомобиля', 'ремонт жилью',\n",
       "       'заняться высшим образованием'], dtype=object)"
      ]
     },
     "execution_count": 19,
     "metadata": {},
     "output_type": "execute_result"
    }
   ],
   "source": [
    "data['purpose'].unique()"
   ]
  },
  {
   "cell_type": "markdown",
   "id": "cdefd401",
   "metadata": {
    "deletable": false,
    "editable": false,
    "id": "85d0aef0"
   },
   "source": [
    "**Задание 18. Создайте функцию, которая на основании данных из столбца `purpose` сформирует новый столбец `purpose_category`, в который войдут следующие категории:**\n",
    "\n",
    "- `'операции с автомобилем'`,\n",
    "- `'операции с недвижимостью'`,\n",
    "- `'проведение свадьбы'`,\n",
    "- `'получение образования'`.\n",
    "\n",
    "**Например, если в столбце `purpose` находится подстрока `'на покупку автомобиля'`, то в столбце `purpose_category` должна появиться строка `'операции с автомобилем'`.**\n",
    "\n",
    "**Используйте собственную функцию с именем `categorize_purpose()` и метод `apply()`. Изучите данные в столбце `purpose` и определите, какие подстроки помогут вам правильно определить категорию.**"
   ]
  },
  {
   "cell_type": "code",
   "execution_count": 20,
   "id": "9f02ec30",
   "metadata": {
    "deletable": false,
    "id": "e149fab4"
   },
   "outputs": [],
   "source": [
    "def categorize_purpose(row):\n",
    "    try:\n",
    "        if 'автом' in row:\n",
    "            return 'операции с автомобилем'\n",
    "        elif 'жил' in row or 'недвиж' in row:\n",
    "            return 'операции с недвижимостью'\n",
    "        elif 'свад' in row:\n",
    "            return 'проведение свадьбы'\n",
    "        elif 'образов' in row:\n",
    "            return 'получение образования'\n",
    "    except:\n",
    "        return 'нет категории'"
   ]
  },
  {
   "cell_type": "code",
   "execution_count": 21,
   "id": "72ecb8f2",
   "metadata": {
    "deletable": false,
    "id": "bf36e69b"
   },
   "outputs": [],
   "source": [
    "data['purpose_category'] = data['purpose'].apply(categorize_purpose)"
   ]
  },
  {
   "cell_type": "markdown",
   "id": "d34ab857",
   "metadata": {
    "deletable": false,
    "editable": false,
    "id": "09b242bf"
   },
   "source": [
    "### Шаг 3. Исследуйте данные и ответьте на вопросы"
   ]
  },
  {
   "cell_type": "markdown",
   "id": "8fa0bd55",
   "metadata": {
    "deletable": false,
    "editable": false,
    "id": "c5d66278"
   },
   "source": [
    "#### 3.1 Есть ли зависимость между количеством детей и возвратом кредита в срок?"
   ]
  },
  {
   "cell_type": "code",
   "execution_count": 22,
   "id": "9f28737f",
   "metadata": {
    "deletable": false,
    "id": "2cacfc4a"
   },
   "outputs": [
    {
     "name": "stdout",
     "output_type": "stream",
     "text": [
      "          count   sum      mean\n",
      "           debt  debt      debt\n",
      "children                       \n",
      "0         14091  1063  0.075438\n",
      "1          4808   444  0.092346\n",
      "2          2052   194  0.094542\n",
      "3           330    27  0.081818\n",
      "4            41     4  0.097561\n",
      "5             9     0  0.000000\n"
     ]
    }
   ],
   "source": [
    "#data.info()\n",
    "data.head(20)\n",
    "# Ваш код будет здесь. Вы можете создавать новые ячейки.\n",
    "data_pivot = data.pivot_table(index='children',values = 'debt', aggfunc=['count', 'sum', 'mean'])\n",
    "print(data_pivot)"
   ]
  },
  {
   "cell_type": "markdown",
   "id": "5762ed3b",
   "metadata": {
    "deletable": false,
    "id": "3a6b99ec"
   },
   "source": [
    "**Вывод:** \n",
    "Нельзя учитывать так называемый шум таблицы - значения -1 и 20 детей - выборка маленькая и -1 не может быть.\n",
    "Люди у которых нет детей, относятся к тем, кто чаще всех берут кредиты, сумма кредитов самая большая, однако доля просрочки меньше, чему  людей с детьми. Люди с детьми в количестве 1-2 и 4 имеют самый высокий процент просрочки, однако у тех у кого 3 и 4 ребенка есть тенденция к тому, что они начинают брать меньше кредитов.Возможно, данные по количеству 44 и 5 детей лучше не рассматривать, слишком мала выборка данных по ним. Уже те у кого есть два ребенка в два раза меньше берут кредитов, чем те у кого нет детей. "
   ]
  },
  {
   "cell_type": "markdown",
   "id": "ff86b778",
   "metadata": {
    "deletable": false,
    "editable": false,
    "id": "97be82ca"
   },
   "source": [
    "#### 3.2 Есть ли зависимость между семейным положением и возвратом кредита в срок?"
   ]
  },
  {
   "cell_type": "code",
   "execution_count": 23,
   "id": "72c1113b",
   "metadata": {
    "deletable": false,
    "id": "dc3f7ee8"
   },
   "outputs": [
    {
     "name": "stdout",
     "output_type": "stream",
     "text": [
      "                       count  sum      mean\n",
      "                        debt debt      debt\n",
      "family_status                              \n",
      "Не женат / не замужем   2796  273  0.097639\n",
      "в разводе               1189   84  0.070648\n",
      "вдовец / вдова           951   63  0.066246\n",
      "гражданский брак        4134  385  0.093130\n",
      "женат / замужем        12261  927  0.075606\n"
     ]
    }
   ],
   "source": [
    "data_pivot1 = data.pivot_table(index='family_status',values = 'debt', aggfunc=['count', 'sum', 'mean'])\n",
    "print(data_pivot1)"
   ]
  },
  {
   "cell_type": "markdown",
   "id": "24bed786",
   "metadata": {
    "deletable": false,
    "id": "1cef7837"
   },
   "source": [
    "**Вывод:** Люди те кто в гражданском браке, не женаты/не замужем более чем на 3% меньше выплачивают реже долги свои. Более ответственны те кто в разводе, вдовцы или женатые/замужние"
   ]
  },
  {
   "cell_type": "markdown",
   "id": "ee608143",
   "metadata": {
    "deletable": false,
    "editable": false,
    "id": "1e8b2fca"
   },
   "source": [
    "#### 3.3 Есть ли зависимость между уровнем дохода и возвратом кредита в срок?"
   ]
  },
  {
   "cell_type": "code",
   "execution_count": 24,
   "id": "fc6294b6",
   "metadata": {
    "deletable": false,
    "id": "cd7e3720"
   },
   "outputs": [
    {
     "name": "stdout",
     "output_type": "stream",
     "text": [
      "                       count   sum      mean\n",
      "                        debt  debt      debt\n",
      "total_income_category                       \n",
      "A                         25     2  0.080000\n",
      "B                       5014   354  0.070602\n",
      "C                      15921  1353  0.084982\n",
      "D                        349    21  0.060172\n",
      "E                         22     2  0.090909\n"
     ]
    }
   ],
   "source": [
    "data_pivot2 = data.pivot_table(index='total_income_category',values = 'debt', aggfunc=['count', 'sum', 'mean'])\n",
    "print(data_pivot2)"
   ]
  },
  {
   "cell_type": "markdown",
   "id": "04fdc455",
   "metadata": {
    "deletable": false,
    "id": "e8593def"
   },
   "source": [
    "**Вывод:** \n",
    "Не будем брать в анализ данные с малым количеством данных - группы А и Е.\n",
    "Больше всего берут кредиты люди с доходом С - от 50001 до 200000, у них же и самая большая сумма кредита, а также и доля просрочки. Наверно это идет за счет того, что очень много людей в этой группе, здесь конечно стоит эту групппу рассмотерть более детально, еще группировать, так как слишком абстрактно, что только этот доход вдияет на возвратность/невозвратность кредита. Людей с доходом В почти в 2,5 раза меньше чем с доходом С, они и в 2, 5 раза меньше имеют сумму кредита, однако их возвратность долга лучше чем у категории С. \n",
    "За категорией D лучшая возвратность, однако возможно это потому что мало людей с таким доходом берут кредиты."
   ]
  },
  {
   "cell_type": "markdown",
   "id": "68c96b55",
   "metadata": {
    "deletable": false,
    "editable": false,
    "id": "99ecbd1f"
   },
   "source": [
    "#### 3.4 Как разные цели кредита влияют на его возврат в срок?"
   ]
  },
  {
   "cell_type": "code",
   "execution_count": 25,
   "id": "b9bb4ff9",
   "metadata": {
    "deletable": false,
    "id": "2b687290"
   },
   "outputs": [
    {
     "name": "stdout",
     "output_type": "stream",
     "text": [
      "                          count  sum      mean\n",
      "                           debt debt      debt\n",
      "purpose_category                              \n",
      "операции с автомобилем     4279  400  0.093480\n",
      "операции с недвижимостью  10751  780  0.072551\n",
      "получение образования      3988  369  0.092528\n",
      "проведение свадьбы         2313  183  0.079118\n"
     ]
    }
   ],
   "source": [
    "data_pivot3 = data.pivot_table(index='purpose_category',values = 'debt', aggfunc=['count', 'sum', 'mean'])\n",
    "print(data_pivot3)"
   ]
  },
  {
   "cell_type": "markdown",
   "id": "092f02b5",
   "metadata": {
    "deletable": false,
    "id": "b4bb2ce6"
   },
   "source": [
    "**Вывод:** Данных по всем категориям достаточно для анализа. Больше всего берут кредит под недвижимость, она и по сумме долга самая большая. Однако задержка по выплатам минимальная. Люди осознают важность возврата кредита под залог недвидимости. Иначе обстоят дела с категорией автомобилей - процент просрочки выплат максимальный. На цели образования и покупки авто берут одинаковое количество людей, сумма долго приблизительно одинаковая, но те кто под образование берет, чуть лучше выплачивают долги, однако процент просрочки все же очень высокий.\n",
    "Интересно, что под проведение свадьбы тоже берут достаточно много людей, однако процент просрочки ниже чем под авто или образование."
   ]
  },
  {
   "cell_type": "markdown",
   "id": "b6049d25",
   "metadata": {
    "deletable": false,
    "editable": false,
    "id": "09c3ac4c"
   },
   "source": [
    "#### 3.5 Приведите возможные причины появления пропусков в исходных данных."
   ]
  },
  {
   "cell_type": "markdown",
   "id": "31658c0d",
   "metadata": {
    "deletable": false,
    "id": "9da2ceda"
   },
   "source": [
    "*Ответ:*  невозможность получения информации или обработки, сокрытие данных самим анкетером, неудобство техническое или бумажное при заполнении данных, человеческий фактор внесения данных в базу данных. Возможно слетела база данных при заполнении или ее использовании."
   ]
  },
  {
   "cell_type": "markdown",
   "id": "358060b1",
   "metadata": {
    "deletable": false,
    "editable": false,
    "id": "7b0487d6"
   },
   "source": [
    "#### 3.6 Объясните, почему заполнить пропуски медианным значением — лучшее решение для количественных переменных."
   ]
  },
  {
   "cell_type": "markdown",
   "id": "d2d78399",
   "metadata": {
    "deletable": false,
    "id": "7ecf2b8e"
   },
   "source": [
    "*Ответ:* медиана показывает середину наших данных, на нее не влияют шумы и выбросы, как на среднее значение. Медиана более приближена к реальным данным. Поэтому лучше ее использовать в расчетах."
   ]
  },
  {
   "cell_type": "markdown",
   "id": "1f310a98",
   "metadata": {
    "deletable": false,
    "editable": false,
    "id": "6db5255a"
   },
   "source": [
    "### Шаг 4: общий вывод."
   ]
  },
  {
   "cell_type": "markdown",
   "id": "cf02db4f",
   "metadata": {
    "deletable": false,
    "id": "bad65432"
   },
   "source": [
    "На основе првоеденного анализа данных и построения сводных таблиц, можно сделать следующие выводы:\n",
    "1. Не все выборки и данные можно учитывать, так как есть шум и мало данных по ним.\n",
    "2. Кому предпочительней давать кредиты:\n",
    "- Людям у которых нет детей, они и чаще все берут кредиты, сумма кредитов самая большая, однако доля просрочки меньше, чему  людей с детьми. \n",
    "- Более  ответсвенны в погашении кредита, те кто в разводе, вдовцы или женатые/замужние\n",
    "- Людей с доходом В (200001 <= income <= 1000000) в два раза меньше чем с доходом С (50001 <= income <= 200000), они и в 2, 5 раза меньше имеют сумму кредита, однако их возвратность долга значительно лучше чем у категории С. \n",
    "- Людям под недвижимость. Берут большие суммы, однако задержка по выплатам минимальная. \n",
    "- Под проведение свадьбы тоже берут достаточно много людей, и процент просрочки почти на равне с людьми кто берет под недвижимость.\n",
    "\n",
    "3. Кому давать кредиты с осторожностью: \n",
    "- Людям с детьми в количестве 1-2. Так как имеют высокий процент просрочки.Однако следует учесть, что  те у кого есть два ребенка в два раза меньше берут кредитов, чем те у кого нет детей. \n",
    "- Люди те кто в гражданском браке, не женаты/не замужем более чем на 3% меньше выплачивают реже долги свои, чем те кто в разводе, вдовцы или женатые/замужнии.\n",
    "- Больше всего берут кредиты люди с доходом С - от 50001 до 200000, у них же и самая большая сумма кредита, а также и доля просрочки.\n",
    "- Люди с категорией автомобилей - процент просрочки выплат максимальный. \n",
    "\n",
    "ВАЖНО: \n",
    "это только начало анализа, и данные рекомендации несут пока поверзностый характер. \n"
   ]
  }
 ],
 "metadata": {
  "ExecuteTimeLog": [
   {
    "duration": 55,
    "start_time": "2022-12-10T01:48:52.026Z"
   },
   {
    "duration": 6,
    "start_time": "2022-12-10T01:48:54.822Z"
   },
   {
    "duration": 6,
    "start_time": "2022-12-10T01:48:55.823Z"
   },
   {
    "duration": 6,
    "start_time": "2022-12-10T01:48:58.176Z"
   },
   {
    "duration": 6,
    "start_time": "2022-12-10T01:49:00.332Z"
   },
   {
    "duration": 409,
    "start_time": "2022-12-10T01:49:04.380Z"
   },
   {
    "duration": 19,
    "start_time": "2022-12-10T01:49:05.643Z"
   },
   {
    "duration": 14,
    "start_time": "2022-12-10T01:49:12.434Z"
   },
   {
    "duration": 2,
    "start_time": "2022-12-10T01:49:19.912Z"
   },
   {
    "duration": 24,
    "start_time": "2022-12-10T01:49:35.385Z"
   },
   {
    "duration": 770,
    "start_time": "2022-12-10T10:17:07.513Z"
   },
   {
    "duration": 72,
    "start_time": "2022-12-10T10:17:11.017Z"
   },
   {
    "duration": 22,
    "start_time": "2022-12-10T10:17:12.052Z"
   },
   {
    "duration": 23,
    "start_time": "2022-12-10T10:17:16.072Z"
   },
   {
    "duration": 26,
    "start_time": "2022-12-10T10:17:29.744Z"
   },
   {
    "duration": 96,
    "start_time": "2022-12-10T10:40:11.913Z"
   },
   {
    "duration": 24,
    "start_time": "2022-12-10T10:41:39.662Z"
   },
   {
    "duration": 24,
    "start_time": "2022-12-10T10:42:20.917Z"
   },
   {
    "duration": 26,
    "start_time": "2022-12-10T10:42:40.010Z"
   },
   {
    "duration": 71,
    "start_time": "2022-12-10T10:44:12.908Z"
   },
   {
    "duration": 15,
    "start_time": "2022-12-10T10:44:13.963Z"
   },
   {
    "duration": 16,
    "start_time": "2022-12-10T10:44:17.267Z"
   },
   {
    "duration": 9,
    "start_time": "2022-12-10T10:44:21.048Z"
   },
   {
    "duration": 31,
    "start_time": "2022-12-10T10:44:23.415Z"
   },
   {
    "duration": 4,
    "start_time": "2022-12-10T10:44:25.832Z"
   },
   {
    "duration": 8,
    "start_time": "2022-12-10T10:44:27.148Z"
   },
   {
    "duration": 4,
    "start_time": "2022-12-10T10:44:30.198Z"
   },
   {
    "duration": 6,
    "start_time": "2022-12-10T10:44:32.000Z"
   },
   {
    "duration": 4,
    "start_time": "2022-12-10T10:44:33.928Z"
   },
   {
    "duration": 32,
    "start_time": "2022-12-10T10:44:35.265Z"
   },
   {
    "duration": 9,
    "start_time": "2022-12-10T10:44:37.031Z"
   },
   {
    "duration": 3,
    "start_time": "2022-12-10T10:44:38.892Z"
   },
   {
    "duration": 10,
    "start_time": "2022-12-10T10:44:40.393Z"
   },
   {
    "duration": 21,
    "start_time": "2022-12-10T10:44:42.724Z"
   },
   {
    "duration": 19,
    "start_time": "2022-12-10T10:44:44.149Z"
   },
   {
    "duration": 4,
    "start_time": "2022-12-10T10:44:47.228Z"
   },
   {
    "duration": 10,
    "start_time": "2022-12-10T10:44:49.957Z"
   },
   {
    "duration": 5,
    "start_time": "2022-12-10T10:44:51.432Z"
   },
   {
    "duration": 3,
    "start_time": "2022-12-10T10:44:54.608Z"
   },
   {
    "duration": 8,
    "start_time": "2022-12-10T10:44:56.683Z"
   },
   {
    "duration": 33,
    "start_time": "2022-12-10T10:46:47.624Z"
   },
   {
    "duration": 26,
    "start_time": "2022-12-10T10:53:45.679Z"
   },
   {
    "duration": 41,
    "start_time": "2022-12-10T10:57:09.750Z"
   },
   {
    "duration": 37,
    "start_time": "2022-12-10T10:58:43.298Z"
   },
   {
    "duration": 56,
    "start_time": "2022-12-10T11:00:14.140Z"
   },
   {
    "duration": 25,
    "start_time": "2022-12-10T11:00:33.694Z"
   },
   {
    "duration": 28,
    "start_time": "2022-12-10T11:00:55.944Z"
   },
   {
    "duration": 27,
    "start_time": "2022-12-10T11:02:13.636Z"
   },
   {
    "duration": 716,
    "start_time": "2022-12-10T11:03:58.240Z"
   },
   {
    "duration": 28,
    "start_time": "2022-12-10T11:04:37.080Z"
   },
   {
    "duration": 631,
    "start_time": "2022-12-10T11:06:09.164Z"
   },
   {
    "duration": 818,
    "start_time": "2022-12-10T11:07:06.472Z"
   },
   {
    "duration": 695,
    "start_time": "2022-12-10T11:09:45.990Z"
   },
   {
    "duration": 35,
    "start_time": "2022-12-10T11:13:28.697Z"
   },
   {
    "duration": 34,
    "start_time": "2022-12-10T11:13:56.466Z"
   },
   {
    "duration": 1042,
    "start_time": "2022-12-10T11:15:04.037Z"
   },
   {
    "duration": 797,
    "start_time": "2022-12-10T11:17:06.485Z"
   },
   {
    "duration": 849,
    "start_time": "2022-12-10T11:17:18.119Z"
   },
   {
    "duration": 21,
    "start_time": "2022-12-10T11:17:57.819Z"
   },
   {
    "duration": 25,
    "start_time": "2022-12-10T11:18:15.158Z"
   },
   {
    "duration": 29,
    "start_time": "2022-12-10T11:18:35.159Z"
   },
   {
    "duration": 16,
    "start_time": "2022-12-10T11:19:36.075Z"
   },
   {
    "duration": 47,
    "start_time": "2022-12-10T11:23:01.657Z"
   },
   {
    "duration": 44,
    "start_time": "2022-12-10T11:23:14.303Z"
   },
   {
    "duration": 17,
    "start_time": "2022-12-10T11:23:27.554Z"
   },
   {
    "duration": 9,
    "start_time": "2022-12-10T11:24:04.168Z"
   },
   {
    "duration": 11,
    "start_time": "2022-12-10T11:24:10.005Z"
   },
   {
    "duration": 8,
    "start_time": "2022-12-10T11:24:47.188Z"
   },
   {
    "duration": 13,
    "start_time": "2022-12-10T11:25:03.479Z"
   },
   {
    "duration": 12,
    "start_time": "2022-12-10T11:25:17.699Z"
   },
   {
    "duration": 20,
    "start_time": "2022-12-10T11:26:00.836Z"
   },
   {
    "duration": 9,
    "start_time": "2022-12-10T11:26:19.677Z"
   },
   {
    "duration": 9,
    "start_time": "2022-12-10T11:27:18.273Z"
   },
   {
    "duration": 6,
    "start_time": "2022-12-10T11:29:11.125Z"
   },
   {
    "duration": 10,
    "start_time": "2022-12-10T11:29:13.040Z"
   },
   {
    "duration": 17,
    "start_time": "2022-12-10T11:29:50.549Z"
   },
   {
    "duration": 12,
    "start_time": "2022-12-10T11:29:53.024Z"
   },
   {
    "duration": 20,
    "start_time": "2022-12-10T11:30:08.215Z"
   },
   {
    "duration": 4,
    "start_time": "2022-12-10T11:32:00.493Z"
   },
   {
    "duration": 15,
    "start_time": "2022-12-10T11:32:49.501Z"
   },
   {
    "duration": 22,
    "start_time": "2022-12-10T11:35:58.452Z"
   },
   {
    "duration": 820,
    "start_time": "2022-12-10T11:41:32.050Z"
   },
   {
    "duration": 705,
    "start_time": "2022-12-10T11:43:56.364Z"
   },
   {
    "duration": 24,
    "start_time": "2022-12-10T11:45:50.434Z"
   },
   {
    "duration": 18,
    "start_time": "2022-12-10T11:46:58.306Z"
   },
   {
    "duration": 51,
    "start_time": "2022-12-12T09:46:48.971Z"
   },
   {
    "duration": 6,
    "start_time": "2022-12-12T09:47:10.999Z"
   },
   {
    "duration": 6,
    "start_time": "2022-12-12T09:47:29.093Z"
   },
   {
    "duration": 7,
    "start_time": "2022-12-12T09:47:39.601Z"
   },
   {
    "duration": 529,
    "start_time": "2022-12-12T09:47:52.007Z"
   },
   {
    "duration": 19,
    "start_time": "2022-12-12T09:47:56.717Z"
   },
   {
    "duration": 13,
    "start_time": "2022-12-12T09:48:00.058Z"
   },
   {
    "duration": 9,
    "start_time": "2022-12-12T09:48:02.120Z"
   },
   {
    "duration": 33,
    "start_time": "2022-12-12T09:48:08.571Z"
   },
   {
    "duration": 21,
    "start_time": "2022-12-12T09:48:27.413Z"
   },
   {
    "duration": 47,
    "start_time": "2022-12-12T09:50:26.873Z"
   },
   {
    "duration": 27,
    "start_time": "2022-12-12T09:51:04.511Z"
   },
   {
    "duration": 23,
    "start_time": "2022-12-12T09:51:22.976Z"
   },
   {
    "duration": 22,
    "start_time": "2022-12-12T09:57:53.892Z"
   },
   {
    "duration": 18,
    "start_time": "2022-12-12T09:57:59.893Z"
   },
   {
    "duration": 22,
    "start_time": "2022-12-12T09:58:04.807Z"
   },
   {
    "duration": 22,
    "start_time": "2022-12-12T09:59:29.471Z"
   },
   {
    "duration": 25,
    "start_time": "2022-12-12T10:01:07.147Z"
   },
   {
    "duration": 35,
    "start_time": "2022-12-12T10:04:14.162Z"
   },
   {
    "duration": 18,
    "start_time": "2022-12-12T10:04:30.002Z"
   },
   {
    "duration": 4,
    "start_time": "2022-12-12T10:04:44.346Z"
   },
   {
    "duration": 12,
    "start_time": "2022-12-12T10:04:46.652Z"
   },
   {
    "duration": 25,
    "start_time": "2022-12-12T10:04:56.015Z"
   },
   {
    "duration": 3,
    "start_time": "2022-12-12T10:11:57.588Z"
   },
   {
    "duration": 8,
    "start_time": "2022-12-12T10:11:59.518Z"
   },
   {
    "duration": 29,
    "start_time": "2022-12-12T10:12:17.059Z"
   },
   {
    "duration": 458,
    "start_time": "2023-02-01T15:02:18.645Z"
   },
   {
    "duration": 23,
    "start_time": "2023-02-01T15:02:19.104Z"
   },
   {
    "duration": 28,
    "start_time": "2023-02-01T15:02:19.129Z"
   },
   {
    "duration": 11,
    "start_time": "2023-02-01T15:02:19.159Z"
   },
   {
    "duration": 34,
    "start_time": "2023-02-01T15:02:19.171Z"
   },
   {
    "duration": 4,
    "start_time": "2023-02-01T15:02:19.207Z"
   },
   {
    "duration": 25,
    "start_time": "2023-02-01T15:02:19.212Z"
   },
   {
    "duration": 13,
    "start_time": "2023-02-01T15:02:19.238Z"
   },
   {
    "duration": 11,
    "start_time": "2023-02-01T15:02:19.253Z"
   },
   {
    "duration": 4,
    "start_time": "2023-02-01T15:02:19.267Z"
   },
   {
    "duration": 35,
    "start_time": "2023-02-01T15:02:19.273Z"
   },
   {
    "duration": 27,
    "start_time": "2023-02-01T15:02:19.310Z"
   },
   {
    "duration": 14,
    "start_time": "2023-02-01T15:02:19.338Z"
   },
   {
    "duration": 13,
    "start_time": "2023-02-01T15:02:19.354Z"
   },
   {
    "duration": 21,
    "start_time": "2023-02-01T15:02:19.369Z"
   },
   {
    "duration": 40,
    "start_time": "2023-02-01T15:02:19.391Z"
   },
   {
    "duration": 4,
    "start_time": "2023-02-01T15:02:19.434Z"
   },
   {
    "duration": 22,
    "start_time": "2023-02-01T15:02:19.440Z"
   },
   {
    "duration": 6,
    "start_time": "2023-02-01T15:02:19.464Z"
   },
   {
    "duration": 7,
    "start_time": "2023-02-01T15:02:19.472Z"
   },
   {
    "duration": 11,
    "start_time": "2023-02-01T15:02:19.480Z"
   },
   {
    "duration": 35,
    "start_time": "2023-02-01T15:02:19.492Z"
   },
   {
    "duration": 30,
    "start_time": "2023-02-01T15:02:19.529Z"
   },
   {
    "duration": 24,
    "start_time": "2023-02-01T15:02:19.561Z"
   },
   {
    "duration": 51,
    "start_time": "2023-02-01T15:02:19.587Z"
   }
  ],
  "colab": {
   "name": "dpp_template_part2.ipynb",
   "provenance": []
  },
  "kernelspec": {
   "display_name": "Python 3 (ipykernel)",
   "language": "python",
   "name": "python3"
  },
  "language_info": {
   "codemirror_mode": {
    "name": "ipython",
    "version": 3
   },
   "file_extension": ".py",
   "mimetype": "text/x-python",
   "name": "python",
   "nbconvert_exporter": "python",
   "pygments_lexer": "ipython3",
   "version": "3.9.13"
  },
  "toc": {
   "base_numbering": 1,
   "nav_menu": {},
   "number_sections": true,
   "sideBar": true,
   "skip_h1_title": true,
   "title_cell": "Table of Contents",
   "title_sidebar": "Contents",
   "toc_cell": false,
   "toc_position": {},
   "toc_section_display": true,
   "toc_window_display": false
  }
 },
 "nbformat": 4,
 "nbformat_minor": 5
}
